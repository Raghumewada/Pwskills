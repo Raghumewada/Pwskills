{
 "cells": [
  {
   "cell_type": "markdown",
   "id": "38ae3a6d-9a80-42ab-ad5d-a0b9824f6266",
   "metadata": {},
   "source": [
    "Q1. Describe the decision tree classifier algorithm and how it works to make predictions."
   ]
  },
  {
   "cell_type": "markdown",
   "id": "ff78f48a-5d69-455a-b099-6e8fd7f9792f",
   "metadata": {},
   "source": [
    "A decision tree classifier algorithm creates a model that predicts the value of a target variable by learning simple decision rules inferred from the data features. It works by splitting the data into subsets based on the feature that results in the most significant information gain (or least impurity). Each node represents a feature, each branch represents a decision rule, and each leaf represents an outcome."
   ]
  },
  {
   "cell_type": "code",
   "execution_count": null,
   "id": "0f93a232-2604-4d7d-9f04-5e989ca1112c",
   "metadata": {},
   "outputs": [],
   "source": []
  },
  {
   "cell_type": "markdown",
   "id": "aada9202-411c-41d0-a1b2-5e4b82b462d6",
   "metadata": {},
   "source": [
    "Q2. Provide a step-by-step explanation of the mathematical intuition behind decision tree classification."
   ]
  },
  {
   "cell_type": "markdown",
   "id": "cfa7a466-3074-4ee9-8e41-9ee140450db2",
   "metadata": {},
   "source": [
    "1. Select the Best Feature: Choose the feature that best separates the data into classes, often using metrics like Gini impurity or information gain.\n",
    "2. Split the Data: Divide the dataset into subsets based on the selected feature.\n",
    "3. Repeat Recursively: For each subset, repeat the process, selecting the best feature and splitting the data until a stopping criterion is met (e.g., all instances belong to the same class or a maximum depth is reached).\n",
    "4. Assign Class Labels: Assign the class label that is most frequent in the leaf nodes."
   ]
  },
  {
   "cell_type": "code",
   "execution_count": null,
   "id": "ef8f57a6-8bef-4140-96f0-bbc72bae67c9",
   "metadata": {},
   "outputs": [],
   "source": []
  },
  {
   "cell_type": "markdown",
   "id": "a517920f-2652-4c07-be60-bfa1eb985a28",
   "metadata": {},
   "source": [
    "Q3. Explain how a decision tree classifier can be used to solve a binary classification problem."
   ]
  },
  {
   "cell_type": "markdown",
   "id": "a42635e2-9f7e-470c-a8ba-c29a0848568f",
   "metadata": {},
   "source": [
    "In a binary classification problem, a decision tree classifier splits the data at each node based on the feature that best separates the two classes. The tree continues to split until it reaches the maximum depth or until the leaves are pure (i.e., all samples in a leaf belong to the same class). Each leaf node then assigns one of the two classes as its output."
   ]
  },
  {
   "cell_type": "code",
   "execution_count": null,
   "id": "55fd3983-9d9f-4298-9243-948d461a5b48",
   "metadata": {},
   "outputs": [],
   "source": []
  },
  {
   "cell_type": "markdown",
   "id": "7206f5c0-92fc-46d9-bbaa-a5f4961a6733",
   "metadata": {},
   "source": [
    "Q4. Discuss the geometric intuition behind decision tree classification and how it can be used to make\n",
    "predictions."
   ]
  },
  {
   "cell_type": "markdown",
   "id": "e1ebeeaa-74f3-42a0-bac9-59619fd26c4b",
   "metadata": {},
   "source": [
    "Geometrically, a decision tree splits the feature space into rectangular regions. Each decision boundary is perpendicular to one of the feature axes and corresponds to a split on that feature. For making predictions, the input data is traversed through the tree according to the decision rules until it reaches a leaf node, which provides the predicted class."
   ]
  },
  {
   "cell_type": "code",
   "execution_count": null,
   "id": "1b823d42-cd17-4bad-88bc-8fd9a0e5e251",
   "metadata": {},
   "outputs": [],
   "source": []
  },
  {
   "cell_type": "markdown",
   "id": "4f154c45-3425-4084-83b7-d9285eaa6c87",
   "metadata": {},
   "source": [
    "Q5. Define the confusion matrix and describe how it can be used to evaluate the performance of a\n",
    "classification model."
   ]
  },
  {
   "cell_type": "markdown",
   "id": "8d79b7e9-3430-4b5f-887e-f913045d20fb",
   "metadata": {},
   "source": [
    "A confusion matrix is a table used to evaluate the performance of a classification model. It displays the true positive (TP), false positive (FP), true negative (TN), and false negative (FN) counts. By analyzing these counts, metrics such as accuracy, precision, recall, and F1 score can be calculated to assess the model's performance."
   ]
  },
  {
   "cell_type": "code",
   "execution_count": null,
   "id": "aa0d9736-544a-4210-9657-ee4cee901ed5",
   "metadata": {},
   "outputs": [],
   "source": []
  },
  {
   "cell_type": "markdown",
   "id": "f05b2339-d588-4638-8ea7-43ab7a783970",
   "metadata": {},
   "source": [
    "Q6. Provide an example of a confusion matrix and explain how precision, recall, and F1 score can be\n",
    "calculated from it."
   ]
  },
  {
   "cell_type": "markdown",
   "id": "caa4bbee-19b3-4577-a961-a7b556879193",
   "metadata": {},
   "source": [
    "            Predicted Positive  Predicted Negative\n",
    "Actual Positive        50                   10\n",
    "Actual Negative        5                    100\n",
    "\n",
    "1. Precision:TP/TP+FP =50/50+5=0.91\n",
    "2. Recall : TP/TP+FN=50/50+10=0.83\n",
    "3. F2 Score=2(Precision*Recall)/(Precision+Recall)=2(0.91*0.83)/(0.91+0.83)= 0.87"
   ]
  },
  {
   "cell_type": "code",
   "execution_count": null,
   "id": "5dd4b348-3cb4-418d-810d-6a44d7ca9032",
   "metadata": {},
   "outputs": [],
   "source": []
  },
  {
   "cell_type": "markdown",
   "id": "ef4eb5ec-e20f-4c46-972f-fcab2c82ccd5",
   "metadata": {},
   "source": [
    "Q7. Discuss the importance of choosing an appropriate evaluation metric for a classification problem and\n",
    "explain how this can be done."
   ]
  },
  {
   "cell_type": "markdown",
   "id": "f41ca1b8-08f4-4ab5-bf91-a7beaead3926",
   "metadata": {},
   "source": [
    "Choosing the right evaluation metric is crucial because it aligns the model evaluation with the specific goals and constraints of the problem. Depending on whether false positives or false negatives are more critical, different metrics such as precision, recall, or F1 score may be prioritized. Understanding the business context and consequences of errors helps in selecting the appropriate metric."
   ]
  },
  {
   "cell_type": "code",
   "execution_count": null,
   "id": "f2843f8d-9258-4607-b6df-a81963385e8f",
   "metadata": {},
   "outputs": [],
   "source": []
  },
  {
   "cell_type": "markdown",
   "id": "dde47f17-43e5-42d0-bd47-50ee8fc08f6b",
   "metadata": {},
   "source": [
    "Q8. Provide an example of a classification problem where precision is the most important metric, and\n",
    "explain why."
   ]
  },
  {
   "cell_type": "markdown",
   "id": "394aa9a4-b4df-49aa-9d66-f5f28c1fc727",
   "metadata": {},
   "source": []
  },
  {
   "cell_type": "code",
   "execution_count": null,
   "id": "dae4672e-472b-4f9b-b3b6-c428248e63d9",
   "metadata": {},
   "outputs": [],
   "source": []
  },
  {
   "cell_type": "markdown",
   "id": "b3f8782a-47da-436c-abab-495b8b5156f3",
   "metadata": {},
   "source": [
    "Q9. Provide an example of a classification problem where recall is the most important metric, and explain\n",
    "why"
   ]
  },
  {
   "cell_type": "markdown",
   "id": "845528c2-7f40-433f-9425-d44b89a7dcb9",
   "metadata": {},
   "source": []
  }
 ],
 "metadata": {
  "kernelspec": {
   "display_name": "Python 3 (ipykernel)",
   "language": "python",
   "name": "python3"
  },
  "language_info": {
   "codemirror_mode": {
    "name": "ipython",
    "version": 3
   },
   "file_extension": ".py",
   "mimetype": "text/x-python",
   "name": "python",
   "nbconvert_exporter": "python",
   "pygments_lexer": "ipython3",
   "version": "3.10.8"
  }
 },
 "nbformat": 4,
 "nbformat_minor": 5
}
