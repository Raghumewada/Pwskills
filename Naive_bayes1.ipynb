{
 "cells": [
  {
   "cell_type": "markdown",
   "id": "16f55869-2984-4273-890e-0aa930636721",
   "metadata": {},
   "source": [
    "Q1. What is Bayes' theorem?"
   ]
  },
  {
   "cell_type": "markdown",
   "id": "8282a4aa-9186-488b-a2f3-c7f0e16692df",
   "metadata": {},
   "source": [
    "Bayes' theorem is a fundamental concept in probability theory and statistics that describes the probability of an event based on prior knowledge of conditions related to the event"
   ]
  },
  {
   "cell_type": "raw",
   "id": "b7ef0db8-5902-449d-8ef4-24e8caf13a88",
   "metadata": {},
   "source": []
  },
  {
   "cell_type": "markdown",
   "id": "464a44f5-d8d7-453d-882c-1fa62f06d0e1",
   "metadata": {},
   "source": [
    "Q2. What is the formula for Bayes' theorem?"
   ]
  },
  {
   "cell_type": "markdown",
   "id": "7d2282d8-d4ee-4fa6-8811-926b0fe4e034",
   "metadata": {},
   "source": [
    "he formula for Bayes' theorem is:\n",
    "P(A∣B)=P(B∣A)⋅P(A)/P(B)\n",
    "\n",
    "- P(A∣B) is the posterior probability of event A given event B.\n",
    "- P(B∣A) is the likelihood of event B given event A.\n",
    "- P(A) is the prior probability of event A.\n",
    "- P(B) is the marginal probability of event B."
   ]
  },
  {
   "cell_type": "code",
   "execution_count": null,
   "id": "df25d916-6f49-474d-95f6-ca81e4ace048",
   "metadata": {},
   "outputs": [],
   "source": []
  },
  {
   "cell_type": "markdown",
   "id": "89900dde-52b2-4d09-8bbe-92ade074cd7a",
   "metadata": {},
   "source": [
    "Q3. How is Bayes' theorem used in practice?"
   ]
  },
  {
   "cell_type": "markdown",
   "id": "d08dde80-d333-4a12-80c8-f506f07474ec",
   "metadata": {},
   "source": [
    "Bayes' theorem is used in various fields such as medicine for diagnostic testing, machine learning for classification, spam filtering, and in finance for risk assessment and decision making."
   ]
  },
  {
   "cell_type": "code",
   "execution_count": null,
   "id": "66cc48ed-838e-41f7-95f0-d6c768b582b3",
   "metadata": {},
   "outputs": [],
   "source": []
  },
  {
   "cell_type": "markdown",
   "id": "e853e4fa-98f8-4f30-bd18-062f96ce9bb1",
   "metadata": {},
   "source": [
    "Q4. What is the relationship between Bayes' theorem and conditional probability?"
   ]
  },
  {
   "cell_type": "markdown",
   "id": "881620b5-a2f8-47f3-b3be-39f9d71b418f",
   "metadata": {},
   "source": [
    "Bayes' theorem directly relates to conditional probability, as it provides a way to update the probability of an event (A) based on new evidence (B). It essentially reverses the conditional probability."
   ]
  },
  {
   "cell_type": "code",
   "execution_count": null,
   "id": "aa4ff9ee-0c35-41a5-9ffa-294acc7457fc",
   "metadata": {},
   "outputs": [],
   "source": []
  },
  {
   "cell_type": "markdown",
   "id": "c776203e-0cb7-4fab-8cbb-8d1bdadc9e85",
   "metadata": {},
   "source": [
    "Q5. How do you choose which type of Naive Bayes classifier to use for any given problem?"
   ]
  },
  {
   "cell_type": "markdown",
   "id": "16bec612-e147-4c67-a4c5-d50eceaac126",
   "metadata": {},
   "source": [
    "The choice of Naive Bayes classifier depends on the nature of the data:\n",
    "\n",
    "- Gaussian Naive Bayes: Used when the features are continuous and normally distributed.\n",
    "- Multinomial Naive Bayes: Used for discrete data, often used in text classification.\n",
    "- Bernoulli Naive Bayes: Used for binary/boolean features."
   ]
  },
  {
   "cell_type": "code",
   "execution_count": null,
   "id": "694b342d-b3b5-4ee5-912a-81d40c7be78e",
   "metadata": {},
   "outputs": [],
   "source": []
  },
  {
   "cell_type": "markdown",
   "id": "7decae7f-a827-43f9-bf61-edabbe54f8f4",
   "metadata": {},
   "source": [
    "Q6. Assignment:\n",
    "    \n",
    "    You have a dataset with two features, X1 and X2, and two possible classes, A and B. You want to use Naive\n",
    "Bayes to classify a new instance with features X1 = 3 and X2 = 4. The following table shows the frequency of\n",
    "each feature value for each class:\n",
    "- Class X1=1 X1=2 X1=3 X2=1 X2=2 X2=3 X2=4\n",
    "- A 3 3 4 4 3 3 3\n",
    "- B 2 2 1 2 2 2 3"
   ]
  },
  {
   "cell_type": "markdown",
   "id": "be13f983-55a6-49ca-be36-8e40721e5a47",
   "metadata": {},
   "source": []
  },
  {
   "cell_type": "code",
   "execution_count": null,
   "id": "b80c37b4-f057-4c23-960a-3a6994e94c28",
   "metadata": {},
   "outputs": [],
   "source": []
  },
  {
   "cell_type": "code",
   "execution_count": null,
   "id": "c72a3fee-6eee-41c9-bdab-12ce987ff119",
   "metadata": {},
   "outputs": [],
   "source": []
  },
  {
   "cell_type": "code",
   "execution_count": null,
   "id": "8d1f4111-3765-4c98-a2b2-d58c22fdddc4",
   "metadata": {},
   "outputs": [],
   "source": []
  },
  {
   "cell_type": "code",
   "execution_count": null,
   "id": "9208f415-fc35-402c-8d16-d351023a9a5f",
   "metadata": {},
   "outputs": [],
   "source": []
  },
  {
   "cell_type": "code",
   "execution_count": null,
   "id": "3e945a1a-5180-4aa0-a0d3-94beb94072b2",
   "metadata": {},
   "outputs": [],
   "source": []
  }
 ],
 "metadata": {
  "kernelspec": {
   "display_name": "Python 3 (ipykernel)",
   "language": "python",
   "name": "python3"
  },
  "language_info": {
   "codemirror_mode": {
    "name": "ipython",
    "version": 3
   },
   "file_extension": ".py",
   "mimetype": "text/x-python",
   "name": "python",
   "nbconvert_exporter": "python",
   "pygments_lexer": "ipython3",
   "version": "3.10.8"
  }
 },
 "nbformat": 4,
 "nbformat_minor": 5
}
