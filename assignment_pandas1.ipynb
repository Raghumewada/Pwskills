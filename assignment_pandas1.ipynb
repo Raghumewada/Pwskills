{
 "cells": [
  {
   "cell_type": "markdown",
   "id": "039fd330-e526-4e9e-a5d7-3225047cc3cc",
   "metadata": {},
   "source": [
    "Q1. Create a Pandas Series that contains the following data: 4, 8, 15, 16, 23, and 42. Then, print the series."
   ]
  },
  {
   "cell_type": "code",
   "execution_count": 1,
   "id": "fa2e1ad9-1a10-47fb-8bd1-b02e7b7a44fb",
   "metadata": {},
   "outputs": [],
   "source": [
    "import pandas as pd"
   ]
  },
  {
   "cell_type": "code",
   "execution_count": 7,
   "id": "c9665e61-f356-4bd2-8be1-94596179dbfa",
   "metadata": {},
   "outputs": [
    {
     "data": {
      "text/plain": [
       "0     4\n",
       "1     8\n",
       "2    15\n",
       "3    16\n",
       "4    23\n",
       "5    42\n",
       "dtype: int64"
      ]
     },
     "execution_count": 7,
     "metadata": {},
     "output_type": "execute_result"
    }
   ],
   "source": [
    "s1=pd.Series([4,8,15,16,23,42])\n",
    "s1"
   ]
  },
  {
   "cell_type": "markdown",
   "id": "c8e842a2-82bb-4564-a455-8c38ef04e92e",
   "metadata": {},
   "source": [
    "Q2. Create a variable of list type containing 10 elements in it, and apply pandas.Series function on the\n",
    "variable print it."
   ]
  },
  {
   "cell_type": "code",
   "execution_count": 9,
   "id": "d925c34b-1378-4c85-b0ac-640a7e5a7ebb",
   "metadata": {},
   "outputs": [
    {
     "data": {
      "text/plain": [
       "0    1\n",
       "1    2\n",
       "2    3\n",
       "3    4\n",
       "4    5\n",
       "5    6\n",
       "6    7\n",
       "7    8\n",
       "8    9\n",
       "9    5\n",
       "dtype: int64"
      ]
     },
     "execution_count": 9,
     "metadata": {},
     "output_type": "execute_result"
    }
   ],
   "source": [
    "list=[1,2,3,4,5,6,7,8,9,5]\n",
    "s2=pd.Series(list)\n",
    "s2"
   ]
  },
  {
   "cell_type": "markdown",
   "id": "410d40aa-c7e1-4160-aeb6-cce83445220a",
   "metadata": {},
   "source": [
    "Q3. Create a Pandas DataFrame that contains the following data:\n",
    "\n",
    "Then, print the DataFrame.\n",
    "Name\n",
    "Alice\n",
    "Bob\n",
    "Claire\n",
    "\n",
    "Age\n",
    "25\n",
    "30\n",
    "27\n",
    "\n",
    "Gender\n",
    "Female\n",
    "Male\n",
    "Female"
   ]
  },
  {
   "cell_type": "code",
   "execution_count": 10,
   "id": "460ea0cd-7aec-4838-96d2-8f89ec00c7f0",
   "metadata": {},
   "outputs": [],
   "source": [
    "d1={\"name\":[\"Alice\",\"Bob\",\"Clire\"],\"Age\":[25,30,27],\"Gender\":[\"Female\",\"Male\",\"Female\"]}"
   ]
  },
  {
   "cell_type": "code",
   "execution_count": 12,
   "id": "3a0014df-5903-45f2-99fb-f84a16a7c84c",
   "metadata": {},
   "outputs": [
    {
     "data": {
      "text/html": [
       "<div>\n",
       "<style scoped>\n",
       "    .dataframe tbody tr th:only-of-type {\n",
       "        vertical-align: middle;\n",
       "    }\n",
       "\n",
       "    .dataframe tbody tr th {\n",
       "        vertical-align: top;\n",
       "    }\n",
       "\n",
       "    .dataframe thead th {\n",
       "        text-align: right;\n",
       "    }\n",
       "</style>\n",
       "<table border=\"1\" class=\"dataframe\">\n",
       "  <thead>\n",
       "    <tr style=\"text-align: right;\">\n",
       "      <th></th>\n",
       "      <th>name</th>\n",
       "      <th>Age</th>\n",
       "      <th>Gender</th>\n",
       "    </tr>\n",
       "  </thead>\n",
       "  <tbody>\n",
       "    <tr>\n",
       "      <th>0</th>\n",
       "      <td>Alice</td>\n",
       "      <td>25</td>\n",
       "      <td>Female</td>\n",
       "    </tr>\n",
       "    <tr>\n",
       "      <th>1</th>\n",
       "      <td>Bob</td>\n",
       "      <td>30</td>\n",
       "      <td>Male</td>\n",
       "    </tr>\n",
       "    <tr>\n",
       "      <th>2</th>\n",
       "      <td>Clire</td>\n",
       "      <td>27</td>\n",
       "      <td>Female</td>\n",
       "    </tr>\n",
       "  </tbody>\n",
       "</table>\n",
       "</div>"
      ],
      "text/plain": [
       "    name  Age  Gender\n",
       "0  Alice   25  Female\n",
       "1    Bob   30    Male\n",
       "2  Clire   27  Female"
      ]
     },
     "execution_count": 12,
     "metadata": {},
     "output_type": "execute_result"
    }
   ],
   "source": [
    "data=pd.DataFrame(d1)\n",
    "data"
   ]
  },
  {
   "cell_type": "markdown",
   "id": "78c3a320-e11a-44ca-a5ad-22b146204ae4",
   "metadata": {},
   "source": [
    "Q4. What is ‘DataFrame’ in pandas and how is it different from pandas.series? Explain with an example."
   ]
  },
  {
   "cell_type": "markdown",
   "id": "c73b680b-8a00-4922-9ac0-cab3f85c6be8",
   "metadata": {},
   "source": [
    "In pandas, a DataFrame is a two-dimensional, tabular data structure that is used for data manipulation and analysis. A DataFrame consists of rows and columns, where each column can have a different data type (e.g., integers, strings, floats) and each row represents a record or observation\n",
    "\n",
    "On the other hand, a pandas.Series is a one-dimensional labeled array. It can be thought of as a single column from a DataFrame. Each element in a Series is indexed, which means you can access the data using labels or integer-based indexing.\n"
   ]
  },
  {
   "cell_type": "code",
   "execution_count": 2,
   "id": "029b9462-2c1f-43da-9cbb-35f64aa093f1",
   "metadata": {},
   "outputs": [
    {
     "name": "stdout",
     "output_type": "stream",
     "text": [
      "DataFrame\n",
      "      Name  Age\n",
      "0    Alice   25\n",
      "1      Bob   30\n",
      "2  Charlie   35\n",
      "Series\n",
      "0    25\n",
      "1    30\n",
      "2    35\n",
      "dtype: int64\n"
     ]
    }
   ],
   "source": [
    "import pandas as pd\n",
    "\n",
    "# Creating a DataFrame\n",
    "data = {'Name': ['Alice', 'Bob', 'Charlie'],\n",
    "        'Age': [25, 30, 35]}\n",
    "df = pd.DataFrame(data)\n",
    "\n",
    "# df is a DataFrame with two columns (Name and Age)\n",
    "print(\"DataFrame\")\n",
    "print(df)\n",
    "# Creating a Series\n",
    "ages = pd.Series([25, 30, 35])\n",
    "\n",
    "# ages is a Series with one column of data\n",
    "print(\"Series\")\n",
    "print(ages)\n"
   ]
  },
  {
   "cell_type": "markdown",
   "id": "f6fb3333-e239-42cf-942a-28fccda41403",
   "metadata": {},
   "source": [
    "Q5. What are some common functions you can use to manipulate data in a Pandas DataFrame? Can\n",
    "you give an example of when you might use one of these functions?"
   ]
  },
  {
   "cell_type": "markdown",
   "id": "1887ab40-e23e-4ad8-b8cb-323751a156f7",
   "metadata": {},
   "source": [
    "Filtering Data:\n",
    "\n",
    "Use df[df['column_name'] > value] to filter rows based on a condition. For instance, filtering employees with salaries above a certain threshold.\n",
    "Selecting Columns:\n",
    "\n",
    "Use df['column_name'] to select a single column. For example, extracting a specific feature or attribute.\n",
    "Sorting Data:\n",
    "\n",
    "Use df.sort_values(by='column_name') to sort the DataFrame. Useful when arranging data in ascending or descending order.\n",
    "Grouping and Aggregating Data:\n",
    "\n",
    "Use df.groupby('column_name').agg({'other_column': 'function'}) to group and perform aggregate calculations, like finding the mean salary for each department.\n",
    "Adding and Removing Columns:\n",
    "\n",
    "Use df['new_column'] = values to add a new column or df.drop('column_name', axis=1) to remove a column. This can help in feature engineering or data cleanup.\n",
    "Handling Missing Data:\n",
    "\n",
    "Use df.dropna() to remove rows with missing values or df.fillna(value) to fill missing values. Useful for data preprocessing and cleaning.\n",
    "Merging and Joining Data:\n",
    "\n",
    "Use pd.concat([df1, df2]) to concatenate DataFrames vertically or pd.merge(df1, df2, on='key') to merge DataFrames based on a common key. This is handy for combining related datasets.\n",
    "These functions are essential for data manipulation and analysis in Pandas DataFrames and can be applied in various data analysis and data preprocessing tasks.\n"
   ]
  },
  {
   "cell_type": "markdown",
   "id": "8e8c26f4-a3f7-4732-96a7-8c92a57fcebc",
   "metadata": {},
   "source": [
    "Q6. Which of the following is mutable in nature Series, DataFrame, Panel?"
   ]
  },
  {
   "cell_type": "markdown",
   "id": "1ecc2f0a-bac9-4981-b187-77c249ef0edb",
   "metadata": {},
   "source": [
    "In pandas, the Series and DataFrame are mutable, while the Panel is not."
   ]
  },
  {
   "cell_type": "markdown",
   "id": "f2f87f43-f4a8-4b4e-bca5-2a3d9d7893b4",
   "metadata": {},
   "source": [
    "Q7. Create a DataFrame using multiple Series. Explain with an example."
   ]
  },
  {
   "cell_type": "code",
   "execution_count": 7,
   "id": "4384dad6-60ee-4bc7-9215-174690e5aaf4",
   "metadata": {},
   "outputs": [
    {
     "data": {
      "text/html": [
       "<div>\n",
       "<style scoped>\n",
       "    .dataframe tbody tr th:only-of-type {\n",
       "        vertical-align: middle;\n",
       "    }\n",
       "\n",
       "    .dataframe tbody tr th {\n",
       "        vertical-align: top;\n",
       "    }\n",
       "\n",
       "    .dataframe thead th {\n",
       "        text-align: right;\n",
       "    }\n",
       "</style>\n",
       "<table border=\"1\" class=\"dataframe\">\n",
       "  <thead>\n",
       "    <tr style=\"text-align: right;\">\n",
       "      <th></th>\n",
       "      <th>Column1</th>\n",
       "      <th>Column</th>\n",
       "    </tr>\n",
       "  </thead>\n",
       "  <tbody>\n",
       "    <tr>\n",
       "      <th>0</th>\n",
       "      <td>1</td>\n",
       "      <td>43</td>\n",
       "    </tr>\n",
       "    <tr>\n",
       "      <th>1</th>\n",
       "      <td>2</td>\n",
       "      <td>65</td>\n",
       "    </tr>\n",
       "    <tr>\n",
       "      <th>2</th>\n",
       "      <td>3</td>\n",
       "      <td>46</td>\n",
       "    </tr>\n",
       "    <tr>\n",
       "      <th>3</th>\n",
       "      <td>4</td>\n",
       "      <td>32</td>\n",
       "    </tr>\n",
       "    <tr>\n",
       "      <th>4</th>\n",
       "      <td>5</td>\n",
       "      <td>99</td>\n",
       "    </tr>\n",
       "  </tbody>\n",
       "</table>\n",
       "</div>"
      ],
      "text/plain": [
       "   Column1  Column\n",
       "0        1      43\n",
       "1        2      65\n",
       "2        3      46\n",
       "3        4      32\n",
       "4        5      99"
      ]
     },
     "execution_count": 7,
     "metadata": {},
     "output_type": "execute_result"
    }
   ],
   "source": [
    "import pandas as pd\n",
    "\n",
    "s1=pd.Series([1,2,3,4,5])\n",
    "s2=pd.Series([43,65,46,32,99])\n",
    "\n",
    "df=pd.DataFrame({'Column1':s1,'Column':s2})\n",
    "df"
   ]
  },
  {
   "cell_type": "code",
   "execution_count": null,
   "id": "2df822b6-60b5-483e-ac1c-0ff4e2268a2d",
   "metadata": {},
   "outputs": [],
   "source": []
  }
 ],
 "metadata": {
  "kernelspec": {
   "display_name": "Python 3 (ipykernel)",
   "language": "python",
   "name": "python3"
  },
  "language_info": {
   "codemirror_mode": {
    "name": "ipython",
    "version": 3
   },
   "file_extension": ".py",
   "mimetype": "text/x-python",
   "name": "python",
   "nbconvert_exporter": "python",
   "pygments_lexer": "ipython3",
   "version": "3.10.8"
  }
 },
 "nbformat": 4,
 "nbformat_minor": 5
}
