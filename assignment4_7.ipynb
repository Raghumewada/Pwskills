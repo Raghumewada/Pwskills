{
 "cells": [
  {
   "cell_type": "markdown",
   "id": "314cc2d4-10a4-48fa-8fe3-b714dbc7fc73",
   "metadata": {},
   "source": [
    "Q1. What is Abstraction in OOps? Explain with an example."
   ]
  },
  {
   "cell_type": "markdown",
   "id": "6947ccc9-a177-41aa-a47b-b9e63f020053",
   "metadata": {},
   "source": [
    "Abstraction in object-oriented programming (OOP) is a fundamental concept that involves simplifying complex reality by modeling classes based on the essential properties and behaviors an object should possess, while hiding the unnecessary details. It allows you to focus on what an object does, rather than how it does it.\n",
    "\n",
    "example:-Imagine you are designing a software system to model cars. A car in real life is a complex machine with many parts and functions. However, for our abstraction, we can focus on the essential characteristics of a car without getting into the intricate details."
   ]
  },
  {
   "cell_type": "markdown",
   "id": "07680900-ec57-4304-b254-dd8f123acbab",
   "metadata": {},
   "source": [
    "Q2. Differentiate between Abstraction and Encapsulation. Explain with an example."
   ]
  },
  {
   "cell_type": "markdown",
   "id": "cd156bf2-7439-4f0e-ae91-4e4f55c4227f",
   "metadata": {},
   "source": [
    "Abstraction is about showing only the necessary features of an object while hiding the unnecessary details. It focuses on what an object does.\n",
    "\n",
    "Encapsulation is about bundling data (attributes) and methods (functions) into a single unit (class) and controlling access to that unit. It focuses on how an object works and protects its internal state.\n",
    "\n",
    "example:-\n",
    "Abstraction: Defining a \"Car\" class with properties like color and methods like accelerate, abstracting away the engine's complexity.\n",
    "\n",
    "\n",
    "Encapsulation: Using private attributes and public methods in a \"Person\" class to control access to a person's name and age, ensuring data integrity."
   ]
  },
  {
   "cell_type": "markdown",
   "id": "d86af1a5-0bb0-4881-9d84-e4465f825b0f",
   "metadata": {},
   "source": [
    "Q3. What is abc module in python? Why is it used?"
   ]
  },
  {
   "cell_type": "markdown",
   "id": "043e4cde-fc06-40e6-9110-e59c7abd7ddc",
   "metadata": {},
   "source": [
    "The abc module in Python, which stands for \"Abstract Base Classes,\" is used to define abstract classes and enforce the implementation of certain methods in derived classes. It helps ensure that subclasses adhere to a common interface and provides a way to create a hierarchy of classes with shared behaviors. It promotes code clarity, consistency, and error prevention by requiring specific methods to be implemented in subclasses."
   ]
  },
  {
   "cell_type": "markdown",
   "id": "6730b446-873e-4256-be60-910fb5590c58",
   "metadata": {},
   "source": [
    "Q4. How can we achieve data abstraction?"
   ]
  },
  {
   "cell_type": "markdown",
   "id": "bd90ee24-fc9b-426e-a6ab-905312d7ccde",
   "metadata": {},
   "source": [
    "Data abstraction in programming can be achieved through various techniques, with object-oriented programming (OOP) being one of the most common approaches\n",
    "\n",
    "Use of Classes and Objects (OOP): In OOP languages like Python, Java, and C++, you can define classes to encapsulate data (attributes) and behaviors (methods) related to a particular concept or entity. Objects are instances of these classes, allowing you to create abstract data structures.\n",
    "\n",
    "Encapsulation: Encapsulation is a key principle of data abstraction. It involves bundling data (attributes) and the methods (functions) that operate on that data into a single unit (class). By controlling access to the data (e.g., using access modifiers like private, protected), you can hide the internal representation of the object.\n",
    "\n",
    "Abstract Classes and Interfaces: In some languages (e.g., Python with the abc module, Java with interfaces), you can define abstract classes and interfaces that specify a common set of methods that subclasses must implement. This enforces a contract for data and behavior.\n",
    "\n"
   ]
  },
  {
   "cell_type": "code",
   "execution_count": null,
   "id": "4d92daca-7e07-4eb5-a7cf-850835b9196f",
   "metadata": {},
   "outputs": [],
   "source": []
  }
 ],
 "metadata": {
  "kernelspec": {
   "display_name": "Python 3 (ipykernel)",
   "language": "python",
   "name": "python3"
  },
  "language_info": {
   "codemirror_mode": {
    "name": "ipython",
    "version": 3
   },
   "file_extension": ".py",
   "mimetype": "text/x-python",
   "name": "python",
   "nbconvert_exporter": "python",
   "pygments_lexer": "ipython3",
   "version": "3.10.8"
  }
 },
 "nbformat": 4,
 "nbformat_minor": 5
}
