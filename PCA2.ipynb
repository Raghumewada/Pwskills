{
 "cells": [
  {
   "cell_type": "markdown",
   "id": "21cd2bc3-23fa-4b20-88f7-8e2a38a5f5ff",
   "metadata": {},
   "source": [
    "Q1. What is a projection and how is it used in PCA?"
   ]
  },
  {
   "cell_type": "markdown",
   "id": "befb0c67-68fd-45c5-8169-b6702d921844",
   "metadata": {},
   "source": [
    "- Definition: A projection is the transformation of data from its original space to a new space defined by principal components.\n",
    "- Usage in PCA: Data points are projected onto the principal components, which are the directions of maximum variance."
   ]
  },
  {
   "cell_type": "code",
   "execution_count": null,
   "id": "7bb0799c-02c5-41cb-b172-64d488b4c6d5",
   "metadata": {},
   "outputs": [],
   "source": []
  },
  {
   "cell_type": "markdown",
   "id": "4f35c917-b6af-4439-808e-0ca2458e51f1",
   "metadata": {},
   "source": [
    "Q2. How does the optimization problem in PCA work, and what is it trying to achieve?"
   ]
  },
  {
   "cell_type": "markdown",
   "id": "15f69950-eefc-4aee-9e84-089c5042bfae",
   "metadata": {},
   "source": [
    "- Goal: To maximize the variance of the projected data.\n",
    "- Process: Finds the eigenvectors of the covariance matrix corresponding to the largest eigenvalues. These eigenvectors define the principal components."
   ]
  },
  {
   "cell_type": "code",
   "execution_count": null,
   "id": "783cb9d3-3d43-450d-81e5-a4c83d29d9d0",
   "metadata": {},
   "outputs": [],
   "source": []
  },
  {
   "cell_type": "markdown",
   "id": "fb42ab8a-561a-48c2-9593-bc6ea93c5e24",
   "metadata": {},
   "source": [
    "Q3. What is the relationship between covariance matrices and PCA?"
   ]
  },
  {
   "cell_type": "markdown",
   "id": "98f5a63c-5438-4a3e-908e-f66ca6984a0d",
   "metadata": {},
   "source": [
    "- Relationship: The covariance matrix of the data is used to identify the directions of maximum variance.\n",
    "- Role in PCA: Eigenvectors of the covariance matrix represent the principal components, and eigenvalues indicate the amount of variance along those components."
   ]
  },
  {
   "cell_type": "code",
   "execution_count": null,
   "id": "fad8869d-ca12-4864-9d9b-78d2f8217e36",
   "metadata": {},
   "outputs": [],
   "source": []
  },
  {
   "cell_type": "markdown",
   "id": "fea2b932-9f11-4d12-aba3-ec01f27a5046",
   "metadata": {},
   "source": [
    "Q4. How does the choice of number of principal components impact the performance of PCA?"
   ]
  },
  {
   "cell_type": "markdown",
   "id": "aa8cc495-46fe-4768-b8b1-27f3932c4f99",
   "metadata": {},
   "source": [
    "- Impact:\n",
    "    - Too Few: May miss important variance in the data.\n",
    "    - Too Many: May include noise and reduce the benefits of dimensionality reduction.\n",
    "- Performance: Balancing the number of components helps retain meaningful information while reducing dimensionality."
   ]
  },
  {
   "cell_type": "code",
   "execution_count": null,
   "id": "cc14399f-7522-45a2-ad10-b738b2b55c76",
   "metadata": {},
   "outputs": [],
   "source": []
  },
  {
   "cell_type": "markdown",
   "id": "909e471b-789c-4c87-9d6a-2c47d80a95d2",
   "metadata": {},
   "source": [
    "Q5. How can PCA be used in feature selection, and what are the benefits of using it for this purpose?"
   ]
  },
  {
   "cell_type": "markdown",
   "id": "becfa0d3-59e6-40ba-82b9-98dce88982df",
   "metadata": {},
   "source": [
    "- Method: PCA reduces the feature space to a smaller set of uncorrelated components.\n",
    "- Benefits:\n",
    "    - Dimensionality Reduction: Simplifies models and reduces overfitting.\n",
    "    - Noise Reduction: Eliminates less important features."
   ]
  },
  {
   "cell_type": "code",
   "execution_count": null,
   "id": "f8f05562-8562-4aee-a4dd-f956e21126ac",
   "metadata": {},
   "outputs": [],
   "source": []
  },
  {
   "cell_type": "markdown",
   "id": "81fbcee3-e49b-4d55-b2c6-56b62250dd9e",
   "metadata": {},
   "source": [
    "Q6. What are some common applications of PCA in data science and machine learning?"
   ]
  },
  {
   "cell_type": "markdown",
   "id": "969e98a8-cac6-4adf-a55a-6765d4290732",
   "metadata": {},
   "source": [
    "- Data Visualization: Reducing dimensions for plotting.\n",
    "- Noise Filtering: Removing noise from data.\n",
    "- Feature Extraction: Creating new features for machine learning models.\n",
    "- Image Compression: Reducing image data while retaining important information."
   ]
  },
  {
   "cell_type": "code",
   "execution_count": null,
   "id": "08b0097d-92d1-4701-a33d-e5452443e0a5",
   "metadata": {},
   "outputs": [],
   "source": []
  },
  {
   "cell_type": "markdown",
   "id": "66b701ec-9aa9-40af-b5cc-47ff226fe341",
   "metadata": {},
   "source": [
    "Q7.What is the relationship between spread and variance in PCA?"
   ]
  },
  {
   "cell_type": "markdown",
   "id": "b7bf4fab-fcc1-4664-8134-44c536992864",
   "metadata": {},
   "source": [
    "- Spread: Refers to how data points are distributed in the feature space.\n",
    "- Variance: Measures the spread of data points along each dimension.\n",
    "- Relationship: PCA identifies directions (principal components) where the variance (spread) is maximized."
   ]
  },
  {
   "cell_type": "code",
   "execution_count": null,
   "id": "650824c9-99f7-4042-b073-71e9c7f336ae",
   "metadata": {},
   "outputs": [],
   "source": []
  },
  {
   "cell_type": "markdown",
   "id": "019585c0-b5fa-4d6a-8ece-80d823ec4cbe",
   "metadata": {},
   "source": [
    "Q8. How does PCA use the spread and variance of the data to identify principal components?"
   ]
  },
  {
   "cell_type": "markdown",
   "id": "ec9b63c8-9857-4423-82df-ca15f13966d5",
   "metadata": {},
   "source": []
  },
  {
   "cell_type": "code",
   "execution_count": null,
   "id": "6cf68d35-7876-44d1-89cd-7d1e87aa5eef",
   "metadata": {},
   "outputs": [],
   "source": []
  },
  {
   "cell_type": "markdown",
   "id": "ede5efbb-0a63-4c30-a75d-d2556917e44e",
   "metadata": {},
   "source": [
    "Q9. How does PCA handle data with high variance in some dimensions but low variance in others?"
   ]
  },
  {
   "cell_type": "markdown",
   "id": "74231a9c-0c2e-4e19-8726-95d7b88b7abc",
   "metadata": {},
   "source": []
  }
 ],
 "metadata": {
  "kernelspec": {
   "display_name": "Python 3 (ipykernel)",
   "language": "python",
   "name": "python3"
  },
  "language_info": {
   "codemirror_mode": {
    "name": "ipython",
    "version": 3
   },
   "file_extension": ".py",
   "mimetype": "text/x-python",
   "name": "python",
   "nbconvert_exporter": "python",
   "pygments_lexer": "ipython3",
   "version": "3.10.8"
  }
 },
 "nbformat": 4,
 "nbformat_minor": 5
}
