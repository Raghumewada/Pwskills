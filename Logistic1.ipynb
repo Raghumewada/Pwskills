{
 "cells": [
  {
   "cell_type": "markdown",
   "id": "feeb3f36-133f-4473-be10-f699494e6fa3",
   "metadata": {},
   "source": [
    "Q1. Difference Between Linear and Logistic Regression"
   ]
  },
  {
   "cell_type": "markdown",
   "id": "9a844584-8955-4f69-883d-94677a921773",
   "metadata": {},
   "source": [
    "Linear Regression:\n",
    "\n",
    "- Purpose: Predicts continuous numerical outcomes.\n",
    "- Output: Continuous value.\n",
    "- Example: Predicting house prices based on features like size, location, and number of rooms.\n",
    "\n",
    "Logistic Regression:\n",
    "\n",
    "- Purpose: Predicts categorical outcomes (usually binary).\n",
    "- Output: Probability (between 0 and 1) that a given instance belongs to a certain class.\n",
    "- Example: Determining whether an email is spam or not based on word frequencies and other features."
   ]
  },
  {
   "cell_type": "raw",
   "id": "d01cc30d-c2d2-4fb8-b42e-cffa6c70bac1",
   "metadata": {},
   "source": []
  },
  {
   "cell_type": "markdown",
   "id": "40636d35-3a63-481e-a46d-0790b8cc0a86",
   "metadata": {},
   "source": [
    "Q2. Cost Function in Logistic Regression and Optimization"
   ]
  },
  {
   "cell_type": "markdown",
   "id": "fc32124e-b398-42a5-b2f5-0256c8292e61",
   "metadata": {},
   "source": [
    "Cost Function:\n",
    "\n",
    "- The cost function used is the log loss.\n",
    "- Formula: −1/𝑚∑[𝑦𝑖log(𝑦𝑖^)+(1−𝑦𝑖)log(1−𝑦𝑖^)]\\\n",
    "\n",
    "Optimization:\n",
    "\n",
    "- The cost function is optimized using gradient descent or variations such as stochastic gradient descent."
   ]
  },
  {
   "cell_type": "raw",
   "id": "0a1ad672-47cc-46f5-ad05-a237751fa6a3",
   "metadata": {},
   "source": []
  },
  {
   "cell_type": "markdown",
   "id": "2c4b4e5b-615b-480d-a8e6-302e1c161d20",
   "metadata": {},
   "source": [
    "Q3. Regularization in Logistic Regression"
   ]
  },
  {
   "cell_type": "markdown",
   "id": "6d48db15-5cf7-4ed1-9070-0ce60140ed9b",
   "metadata": {},
   "source": [
    "- Regularization involves adding a penalty to the cost function to prevent overfitting by discouraging complex models.\n",
    "\n",
    "- Types:\n",
    "    - L1 Regularization (Lasso): Adds the absolute value of coefficients to the cost function.\n",
    "    - L2 Regularization (Ridge): Adds the squared value of coefficients to the cost function.\n",
    "    \n",
    "Benefit:\n",
    "\n",
    "- Prevents overfitting by penalizing large coefficients, leading to simpler models that generalize better."
   ]
  },
  {
   "cell_type": "raw",
   "id": "293f80eb-4b5a-4b96-903f-804458c33740",
   "metadata": {},
   "source": []
  },
  {
   "cell_type": "markdown",
   "id": "791672cc-c0ad-40ae-9be1-64e91208e35a",
   "metadata": {},
   "source": [
    "Q4. ROC Curve"
   ]
  },
  {
   "cell_type": "markdown",
   "id": "22a685fa-6360-40b4-bed8-03589f9f4367",
   "metadata": {},
   "source": [
    "ROC Curve:\n",
    "\n",
    "- A graphical plot that illustrates the diagnostic ability of a binary classifier system.\n",
    "- Axes:\n",
    "    - True Positive Rate (TPR) vs. False Positive Rate (FPR).\n",
    "\n",
    "Usage:\n",
    "\n",
    "- Helps in evaluating the performance of a logistic regression model by showing the trade-off between sensitivity and specificity.\n",
    "- The Area Under the ROC Curve (AUC) is a single metric to summarize the performance."
   ]
  },
  {
   "cell_type": "raw",
   "id": "e7d8ef5b-1dcd-4829-8dc1-58548ccd91db",
   "metadata": {},
   "source": []
  },
  {
   "cell_type": "markdown",
   "id": "4137f7ce-87e6-4cb4-9d99-5f8640864900",
   "metadata": {},
   "source": [
    "Q5. Feature Selection Techniques"
   ]
  },
  {
   "cell_type": "markdown",
   "id": "a09acf7e-b678-4c32-95e8-f292036e0a2e",
   "metadata": {},
   "source": [
    "Common Techniques:\n",
    "\n",
    "- Univariate Selection: Statistical tests to select features with the strongest relationship with the output variable.\n",
    "- Recursive Feature Elimination (RFE): Recursively removes less significant features and builds the model until the desired number of features is reached.\n",
    "- Regularization (L1): Automatically performs feature selection by shrinking less important feature coefficients to zero.\n",
    "\n",
    "Benefits:\n",
    "\n",
    "- Reduces overfitting, improves model performance, and decreases training time."
   ]
  },
  {
   "cell_type": "raw",
   "id": "40eab39d-6514-448c-81de-c8e35eb1445e",
   "metadata": {},
   "source": []
  },
  {
   "cell_type": "markdown",
   "id": "ea4fbc45-2d29-4801-8385-94930c5d8239",
   "metadata": {},
   "source": [
    "Q6. Handling Imbalanced Datasets"
   ]
  },
  {
   "cell_type": "markdown",
   "id": "05ac73f6-4966-4573-8b6d-5270dc373392",
   "metadata": {},
   "source": [
    "Strategies:\n",
    "\n",
    "1. Resampling Techniques:\n",
    "    - Oversampling: Increasing the number of instances in the minority class.\n",
    "    - Undersampling: Decreasing the number of instances in the majority class.\n",
    "Synthetic Data Generation: Techniques like SMOTE (Synthetic Minority Over-sampling Technique) create synthetic examples for the minority class.\n",
    "Class Weights: Adjusting the weights of classes to balance the impact of each class during training."
   ]
  },
  {
   "cell_type": "raw",
   "id": "5b853de8-9769-49f7-a15f-861d22e7faf2",
   "metadata": {},
   "source": []
  },
  {
   "cell_type": "markdown",
   "id": "b6e94a40-920f-4aa7-bf51-e0c7ff84f34d",
   "metadata": {},
   "source": []
  },
  {
   "cell_type": "markdown",
   "id": "2cbf3f74-9b36-4936-973a-8d4c315875f6",
   "metadata": {},
   "source": []
  },
  {
   "cell_type": "raw",
   "id": "9f56e045-3ce4-4af7-b23f-c0dccee8d52a",
   "metadata": {},
   "source": []
  },
  {
   "cell_type": "code",
   "execution_count": null,
   "id": "6e83777c-1d1e-4f95-8175-ff3acdda292e",
   "metadata": {},
   "outputs": [],
   "source": []
  }
 ],
 "metadata": {
  "kernelspec": {
   "display_name": "Python 3 (ipykernel)",
   "language": "python",
   "name": "python3"
  },
  "language_info": {
   "codemirror_mode": {
    "name": "ipython",
    "version": 3
   },
   "file_extension": ".py",
   "mimetype": "text/x-python",
   "name": "python",
   "nbconvert_exporter": "python",
   "pygments_lexer": "ipython3",
   "version": "3.10.8"
  }
 },
 "nbformat": 4,
 "nbformat_minor": 5
}
