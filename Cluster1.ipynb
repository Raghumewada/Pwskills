{
 "cells": [
  {
   "cell_type": "markdown",
   "id": "ad4663d8-1b7a-4509-8586-daf85e5c737f",
   "metadata": {},
   "source": [
    "Q1. What are the different types of clustering algorithms, and how do they differ in terms of their approach\n",
    "and underlying assumptions?"
   ]
  },
  {
   "cell_type": "markdown",
   "id": "6656fb32-450d-4776-bb44-b35067bb8adb",
   "metadata": {},
   "source": [
    "- Partitioning Clustering: Divides data into non-overlapping subsets. (e.g., K-means, K-medoids)\n",
    "- Hierarchical Clustering: Builds a tree of clusters. (e.g., Agglomerative, Divisive)\n",
    "- Density-based Clustering: Forms clusters based on the density of data points. (e.g., DBSCAN, OPTICS)\n",
    "- Grid-based Clustering: Divides the data space into grids. (e.g., STING, CLIQUE)\n",
    "- Model-based Clustering: Assumes data is generated from a mixture of underlying probability distributions. (e.g., Gaussian Mixture Models)"
   ]
  },
  {
   "cell_type": "code",
   "execution_count": null,
   "id": "740517f7-38e5-46aa-b69a-8f9d53b23397",
   "metadata": {},
   "outputs": [],
   "source": []
  },
  {
   "cell_type": "markdown",
   "id": "d2e92d44-2f3d-4646-82e5-2d8bd270a4a9",
   "metadata": {},
   "source": [
    "Q2.What is K-means clustering, and how does it work?"
   ]
  },
  {
   "cell_type": "markdown",
   "id": "78fc4353-b2b4-4cf6-a944-0f8daf6d0832",
   "metadata": {},
   "source": [
    "- How it Works:\n",
    "    1. Choose the number of clusters (k).\n",
    "    2. Initialize k centroids randomly.\n",
    "    3. Assign each data point to the nearest centroid.\n",
    "    4. Update centroids as the mean of assigned points.\n",
    "    5. Repeat steps 3-4 until convergence."
   ]
  },
  {
   "cell_type": "code",
   "execution_count": null,
   "id": "f4bd3fd7-aa87-4693-9742-f63699ccf524",
   "metadata": {},
   "outputs": [],
   "source": []
  },
  {
   "cell_type": "markdown",
   "id": "557ced68-8eb0-4336-a78e-725d05319411",
   "metadata": {},
   "source": [
    "Q3. What are some advantages and limitations of K-means clustering compared to other clustering\n",
    "techniques?"
   ]
  },
  {
   "cell_type": "markdown",
   "id": "adc8fbca-8039-4ba9-9dc9-196b02e8a486",
   "metadata": {},
   "source": [
    "Advantages:\n",
    "\n",
    "    - Simple and easy to implement.\n",
    "    - Efficient and scalable for large datasets.\n",
    "    - Works well when clusters are spherical and equally sized.\n",
    "Limitations:\n",
    "\n",
    "    - Requires pre-specifying the number of clusters (k).\n",
    "    - Sensitive to initial centroid positions.\n",
    "    - Assumes clusters are of similar size and density."
   ]
  },
  {
   "cell_type": "code",
   "execution_count": null,
   "id": "53cb549f-a592-4142-ab71-fe7e75544e5d",
   "metadata": {},
   "outputs": [],
   "source": []
  },
  {
   "cell_type": "markdown",
   "id": "73273629-26fc-4c1c-81b1-e7d53d6f67ac",
   "metadata": {},
   "source": [
    "Q4. How do you determine the optimal number of clusters in K-means clustering, and what are some\n",
    "common methods for doing so?"
   ]
  },
  {
   "cell_type": "markdown",
   "id": "9ae963a6-cea3-45bb-929b-d5c2804bd127",
   "metadata": {},
   "source": [
    "Methods:\n",
    "- Elbow Method: Plot the sum of squared distances and look for an \"elbow.\"\n",
    "- Silhouette Score: Measures how similar a point is to its own cluster compared to other clusters.\n",
    "- Gap Statistic: Compares total within intra-cluster variation with that expected under a null reference distribution."
   ]
  },
  {
   "cell_type": "code",
   "execution_count": null,
   "id": "1719748a-4b44-4689-8ede-ee1ab58f90cf",
   "metadata": {},
   "outputs": [],
   "source": []
  },
  {
   "cell_type": "markdown",
   "id": "1ed0d89d-f96b-48c1-ae1a-52e1122bc8d3",
   "metadata": {},
   "source": [
    "Q5. What are some applications of K-means clustering in real-world scenarios, and how has it been used\n",
    "to solve specific problems?"
   ]
  },
  {
   "cell_type": "markdown",
   "id": "1040ecd3-0336-4fac-9f19-d9e738f6f98c",
   "metadata": {},
   "source": [
    "Applications:\n",
    "- Market Segmentation: Identifying customer groups with similar behavior.\n",
    "- Image Compression: Reducing the number of colors in an image.\n",
    "- Document Clustering: Grouping similar documents for information retrieval."
   ]
  },
  {
   "cell_type": "code",
   "execution_count": null,
   "id": "de57fc5f-313d-4cb5-aba4-9d9c63c99f86",
   "metadata": {},
   "outputs": [],
   "source": []
  },
  {
   "cell_type": "markdown",
   "id": "6382e262-72ac-4802-b5c4-22f8f29d9fc6",
   "metadata": {},
   "source": [
    "Q6. How do you interpret the output of a K-means clustering algorithm, and what insights can you derive\n",
    "from the resulting clusters?"
   ]
  },
  {
   "cell_type": "markdown",
   "id": "bb9317bd-a5f3-4ca9-9168-0f5ec346e71f",
   "metadata": {},
   "source": [
    "Interpretation:\n",
    "Centroids: Represent the center of each cluster.\n",
    "Cluster Assignments: Indicate which data points belong to which clusters.\n",
    "Insights: Understand patterns, similarities, and differences within the data."
   ]
  },
  {
   "cell_type": "code",
   "execution_count": null,
   "id": "cb78aec1-1ac4-4d86-9e22-30ed7e9f89af",
   "metadata": {},
   "outputs": [],
   "source": []
  },
  {
   "cell_type": "markdown",
   "id": "67bc0687-8844-493b-b558-8796b7a8012e",
   "metadata": {},
   "source": [
    "Q7. What are some common challenges in implementing K-means clustering, and how can you address\n",
    "them?"
   ]
  },
  {
   "cell_type": "markdown",
   "id": "83cc6cba-c76a-40ab-a107-99ad319b5ec9",
   "metadata": {},
   "source": []
  }
 ],
 "metadata": {
  "kernelspec": {
   "display_name": "Python 3 (ipykernel)",
   "language": "python",
   "name": "python3"
  },
  "language_info": {
   "codemirror_mode": {
    "name": "ipython",
    "version": 3
   },
   "file_extension": ".py",
   "mimetype": "text/x-python",
   "name": "python",
   "nbconvert_exporter": "python",
   "pygments_lexer": "ipython3",
   "version": "3.10.8"
  }
 },
 "nbformat": 4,
 "nbformat_minor": 5
}
