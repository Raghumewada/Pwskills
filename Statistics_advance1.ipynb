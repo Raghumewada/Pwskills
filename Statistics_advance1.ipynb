{
 "cells": [
  {
   "cell_type": "markdown",
   "id": "8c86cf3f-2a4a-44f2-b98d-f6d8675ed762",
   "metadata": {},
   "source": [
    "Q1. What is the Probability density function?"
   ]
  },
  {
   "cell_type": "markdown",
   "id": "b5c3da9a-e73c-47cc-ab90-966ce52c3fd9",
   "metadata": {},
   "source": [
    "The Probability Density Function (PDF) is a function that describes the likelihood of a continuous random variable to take on a particular value. The PDF of a random variable X is denoted by f(x), where f(x) represents the density of the probability at point x. The integral of the PDF over a range gives the probability that the random variable falls within that range."
   ]
  },
  {
   "cell_type": "code",
   "execution_count": null,
   "id": "7751ed21-f02a-4d81-96b0-6eb566359018",
   "metadata": {},
   "outputs": [],
   "source": []
  },
  {
   "cell_type": "markdown",
   "id": "e8e02bcb-51ce-4818-8179-6a52e1d49324",
   "metadata": {},
   "source": [
    "Q2. What are the types of Probability distribution?"
   ]
  },
  {
   "cell_type": "markdown",
   "id": "b0cb738d-8419-47f8-8449-3363cee81c35",
   "metadata": {},
   "source": [
    "- Discrete Probability Distributions:\n",
    "\n",
    "    - Binomial Distribution\n",
    "    - Poisson Distribution\n",
    "    - Geometric Distribution\n",
    "    - Hypergeometric Distribution\n",
    "\n",
    "- Continuous Probability Distributions:\n",
    "\n",
    "    - Normal Distribution\n",
    "    - Exponential Distribution\n",
    "    - Uniform Distribution\n",
    "    - Beta Distribution"
   ]
  },
  {
   "cell_type": "code",
   "execution_count": null,
   "id": "9e5873ee-66e8-4372-bf08-2bdc6c1b2145",
   "metadata": {},
   "outputs": [],
   "source": []
  },
  {
   "cell_type": "markdown",
   "id": "12f66cdd-e23d-4023-9ad3-ea26ab9c704f",
   "metadata": {},
   "source": [
    "Q3. Write a Python function to calculate the probability density function of a normal distribution with\n",
    "given mean and standard deviation at a given point."
   ]
  },
  {
   "cell_type": "raw",
   "id": "fac7dbb0-b5cb-412a-91a8-ba4c3506ab0e",
   "metadata": {},
   "source": [
    "import math\n",
    "\n",
    "def normal_pdf(x, mean, std_dev):\n",
    "    return (1 / (std_dev * math.sqrt(2 * math.sqrt(math.pi)))) * math.exp(-0.5 * ((x - mean) / std_dev) ** 2)\n",
    "\n",
    "# Example usage:\n",
    "print(normal_pdf(0, 0, 1))  # PDF of standard normal distribution at x=0\n"
   ]
  },
  {
   "cell_type": "code",
   "execution_count": null,
   "id": "c4a8df9b-5baa-470a-a288-fe4064435f1c",
   "metadata": {},
   "outputs": [],
   "source": []
  },
  {
   "cell_type": "markdown",
   "id": "5701e952-588f-4590-a889-4b0c97b03084",
   "metadata": {},
   "source": [
    "Q4. What are the properties of Binomial distribution? Give two examples of events where binomial\n",
    "distribution can be applied."
   ]
  },
  {
   "cell_type": "markdown",
   "id": "c2408577-adf9-4c0a-87d7-3059d316a426",
   "metadata": {},
   "source": [
    "- Discrete distribution: Represents the number of successes in a fixed number of independent Bernoulli trials.\n",
    "- Parameters: n (number of trials), p (probability of success in each trial).\n",
    "- Mean: np\n",
    "- Variance: np(1−p)\n",
    "- Examples:\n",
    "    1. Number of heads in 10 coin flips.\n",
    "    2. Number of defective items in a batch of 50 items."
   ]
  },
  {
   "cell_type": "code",
   "execution_count": null,
   "id": "3483a3a3-71bb-4ef6-b39f-a3935a5e0759",
   "metadata": {},
   "outputs": [],
   "source": []
  },
  {
   "cell_type": "markdown",
   "id": "a46c244c-4a40-4924-88c8-d86d04807de3",
   "metadata": {},
   "source": [
    "Q5. Generate a random sample of size 1000 from a binomial distribution with probability of success 0.4\n",
    "and plot a histogram of the results using matplotlib."
   ]
  },
  {
   "cell_type": "code",
   "execution_count": 1,
   "id": "62527a3b-9f63-4f2a-8416-9c0ea7ef0868",
   "metadata": {},
   "outputs": [
    {
     "data": {
      "image/png": "[encoded data removed]",
      "text/plain": [
       "<Figure size 640x480 with 1 Axes>"
      ]
     },
     "metadata": {},
     "output_type": "display_data"
    }
   ],
   "source": [
    "import numpy as np\n",
    "import matplotlib.pyplot as plt\n",
    "\n",
    "# Parameters\n",
    "n = 10\n",
    "p = 0.4\n",
    "sample_size = 1000\n",
    "\n",
    "# Generate sample\n",
    "sample = np.random.binomial(n, p, sample_size)\n",
    "\n",
    "# Plot histogram\n",
    "plt.hist(sample, bins=range(n+2), align='left', edgecolor='black')\n",
    "plt.xlabel('Number of successes')\n",
    "plt.ylabel('Frequency')\n",
    "plt.title('Histogram of Binomial Distribution Sample')\n",
    "plt.show()\n"
   ]
  },
  {
   "cell_type": "code",
   "execution_count": null,
   "id": "cf45c581-7472-49eb-991a-7066b4bc3d0f",
   "metadata": {},
   "outputs": [],
   "source": []
  },
  {
   "cell_type": "markdown",
   "id": "27081615-c9e2-48de-8fa6-d2b9aeb9ab74",
   "metadata": {},
   "source": [
    "Q6. Write a Python function to calculate the cumulative distribution function of a Poisson distribution\n",
    "with given mean at a given point."
   ]
  },
  {
   "cell_type": "code",
   "execution_count": 2,
   "id": "f2007143-bb54-4a13-ae86-c65beb89fd90",
   "metadata": {},
   "outputs": [
    {
     "name": "stdout",
     "output_type": "stream",
     "text": [
      "0.8571234604985472\n"
     ]
    }
   ],
   "source": [
    "import math\n",
    "\n",
    "def poisson_cdf(k, mean):\n",
    "    cdf = 0\n",
    "    for i in range(k + 1):\n",
    "        cdf += (math.exp(-mean) * (mean ** i) / math.factorial(i))\n",
    "    return cdf\n",
    "\n",
    "# Example usage:\n",
    "print(poisson_cdf(3, 2))  # CDF of Poisson distribution with mean=2 at k=3\n"
   ]
  },
  {
   "cell_type": "code",
   "execution_count": null,
   "id": "75922592-3e82-4a1a-b3fa-44ff4e103ace",
   "metadata": {},
   "outputs": [],
   "source": []
  },
  {
   "cell_type": "markdown",
   "id": "3019e8b4-2440-46e0-a7d3-7262be93cc61",
   "metadata": {},
   "source": [
    "Q7. How Binomial distribution different from Poisson distribution?"
   ]
  },
  {
   "cell_type": "markdown",
   "id": "3cef58ef-bee3-42d6-bf81-6b855d68ae79",
   "metadata": {},
   "source": [
    "- Binomial Distribution:\n",
    "\n",
    "    - Discrete distribution.\n",
    "    - Fixed number of trials n.\n",
    "    - Probability of success p in each trial.\n",
    "    - Mean: np, Variance: np(1−p).\n",
    "\n",
    "- Poisson Distribution:\n",
    "\n",
    "    - Discrete distribution.\n",
    "    - Number of events in a fixed interval of time or space.\n",
    "    - Mean number of events λ.\n",
    "    - Mean: λ, Variance: λ."
   ]
  },
  {
   "cell_type": "code",
   "execution_count": null,
   "id": "f87f5930-215d-4119-8bca-a29b742170d2",
   "metadata": {},
   "outputs": [],
   "source": []
  },
  {
   "cell_type": "markdown",
   "id": "2bb23588-3f3d-404f-87c2-e2dc46c22151",
   "metadata": {},
   "source": [
    "Q8. Generate a random sample of size 1000 from a Poisson distribution with mean 5 and calc\n",
    "ulate the\n",
    "sample mean and variance."
   ]
  },
  {
   "cell_type": "code",
   "execution_count": 4,
   "id": "a8d82704-4e37-46ae-b2e5-afa7bf9066d0",
   "metadata": {},
   "outputs": [
    {
     "name": "stdout",
     "output_type": "stream",
     "text": [
      "Sample Mean: 4.988\n",
      "Sample Variance: 4.905856\n"
     ]
    }
   ],
   "source": [
    "import numpy as np\n",
    "\n",
    "# Parameters\n",
    "mean = 5\n",
    "sample_size = 1000\n",
    "\n",
    "# Generate sample\n",
    "sample = np.random.poisson(mean, sample_size)\n",
    "\n",
    "# Calculate mean and variance\n",
    "sample_mean = np.mean(sample)\n",
    "sample_variance = np.var(sample)\n",
    "\n",
    "print(f'Sample Mean: {sample_mean}')\n",
    "print(f'Sample Variance: {sample_variance}')\n"
   ]
  },
  {
   "cell_type": "code",
   "execution_count": null,
   "id": "e78c782d-d6b7-4d99-a504-5d624d513b4b",
   "metadata": {},
   "outputs": [],
   "source": []
  },
  {
   "cell_type": "markdown",
   "id": "8f5d9ec9-9c7e-4641-86a3-893fbad5b63a",
   "metadata": {},
   "source": [
    "Q9. How mean and variance are related in Binomial distribution and Poisson distribution?"
   ]
  },
  {
   "cell_type": "markdown",
   "id": "85ef63f9-2e31-4bbb-8889-7c4a16d95b4d",
   "metadata": {},
   "source": [
    "Binomial Distribution:\n",
    "\n",
    "Mean: \n",
    "np\n",
    "Variance: \n",
    "np(1−p)\n",
    "Poisson Distribution:\n",
    "\n",
    "Mean: \n",
    "\n",
    "λ\n",
    "Variance: \n",
    "𝜆\n",
    "λ"
   ]
  },
  {
   "cell_type": "code",
   "execution_count": null,
   "id": "5afe7532-a9f6-41a7-b817-20b619c59d36",
   "metadata": {},
   "outputs": [],
   "source": []
  },
  {
   "cell_type": "markdown",
   "id": "c8c9ac35-4a6d-4046-97f7-235c1a93cc9f",
   "metadata": {},
   "source": [
    "Q10. In normal distribution with respect to mean position, where does the least frequent data appear?"
   ]
  },
  {
   "cell_type": "markdown",
   "id": "6fdc2266-aebf-414a-802e-b11ff84f9b9c",
   "metadata": {},
   "source": []
  }
 ],
 "metadata": {
  "kernelspec": {
   "display_name": "Python 3 (ipykernel)",
   "language": "python",
   "name": "python3"
  },
  "language_info": {
   "codemirror_mode": {
    "name": "ipython",
    "version": 3
   },
   "file_extension": ".py",
   "mimetype": "text/x-python",
   "name": "python",
   "nbconvert_exporter": "python",
   "pygments_lexer": "ipython3",
   "version": "3.10.8"
  }
 },
 "nbformat": 4,
 "nbformat_minor": 5
}
