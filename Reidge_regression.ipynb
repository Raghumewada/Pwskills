{
 "cells": [
  {
   "cell_type": "markdown",
   "id": "58e0ee13-69b2-485b-b71d-3395e01e9962",
   "metadata": {},
   "source": [
    "Q1. What is Ridge Regression, and how does it differ from ordinary least squares regression?"
   ]
  },
  {
   "cell_type": "markdown",
   "id": "1cd3b270-01f0-4b1c-9ad4-e7b3c6c84340",
   "metadata": {},
   "source": [
    "Ridge Regression: Ridge Regression is a type of linear regression that includes a regularization term to prevent overfitting. This regularization term is the L2 norm of the coefficients multiplied by a tuning parameter (lambda).\n",
    "\n",
    "Difference from OLS:\n",
    "\n",
    " - Ordinary Least Squares (OLS): Minimizes the sum of squared residuals.\n",
    " - Ridge Regression: Minimizes the sum of squared residuals plus the L2 penalty term (lambda * sum of squared coefficients). This shrinks the coefficients towards zero, reducing model complexity and multicollinearity."
   ]
  },
  {
   "cell_type": "raw",
   "id": "134ed43e-50d7-4ef0-a95b-e002a0770d6f",
   "metadata": {},
   "source": []
  },
  {
   "cell_type": "markdown",
   "id": "54e72075-0748-448a-a606-04dfcee13663",
   "metadata": {},
   "source": [
    "Q2. What are the assumptions of Ridge Regression?"
   ]
  },
  {
   "cell_type": "markdown",
   "id": "0e0195e3-fedf-4937-8aad-2f8610c374d5",
   "metadata": {},
   "source": [
    " - Linearity: The relationship between predictors and the response is linear.\n",
    " - Independence: Observations are independent of each other.\n",
    " - Homoscedasticity: Constant variance of error terms.\n",
    " - Normality: The error terms are normally distributed.\n",
    " - Multicollinearity: Ridge regression can handle multicollinearity better than OLS, but it is still an underlying assumption that predictors are not perfectly collinear."
   ]
  },
  {
   "cell_type": "raw",
   "id": "15a18392-0934-4429-937d-2f92dbee994c",
   "metadata": {},
   "source": []
  },
  {
   "cell_type": "markdown",
   "id": "d27451f4-0427-4dc0-8908-7970d040dfc0",
   "metadata": {},
   "source": [
    "Q3. How do you select the value of the tuning parameter (lambda) in Ridge Regression?"
   ]
  },
  {
   "cell_type": "markdown",
   "id": "90125d22-e87d-4012-a5c6-0159ca8c3e94",
   "metadata": {},
   "source": [
    " - Cross-Validation: Typically, lambda is selected through cross-validation where the data is split into training and validation sets multiple times, and the performance is averaged.\n",
    " - Grid Search: A range of lambda values is specified, and the best one is chosen based on the lowest validation error."
   ]
  },
  {
   "cell_type": "raw",
   "id": "fb8e352b-e2a8-4352-82b7-90f029d0f959",
   "metadata": {},
   "source": []
  },
  {
   "cell_type": "markdown",
   "id": "10a4e787-fa20-4272-9d05-ee15a5b51e81",
   "metadata": {},
   "source": [
    "Q4. Can Ridge Regression be used for feature selection? If yes, how?"
   ]
  },
  {
   "cell_type": "markdown",
   "id": "c5505916-c749-4f0d-a68a-77c7403230c0",
   "metadata": {},
   "source": [
    "Indirect Feature Selection: While Ridge Regression does not perform feature selection directly by shrinking some coefficients to zero (like Lasso Regression), it reduces the impact of less important features by shrinking their coefficients, effectively reducing their influence."
   ]
  },
  {
   "cell_type": "raw",
   "id": "03ebd127-7476-42c3-bcc3-ef013f6ec055",
   "metadata": {},
   "source": []
  },
  {
   "cell_type": "markdown",
   "id": "92798ef8-b1d0-43e0-9a92-2d80be4de7ca",
   "metadata": {},
   "source": [
    "Q5. How does the Ridge Regression model perform in the presence of multicollinearity?"
   ]
  },
  {
   "cell_type": "markdown",
   "id": "3ebdf4c8-f886-4115-8a09-49e65d9ffaaf",
   "metadata": {},
   "source": [
    "Improved Performance: Ridge Regression handles multicollinearity well by adding a degree of bias to the regression estimates, which often leads to a more reliable model with lower variance compared to OLS regression.\n"
   ]
  },
  {
   "cell_type": "raw",
   "id": "39988e24-07ee-4b3d-9706-3dda7d0f3d47",
   "metadata": {},
   "source": []
  },
  {
   "cell_type": "markdown",
   "id": "062eb73d-43f3-4336-a635-e41b009374e7",
   "metadata": {},
   "source": [
    "Q6. Can Ridge Regression handle both categorical and continuous independent variables?"
   ]
  },
  {
   "cell_type": "markdown",
   "id": "35661947-3ad8-471e-a1b5-c416cbeeeb6e",
   "metadata": {},
   "source": [
    "Yes: Categorical variables need to be converted into numerical format using techniques like one-hot encoding before applying Ridge Regression. Continuous variables can be used directly."
   ]
  },
  {
   "cell_type": "raw",
   "id": "1f3de2a7-60a8-442d-bce8-dd7093311b78",
   "metadata": {},
   "source": []
  },
  {
   "cell_type": "markdown",
   "id": "5ddd86b4-925a-4af5-bf7d-300061b72231",
   "metadata": {},
   "source": [
    "Q7. How do you interpret the coefficients of Ridge Regression?"
   ]
  },
  {
   "cell_type": "markdown",
   "id": "c4159128-c108-4d9a-93d6-73df70344256",
   "metadata": {},
   "source": [
    "Magnitude and Direction: The coefficients indicate the direction (positive or negative) and magnitude of the relationship between each predictor and the response variable. However, because of regularization, the coefficients are biased towards zero, indicating a less direct relationship compared to OLS."
   ]
  },
  {
   "cell_type": "raw",
   "id": "bbec195c-1c27-4a57-8c8e-9f91f4ff5e78",
   "metadata": {},
   "source": []
  },
  {
   "cell_type": "markdown",
   "id": "1c63b4f6-63a1-4fd6-a12f-d6a98ce1ed8d",
   "metadata": {},
   "source": []
  },
  {
   "cell_type": "markdown",
   "id": "60ffdc57-46bb-4e10-940e-d1ebff1016df",
   "metadata": {},
   "source": []
  },
  {
   "cell_type": "raw",
   "id": "be776d52-bd82-426e-9782-51f74f3f5254",
   "metadata": {},
   "source": []
  },
  {
   "cell_type": "code",
   "execution_count": null,
   "id": "4b526f69-3728-4ffe-89af-097d7b6a1a18",
   "metadata": {},
   "outputs": [],
   "source": []
  }
 ],
 "metadata": {
  "kernelspec": {
   "display_name": "Python 3 (ipykernel)",
   "language": "python",
   "name": "python3"
  },
  "language_info": {
   "codemirror_mode": {
    "name": "ipython",
    "version": 3
   },
   "file_extension": ".py",
   "mimetype": "text/x-python",
   "name": "python",
   "nbconvert_exporter": "python",
   "pygments_lexer": "ipython3",
   "version": "3.10.8"
  }
 },
 "nbformat": 4,
 "nbformat_minor": 5
}
