{
 "cells": [
  {
   "cell_type": "markdown",
   "id": "de4c1f92-7b3f-4607-a88f-d7f3b51cf518",
   "metadata": {},
   "source": [
    "Q1. How do you comment code in Python? What are the different types of comments?\n"
   ]
  },
  {
   "cell_type": "markdown",
   "id": "f1a79d43-f499-4789-b909-e02876ed8863",
   "metadata": {},
   "source": [
    "In Python, we can add comments to the code to provide explanations, documentation, or to temporarily disable certain lines of code. Comments are ignored by the Python interpreter and there is no impact on the execution of the program.\n",
    "\n",
    "In python there are two type of comments \n",
    "1. single line comment :- To create a single line comment we use the hash symbol(#).\n",
    "    ex: #this is a single line comment\n",
    "2. multiline comment:- python does not have build-in syntax for  multi line comment  like  other  language but to create\n",
    "   multi line comment we can use single or double quotes.\n",
    "    ex: '''This is a multi\n",
    "        line comment'''\n",
    "        "
   ]
  },
  {
   "cell_type": "markdown",
   "id": "caf1f552-ac9d-4e9d-8037-b64753c07bac",
   "metadata": {},
   "source": [
    "Q2. What are variables in Python? How do you declare and assign values to variables?"
   ]
  },
  {
   "cell_type": "markdown",
   "id": "74f3ed71-92ba-4d7a-9537-ba307c3c7e15",
   "metadata": {},
   "source": [
    "Ans:- variables are used to store and manage data in your programs. A variable is like a named container that holds a value, which can be of various types such as numbers, strings, lists, dictionaries, and more.\n",
    "\n",
    "To declare and assign values to variables in Python, you simply choose a name for the variable and use the assignment operator (=) to assign a value to it.\n",
    "\n",
    "ex:- age=19\n",
    "    name='veer'"
   ]
  },
  {
   "cell_type": "markdown",
   "id": "479c7d70-3af7-4a34-bd02-3863d91c93f4",
   "metadata": {},
   "source": [
    "Q3. How do you convert one data type to another in Python?\n"
   ]
  },
  {
   "cell_type": "markdown",
   "id": "e0c18a31-e68d-4a36-9229-41ce2c08d06b",
   "metadata": {},
   "source": [
    "Ans:- In Python, we can convert one data type to another using type casting or conversion functions.\n",
    "    ex:-string to int :- int(string) ||\n",
    "        list to tuple:- tuple(list)\n",
    "        "
   ]
  },
  {
   "cell_type": "markdown",
   "id": "1e0244c6-31e3-43ff-be41-65d2063c36ba",
   "metadata": {},
   "source": [
    "Q4. How do you write and execute a Python script from the command line?"
   ]
  },
  {
   "cell_type": "markdown",
   "id": "0f995557-2308-4603-8bab-bb6613edeffd",
   "metadata": {},
   "source": [
    "Ans:-  \n",
    "        Open Command Prompt on Windows or Terminal on macOS/Linux.\n",
    "        Execute the  python command and than write python scripts\n",
    "\n",
    "     "
   ]
  },
  {
   "cell_type": "markdown",
   "id": "4d4fd0b9-eb43-4abf-99da-fb182c838b18",
   "metadata": {},
   "source": [
    "Q5. Given a list my_list = [1, 2, 3, 4, 5], write the code to slice the list and obtain the sub-list [2, 3].\n"
   ]
  },
  {
   "cell_type": "code",
   "execution_count": 2,
   "id": "5c38d588-b41a-4398-a09d-3ceebda75d89",
   "metadata": {},
   "outputs": [
    {
     "data": {
      "text/plain": [
       "[2, 3]"
      ]
     },
     "execution_count": 2,
     "metadata": {},
     "output_type": "execute_result"
    }
   ],
   "source": [
    "my_list=[1,2,3,4,5]\n",
    "sub_list=my_list[1:3]\n",
    "sub_list"
   ]
  },
  {
   "cell_type": "markdown",
   "id": "b4c327bd-f715-49cd-9124-4421b376e1ae",
   "metadata": {},
   "source": [
    "Q6. What is a complex number in mathematics, and how is it represented in Python?"
   ]
  },
  {
   "cell_type": "markdown",
   "id": "905daaf3-96cd-48cf-8abb-963cb11ac643",
   "metadata": {},
   "source": [
    "Ans:-\n",
    "    In mathematics, a complex  number is a number that comprises both a real part and an  imaginary  part. It's\n",
    "     represented in the form a + bi, where a is the real part, b is the imaginary part.\n",
    "     \n",
    "     In python complex number is represent in the form of a+bj,where a is real part and b is a imagnary part."
   ]
  },
  {
   "cell_type": "markdown",
   "id": "25c9fadb-af37-4c56-95ae-c314afdfe2d9",
   "metadata": {},
   "source": [
    "Q7. What is the correct way to declare a variable named age and assign the value 25 to it?\n"
   ]
  },
  {
   "cell_type": "markdown",
   "id": "c3478ca2-7fe7-431c-8ab2-3eb7788941eb",
   "metadata": {},
   "source": [
    "Ans:- Correct way to declare a variable named \"age\" and assign the value \"25\"is as follow\n",
    "\n",
    "        age=25\n",
    "        here \"=\" is a assignment operator"
   ]
  },
  {
   "cell_type": "markdown",
   "id": "c46e7bb6-72ca-48d8-b1af-fb2e240850b3",
   "metadata": {},
   "source": [
    "Q8. Declare a variable named price and assign the value 9.99 to it. What data type does this variable\n",
    "belong to?"
   ]
  },
  {
   "cell_type": "code",
   "execution_count": 3,
   "id": "a7bb4902-b2e5-4355-8ec6-c00177c68d16",
   "metadata": {},
   "outputs": [
    {
     "data": {
      "text/plain": [
       "float"
      ]
     },
     "execution_count": 3,
     "metadata": {},
     "output_type": "execute_result"
    }
   ],
   "source": [
    "price=9.99\n",
    "type(price)"
   ]
  },
  {
   "cell_type": "markdown",
   "id": "c7a64f86-bd36-4038-ab6c-5028f2e5dab0",
   "metadata": {},
   "source": [
    "the variable belong to float data type"
   ]
  },
  {
   "cell_type": "markdown",
   "id": "9632b8c0-fccd-4f2e-85da-6e152fec45f8",
   "metadata": {},
   "source": [
    "Q9. Create a variable named name and assign your full name to it as a string. How would you print the\n",
    "value of this variable?"
   ]
  },
  {
   "cell_type": "code",
   "execution_count": 5,
   "id": "9e89ab88-1946-41b2-afc0-365ccadb177a",
   "metadata": {},
   "outputs": [
    {
     "name": "stdout",
     "output_type": "stream",
     "text": [
      "Raghuveer Mewada\n"
     ]
    }
   ],
   "source": [
    "name=\"Raghuveer Mewada\"\n",
    "print(name)"
   ]
  },
  {
   "cell_type": "markdown",
   "id": "c4b5c280-6297-4494-a146-765571fe7198",
   "metadata": {},
   "source": [
    "Q10. Given the string \"Hello, World!\", extract the substring \"World\"."
   ]
  },
  {
   "cell_type": "code",
   "execution_count": null,
   "id": "58231a2e-3b10-462d-a055-69488f43bbd4",
   "metadata": {},
   "outputs": [],
   "source": [
    "str1=\"Hello,World!\"\n",
    "str2=str1[5:]"
   ]
  }
 ],
 "metadata": {
  "kernelspec": {
   "display_name": "Python 3 (ipykernel)",
   "language": "python",
   "name": "python3"
  },
  "language_info": {
   "codemirror_mode": {
    "name": "ipython",
    "version": 3
   },
   "file_extension": ".py",
   "mimetype": "text/x-python",
   "name": "python",
   "nbconvert_exporter": "python",
   "pygments_lexer": "ipython3",
   "version": "3.10.8"
  }
 },
 "nbformat": 4,
 "nbformat_minor": 5
}
