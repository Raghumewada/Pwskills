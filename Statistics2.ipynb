{
 "cells": [
  {
   "cell_type": "markdown",
   "id": "c1df5f27-5284-4097-a3c6-be53cb30e385",
   "metadata": {},
   "source": [
    "Q1. What are the three measures of central tendency?"
   ]
  },
  {
   "cell_type": "markdown",
   "id": "966c32c9-af92-4eae-ba31-152bff4ba562",
   "metadata": {},
   "source": [
    "1. Mean\n",
    "2. Median\n",
    "3. Mode"
   ]
  },
  {
   "cell_type": "code",
   "execution_count": null,
   "id": "08e27851-5184-4abf-ba7b-ac8a20eef646",
   "metadata": {},
   "outputs": [],
   "source": []
  },
  {
   "cell_type": "markdown",
   "id": "186d8dd3-2324-4e6d-aec9-70119eec23d7",
   "metadata": {},
   "source": [
    "Q2. What is the difference between the mean, median, and mode? How are they used to measure the\n",
    "central tendency of a dataset?"
   ]
  },
  {
   "cell_type": "markdown",
   "id": "bceea035-4c56-43ee-9404-9cff8b10c84f",
   "metadata": {},
   "source": [
    "- Mean: The average of all data points. Calculated by summing all the values and dividing by the number of values. It is used when the data is symmetrically distributed without outliers.\n",
    "- Median: The middle value when data points are ordered. It is used when the data is skewed or has outliers, as it is not affected by extreme values.\n",
    "- Mode: The most frequently occurring value in the dataset. It is used for categorical data or to identify the most common value in a dataset."
   ]
  },
  {
   "cell_type": "code",
   "execution_count": null,
   "id": "6f4cd6af-28ba-4b7e-bb4e-4c624ffec921",
   "metadata": {},
   "outputs": [],
   "source": []
  },
  {
   "cell_type": "markdown",
   "id": "43da93c0-a377-4534-9ee2-f422197ef6ef",
   "metadata": {},
   "source": [
    "Q3. Measure the three measures of central tendency for the given height data:\n",
    "[178,177,176,177,178.2,178,175,179,180,175,178.9,176.2,177,172.5,178,176.5]"
   ]
  },
  {
   "cell_type": "markdown",
   "id": "669952c8-a0ba-4369-9048-985899b39fda",
   "metadata": {},
   "source": [
    "1. Mean:\n",
    "    - Mean= ∑heights/number of heights = 2831.3/16 ≈176.96\n",
    "2. Median: The middle values are 177 and 177 (after sorting), so:\n",
    "    - Median = 177 + 177 /2 = 177\n",
    "3. Mode: The most frequent value is:\n",
    "    - Mode=178"
   ]
  },
  {
   "cell_type": "code",
   "execution_count": null,
   "id": "e0145008-4a22-453f-85a5-923e75c42052",
   "metadata": {},
   "outputs": [],
   "source": []
  },
  {
   "cell_type": "markdown",
   "id": "30595e3c-8035-44b1-b6e1-37bb823a2934",
   "metadata": {},
   "source": [
    "Q4. Find the standard deviation for the given data:\n",
    "[178,177,176,177,178.2,178,175,179,180,175,178.9,176.2,177,172.5,178,176.5]"
   ]
  },
  {
   "cell_type": "markdown",
   "id": "185ac069-6d55-488c-9d2e-959485d8d636",
   "metadata": {},
   "source": [
    "To calculate the standard deviation:\n",
    "Standard Deviation= (∑(xi −μ)/N)^1/2\n"
   ]
  },
  {
   "cell_type": "code",
   "execution_count": 1,
   "id": "0680e8e9-eb05-4037-90e8-6e4f05ecd568",
   "metadata": {},
   "outputs": [
    {
     "data": {
      "text/plain": [
       "1.7885814036548633"
      ]
     },
     "execution_count": 1,
     "metadata": {},
     "output_type": "execute_result"
    }
   ],
   "source": [
    "import numpy as np\n",
    "\n",
    "data = [178, 177, 176, 177, 178.2, 178, 175, 179, 180, 175, 178.9, 176.2, 177, 172.5, 178, 176.5]\n",
    "std_dev = np.std(data)\n",
    "std_dev\n"
   ]
  },
  {
   "cell_type": "code",
   "execution_count": null,
   "id": "4e51d089-6df8-4918-b8ae-c4216cd5aaa1",
   "metadata": {},
   "outputs": [],
   "source": []
  },
  {
   "cell_type": "markdown",
   "id": "e69d4b10-0ba3-4d27-8d52-566022202e96",
   "metadata": {},
   "source": [
    "Q5. How are measures of dispersion such as range, variance, and standard deviation used to describe\n",
    "the spread of a dataset? Provide an example."
   ]
  },
  {
   "cell_type": "markdown",
   "id": "a9a0cd7e-45c8-4274-b244-d6958a61ac49",
   "metadata": {},
   "source": [
    "1. Range: The difference between the highest and lowest values. It gives a quick sense of the spread but can be affected by outliers.\n",
    "Example: For data  2,3,5,7,10, the range is 10−2=8.\n",
    "\n",
    "2. Variance: The average of the squared differences from the mean. It gives a measure of how spread out the data points are.\n",
    "Example: For data 2,3,5,7,10, if the mean is 5.4, the variance is \n",
    "\n",
    "((2−5.4)^2 +(3−5.4)^2 +(5−5.4)^2 +(7−5.4)^2 +(10−5.4)^2)/5≈8.24.\n",
    "\n",
    "3. Standard Deviation: The square root of the variance. It provides a measure of the average distance from the mean.\n",
    "Example: For the above variance, the standard deviation is (8.24)^1/2 ≈2.87.\n"
   ]
  },
  {
   "cell_type": "code",
   "execution_count": null,
   "id": "35f79d4c-d106-4bcb-8f47-db58d6196edb",
   "metadata": {},
   "outputs": [],
   "source": []
  },
  {
   "cell_type": "markdown",
   "id": "f81d2a8b-2453-4fc4-8b40-f989df93bb5c",
   "metadata": {},
   "source": [
    "Q6. What is a Venn diagram?"
   ]
  },
  {
   "cell_type": "markdown",
   "id": "a0e28f3f-1047-456f-8b5b-9acca2800df0",
   "metadata": {},
   "source": [
    "A Venn diagram is a graphical representation of sets using circles. Each circle represents a set, and the overlaps between circles represent the intersection of sets, showing common elements."
   ]
  },
  {
   "cell_type": "code",
   "execution_count": null,
   "id": "1d24c0b3-e65b-45d4-8ffb-95d577e05fd5",
   "metadata": {},
   "outputs": [],
   "source": []
  },
  {
   "cell_type": "markdown",
   "id": "1f501f01-e863-4a32-8b41-76c473c70da6",
   "metadata": {},
   "source": [
    "Q7. For the two given sets A = (2,3,4,5,6,7) & B = (0,2,6,8,10). Find:\n",
    "(i) A B\n",
    "(ii) A ⋃ B"
   ]
  },
  {
   "cell_type": "markdown",
   "id": "bb85bb9c-30fd-456f-82a1-4b9afe849e6c",
   "metadata": {},
   "source": [
    "1. A∩B: Intersection of A and B\n",
    "    - A∩B={2,6}\n",
    "2. A∪B: Union of A and B\n",
    "    - A∪B={0,2,3,4,5,6,7,8,10}"
   ]
  },
  {
   "cell_type": "code",
   "execution_count": null,
   "id": "b4deb44b-df56-4a40-86af-7d5ca117e257",
   "metadata": {},
   "outputs": [],
   "source": []
  },
  {
   "cell_type": "markdown",
   "id": "667061fc-90b8-4b4f-bde8-201f518ec96f",
   "metadata": {},
   "source": [
    "Q8. What do you understand about skewness in data?"
   ]
  },
  {
   "cell_type": "markdown",
   "id": "0f81b296-126e-439f-8bf8-b143f7eefbae",
   "metadata": {},
   "source": [
    "Skewness measures the asymmetry of the probability distribution of a dataset. A dataset can be:\n",
    "\n",
    "1. Positively skewed (right-skewed): Tail on the right side is longer.\n",
    "2. Negatively skewed (left-skewed): Tail on the left side is longer.\n",
    "3. Symmetrical: No skew, tails on both sides are equally long."
   ]
  },
  {
   "cell_type": "code",
   "execution_count": null,
   "id": "d4bd20ed-bf13-4e1b-b6bc-ff0c19a44ad6",
   "metadata": {},
   "outputs": [],
   "source": []
  },
  {
   "cell_type": "markdown",
   "id": "ee605396-aede-412b-91ca-4c73d4c22192",
   "metadata": {},
   "source": [
    "Q9. If a data is right skewed then what will be the position of median with respect to mean?"
   ]
  },
  {
   "cell_type": "markdown",
   "id": "e488c7c7-7545-4313-b9de-f50ec42c224e",
   "metadata": {},
   "source": [
    "In a right-skewed distribution, the mean is typically greater than the median."
   ]
  },
  {
   "cell_type": "code",
   "execution_count": null,
   "id": "88c25497-d945-42c2-b786-78d288871685",
   "metadata": {},
   "outputs": [],
   "source": []
  },
  {
   "cell_type": "markdown",
   "id": "ddf35039-bbbd-4494-b500-dfa325a5fa70",
   "metadata": {},
   "source": [
    "Q10. Explain the difference between covariance and correlation. How are these measures used in\n",
    "statistical analysis?"
   ]
  },
  {
   "cell_type": "markdown",
   "id": "8c5bd3fe-01bc-471b-847b-312a66ad442e",
   "metadata": {},
   "source": [
    "1. Covariance: Measures the directional relationship between two variables. Positive covariance indicates that the variables move together, while negative covariance indicates they move inversely.\n",
    "2. Correlation: Measures the strength and direction of the linear relationship between two variables, scaled between -1 and 1. It is dimensionless and provides more interpretable results compared to covariance."
   ]
  },
  {
   "cell_type": "code",
   "execution_count": null,
   "id": "cc311029-8753-4d48-9e69-4734b005fd6d",
   "metadata": {},
   "outputs": [],
   "source": []
  },
  {
   "cell_type": "markdown",
   "id": "487c38d6-f651-4bb5-a2f7-5891576844a2",
   "metadata": {},
   "source": [
    "Q11. What is the formula for calculating the sample mean? Provide an example calculation for a\n",
    "dataset."
   ]
  },
  {
   "cell_type": "markdown",
   "id": "0c93c5b3-dad9-44c3-88ce-7be2964d633e",
   "metadata": {},
   "source": [
    "- Formula: x = ∑xi/n \n",
    "- Example: For dataset [2, 4, 6, 8, 10], the mean is (2+4+6+8+10)/5=6."
   ]
  },
  {
   "cell_type": "code",
   "execution_count": null,
   "id": "9e099b73-21db-4bfa-81e1-41b8de3788b7",
   "metadata": {},
   "outputs": [],
   "source": []
  },
  {
   "cell_type": "markdown",
   "id": "e2ddcf8a-2383-480c-bb49-b361f6f744a6",
   "metadata": {},
   "source": [
    "Q12. For a normal distribution data what is the relationship between its measure of central tendency?"
   ]
  },
  {
   "cell_type": "markdown",
   "id": "911f601a-37e4-40da-b0cd-9d74cf1efd39",
   "metadata": {},
   "source": [
    "For a normal distribution, the mean, median, and mode are all equal and located at the center of the distribution."
   ]
  },
  {
   "cell_type": "code",
   "execution_count": null,
   "id": "960f7986-7dac-46ed-b19d-3c6cdff4e8ff",
   "metadata": {},
   "outputs": [],
   "source": []
  },
  {
   "cell_type": "markdown",
   "id": "274a7dbf-06df-4d04-bf4d-20315dd760f5",
   "metadata": {},
   "source": [
    "Q13. How is covariance different from correlation?"
   ]
  },
  {
   "cell_type": "markdown",
   "id": "e954663d-529f-4f02-9687-8e8a983d8172",
   "metadata": {},
   "source": [
    "Covariance measures the directional relationship between two variables but is affected by the scale of the variables. Correlation standardizes covariance, providing a dimensionless measure that indicates the strength and direction of the linear relationship."
   ]
  },
  {
   "cell_type": "code",
   "execution_count": null,
   "id": "1f6812fb-c418-4301-b3cd-8dfbe7981a58",
   "metadata": {},
   "outputs": [],
   "source": []
  },
  {
   "cell_type": "markdown",
   "id": "393dde29-eda7-4f28-ab15-6eca3973bd51",
   "metadata": {},
   "source": [
    "Q14. How do outliers affect measures of central tendency and dispersion? Provide an example."
   ]
  },
  {
   "cell_type": "markdown",
   "id": "2e9e982f-a011-47d7-b1c0-dcac4fd5cd64",
   "metadata": {},
   "source": []
  }
 ],
 "metadata": {
  "kernelspec": {
   "display_name": "Python 3 (ipykernel)",
   "language": "python",
   "name": "python3"
  },
  "language_info": {
   "codemirror_mode": {
    "name": "ipython",
    "version": 3
   },
   "file_extension": ".py",
   "mimetype": "text/x-python",
   "name": "python",
   "nbconvert_exporter": "python",
   "pygments_lexer": "ipython3",
   "version": "3.10.8"
  }
 },
 "nbformat": 4,
 "nbformat_minor": 5
}
