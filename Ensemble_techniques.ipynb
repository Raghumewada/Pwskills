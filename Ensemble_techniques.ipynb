{
 "cells": [
  {
   "cell_type": "markdown",
   "id": "10fd5365-3834-447c-a225-3b48ab9d44d5",
   "metadata": {},
   "source": [
    "Q1. What is an ensemble technique in machine learning?"
   ]
  },
  {
   "cell_type": "markdown",
   "id": "21462425-0416-44d5-b228-add9420f1ad6",
   "metadata": {},
   "source": [
    "Ensemble techniques combine predictions from multiple models to improve overall performance."
   ]
  },
  {
   "cell_type": "code",
   "execution_count": null,
   "id": "26ede9cc-8817-4ac3-90b6-94ade33d4658",
   "metadata": {},
   "outputs": [],
   "source": []
  },
  {
   "cell_type": "markdown",
   "id": "ab053bb2-f941-4a99-97ff-24c6a6de33bb",
   "metadata": {},
   "source": [
    "Q2. Why are ensemble techniques used in machine learning?"
   ]
  },
  {
   "cell_type": "markdown",
   "id": "fb1b191a-db4c-4a73-93e8-6b3a320ccc95",
   "metadata": {},
   "source": [
    "They are used to reduce overfitting, improve accuracy, and increase robustness by leveraging the strengths of different models."
   ]
  },
  {
   "cell_type": "code",
   "execution_count": null,
   "id": "acadad21-d345-4f2d-97ee-322239d57813",
   "metadata": {},
   "outputs": [],
   "source": []
  },
  {
   "cell_type": "markdown",
   "id": "3d3873b0-dcb4-479d-bdee-a63e4723d354",
   "metadata": {},
   "source": [
    "Q3. What is bagging?"
   ]
  },
  {
   "cell_type": "markdown",
   "id": "6509ba88-c7d8-419e-844c-a8e331f2fc28",
   "metadata": {},
   "source": [
    "Bagging (Bootstrap Aggregating) involves training multiple models on different random subsets of the data and then averaging their predictions."
   ]
  },
  {
   "cell_type": "code",
   "execution_count": null,
   "id": "83031909-5ea4-42d5-9ba7-fc94955b43b3",
   "metadata": {},
   "outputs": [],
   "source": []
  },
  {
   "cell_type": "markdown",
   "id": "4328a0fe-83d1-4472-890a-3a4e1136aa21",
   "metadata": {},
   "source": [
    "Q4. What is boosting?"
   ]
  },
  {
   "cell_type": "markdown",
   "id": "a1ed0e8a-2952-4573-a6fa-054103712e55",
   "metadata": {},
   "source": [
    "Boosting sequentially trains models, each correcting errors from the previous ones, and combines their predictions, typically giving more weight to misclassified instances."
   ]
  },
  {
   "cell_type": "code",
   "execution_count": null,
   "id": "60036c9e-a108-4351-be29-5d1dbe952bbb",
   "metadata": {},
   "outputs": [],
   "source": []
  },
  {
   "cell_type": "markdown",
   "id": "f46ae02b-8f64-40a9-bd51-71a31753a1f3",
   "metadata": {},
   "source": [
    "Q5. What are the benefits of using ensemble techniques?"
   ]
  },
  {
   "cell_type": "markdown",
   "id": "11c6120b-ba0c-4126-a013-b2a214f37085",
   "metadata": {},
   "source": [
    "- Increased accuracy\n",
    "- Reduced overfitting\n",
    "- Enhanced robustness"
   ]
  },
  {
   "cell_type": "code",
   "execution_count": null,
   "id": "b8e6514f-b193-4cbb-9bcb-34ac983a5f2b",
   "metadata": {},
   "outputs": [],
   "source": []
  },
  {
   "cell_type": "markdown",
   "id": "3bb06cff-fe95-44c4-83c0-dadadd2ac4b2",
   "metadata": {},
   "source": [
    "Q6. Are ensemble techniques always better than individual models?"
   ]
  },
  {
   "cell_type": "markdown",
   "id": "de59ab2e-61c1-49cd-864e-f345c85be5be",
   "metadata": {},
   "source": [
    "Not always. They generally perform better but can be computationally expensive and may not outperform a well-tuned individual model in some cases."
   ]
  },
  {
   "cell_type": "code",
   "execution_count": null,
   "id": "33ff6890-7bf1-4636-8efa-2e553c4ef5b3",
   "metadata": {},
   "outputs": [],
   "source": []
  },
  {
   "cell_type": "markdown",
   "id": "2574d3f9-24ff-4014-b2b4-852c1d4cec13",
   "metadata": {},
   "source": [
    "Q7. How is the confidence interval calculated using bootstrap?"
   ]
  },
  {
   "cell_type": "markdown",
   "id": "4878c301-cb87-4ea3-98c1-306afa34a58b",
   "metadata": {},
   "source": [
    "- Generate many bootstrap samples from the original data.\n",
    "- Calculate the statistic (e.g., mean) for each sample.\n",
    "- Use the distribution of these statistics to find the desired percentile interval."
   ]
  },
  {
   "cell_type": "code",
   "execution_count": null,
   "id": "605e0705-ef70-4998-b1b0-db8eb7adc2fa",
   "metadata": {},
   "outputs": [],
   "source": []
  },
  {
   "cell_type": "markdown",
   "id": "b53de645-41da-4f4f-859e-6cbab7ac0331",
   "metadata": {},
   "source": [
    "Q8. How does bootstrap work and What are the steps involved in bootstrap?"
   ]
  },
  {
   "cell_type": "markdown",
   "id": "25405a74-dc3b-4866-b8e5-73559f4a6588",
   "metadata": {},
   "source": [
    "1. Draw random samples with replacement from the original dataset.\n",
    "2. Calculate the desired statistic for each bootstrap sample.\n",
    "3. Repeat the process many times (e.g., 1000+).\n",
    "4. Use the distribution of the statistics to estimate confidence intervals."
   ]
  },
  {
   "cell_type": "code",
   "execution_count": null,
   "id": "6b879dbc-45bb-444b-804d-e7deca9ba8fb",
   "metadata": {},
   "outputs": [],
   "source": []
  },
  {
   "cell_type": "markdown",
   "id": "46850201-b59f-42ed-8f98-fb29fe5aaf94",
   "metadata": {},
   "source": [
    "Q9. A researcher wants to estimate the mean height of a population of trees. They measure the height of a\n",
    "sample of 50 trees and obtain a mean height of 15 meters and a standard deviation of 2 meters. Use\n",
    "bootstrap to estimate the 95% confidence interval for the population mean height."
   ]
  },
  {
   "cell_type": "markdown",
   "id": "836be6c0-f3d6-45f5-b368-4dc854136eac",
   "metadata": {},
   "source": [
    "For the given data:\n",
    "\n",
    "- Sample mean = 15 meters\n",
    "- Standard deviation = 2 meters\n",
    "Using bootstrap (in practice, code or software would be used), the 95% confidence interval can be estimated, often resulting in something like [14.5, 15.5] meters (exact values depend on the bootstrap resampling)."
   ]
  },
  {
   "cell_type": "code",
   "execution_count": null,
   "id": "0b9ca449-6ea6-4810-b1c7-5af75980c821",
   "metadata": {},
   "outputs": [],
   "source": []
  }
 ],
 "metadata": {
  "kernelspec": {
   "display_name": "Python 3 (ipykernel)",
   "language": "python",
   "name": "python3"
  },
  "language_info": {
   "codemirror_mode": {
    "name": "ipython",
    "version": 3
   },
   "file_extension": ".py",
   "mimetype": "text/x-python",
   "name": "python",
   "nbconvert_exporter": "python",
   "pygments_lexer": "ipython3",
   "version": "3.10.8"
  }
 },
 "nbformat": 4,
 "nbformat_minor": 5
}
