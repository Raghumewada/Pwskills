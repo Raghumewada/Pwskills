{
 "cells": [
  {
   "cell_type": "markdown",
   "id": "558ed262-6889-499c-b4a1-01848bd05735",
   "metadata": {},
   "source": [
    "Q1. Which keyword is used to create a function? Create a function to return a list of odd numbers in the\n",
    "range of 1 to 25."
   ]
  },
  {
   "cell_type": "markdown",
   "id": "95fee044-6d13-4d86-b37f-1cf028499888",
   "metadata": {},
   "source": [
    "Ans:- \"def\" keyword is used to create a function"
   ]
  },
  {
   "cell_type": "code",
   "execution_count": 1,
   "id": "bb1c8fd0-96c2-42be-8b8a-95487d7b5388",
   "metadata": {},
   "outputs": [
    {
     "name": "stdout",
     "output_type": "stream",
     "text": [
      "[1, 3, 5, 7, 9, 11, 13, 15, 17, 19, 21, 23, 25]\n"
     ]
    }
   ],
   "source": [
    "def odd_num():\n",
    "    odd_list=[]\n",
    "    for i in range(1,26):\n",
    "        if i%2!=0:\n",
    "            odd_list.append(i)\n",
    "        \n",
    "    return odd_list\n",
    "\n",
    "print(odd_num())\n",
    "\n",
    "       "
   ]
  },
  {
   "cell_type": "markdown",
   "id": "6db5d372-bb07-4584-b8b4-bac19d1f258c",
   "metadata": {},
   "source": [
    "Q2. Why *args and **kwargs is used in some functions? Create a function each for *args and **kwargs\n",
    "to demonstrate their use."
   ]
  },
  {
   "cell_type": "markdown",
   "id": "1c780017-26f4-44e7-9cdb-3851ce277fa7",
   "metadata": {},
   "source": [
    "Ans:- In python *args and **kwarg are used as parameter in function definitions to handle a variable number of arguments\n",
    "\n",
    "   *args:- when we use *args in function definitions, it allows the function to accept any number of  positional arguments which are then gathered into a tuple."
   ]
  },
  {
   "cell_type": "code",
   "execution_count": 3,
   "id": "10b8910c-ef69-40e5-b222-c0d47e0d2c17",
   "metadata": {},
   "outputs": [],
   "source": [
    "def test(*args):\n",
    "    return args\n",
    "    "
   ]
  },
  {
   "cell_type": "code",
   "execution_count": 4,
   "id": "0740fa56-b0c7-47d8-9169-882c59120bdb",
   "metadata": {},
   "outputs": [
    {
     "data": {
      "text/plain": [
       "(4, 5, 3, 24)"
      ]
     },
     "execution_count": 4,
     "metadata": {},
     "output_type": "execute_result"
    }
   ],
   "source": [
    "test(4,5,3,24)"
   ]
  },
  {
   "cell_type": "markdown",
   "id": "1f6fdb14-1cd4-4900-ab4c-eb6eb15680f8",
   "metadata": {},
   "source": [
    " **kwargs:- when we use **kwargs in function definitions, it allows function to accept any number of keyword arguments,which are then gathered into a dictionary."
   ]
  },
  {
   "cell_type": "code",
   "execution_count": 5,
   "id": "120550e9-af62-4c38-a843-39f39bf4de96",
   "metadata": {},
   "outputs": [],
   "source": [
    "def test2(**kwargs):\n",
    "    return kwargs"
   ]
  },
  {
   "cell_type": "code",
   "execution_count": 6,
   "id": "9b05097b-d83a-4b52-9227-6b284fe3e7ea",
   "metadata": {},
   "outputs": [
    {
     "data": {
      "text/plain": [
       "{'a': [3, 43, 3, 1, 4], 'b': ['veer', 'mewada'], 'c': 101}"
      ]
     },
     "execution_count": 6,
     "metadata": {},
     "output_type": "execute_result"
    }
   ],
   "source": [
    "test2(a=[3,43,3,1,4],b=['veer','mewada'],c=101)"
   ]
  },
  {
   "cell_type": "markdown",
   "id": "4c4c42a7-e81d-465a-b64b-a2e6ac4886c6",
   "metadata": {},
   "source": [
    "Q3. What is an iterator in python? Name the method used to initialise the iterator object and the method\n",
    "used for iteration. Use these methods to print the first five elements of the given list [2, 4, 6, 8, 10, 12, 14,\n",
    "16, 18, 20]."
   ]
  },
  {
   "cell_type": "markdown",
   "id": "09dfc8b7-da8b-4216-9630-59ac8d115b11",
   "metadata": {},
   "source": [
    "Ans:- In Python, an iterator is an object that implements the methods \"iter()\" and \"next()\". The \"iter()\" method is used to initialize the iterator object, and the \"next()\" method is used to retrieve the next item from the iterator."
   ]
  },
  {
   "cell_type": "code",
   "execution_count": 2,
   "id": "e7c742e4-f1e1-44dd-bf51-88562d38e488",
   "metadata": {},
   "outputs": [
    {
     "name": "stdout",
     "output_type": "stream",
     "text": [
      "2\n",
      "4\n",
      "6\n",
      "8\n",
      "10\n"
     ]
    }
   ],
   "source": [
    "l=[2,4,6,8,10,12,14,16,18,20]\n",
    "\n",
    "iterator=iter(l)\n",
    "\n",
    "for i in range(5):\n",
    "    element=next(iterator)\n",
    "    print(element)"
   ]
  },
  {
   "cell_type": "markdown",
   "id": "58fcf2b0-acd5-4579-a218-e2c7f98b1760",
   "metadata": {},
   "source": [
    "Q4. What is a generator function in python? Why yield keyword is used? Give an example of a generator\n",
    "function."
   ]
  },
  {
   "cell_type": "markdown",
   "id": "3d320d38-81c6-47fa-a5a6-e38806489774",
   "metadata": {},
   "source": [
    "Ans:-A generator function in Python is a special type of function that generates values on-the-fly using the yield keyword. It allows you to create an iterator without having to build the entire sequence of values in memory.\n",
    "\n",
    "The yield keyword is used within a generator function to produce a value that is yielded to the caller.Each time the generator's yield statement is encountered, the function's state is paused, and the yielded value is returned to the caller. "
   ]
  },
  {
   "cell_type": "code",
   "execution_count": 3,
   "id": "e127de56-0612-40ae-a851-abfc456caa0b",
   "metadata": {},
   "outputs": [
    {
     "name": "stdout",
     "output_type": "stream",
     "text": [
      "1\n",
      "4\n",
      "9\n",
      "16\n",
      "25\n",
      "36\n",
      "49\n",
      "64\n",
      "81\n",
      "100\n"
     ]
    }
   ],
   "source": [
    "def squ(n):\n",
    "    i=1\n",
    "    while i<=n:\n",
    "        yield i**2\n",
    "        i+=1\n",
    "\n",
    "num_square=squ(10)\n",
    "\n",
    "for i in range(10):\n",
    "    print(next(num_square))\n",
    "    "
   ]
  },
  {
   "cell_type": "markdown",
   "id": "a5f31e3e-f927-44f6-9132-645ffa4afbf3",
   "metadata": {},
   "source": [
    "Q5. Create a generator function for prime numbers less than 1000. Use the next() method to print the\n",
    "first 20 prime numbers."
   ]
  },
  {
   "cell_type": "code",
   "execution_count": 16,
   "id": "4243a9f0-24fd-45b1-8987-c6113b64872d",
   "metadata": {},
   "outputs": [
    {
     "name": "stdout",
     "output_type": "stream",
     "text": [
      "2\n",
      "3\n",
      "5\n",
      "7\n",
      "11\n",
      "13\n",
      "17\n",
      "19\n",
      "23\n",
      "29\n",
      "31\n",
      "37\n",
      "41\n",
      "43\n",
      "47\n",
      "53\n",
      "59\n",
      "61\n",
      "67\n",
      "71\n"
     ]
    }
   ],
   "source": [
    "def is_prime(n):\n",
    "    d=2\n",
    "    while d<n:\n",
    "        if n%d==0:\n",
    "            return False\n",
    "        d+=1\n",
    "    \n",
    "    return True\n",
    "\n",
    "def Prime_generator(limit):\n",
    "    n=2\n",
    "    count=1\n",
    "    while count<=limit:\n",
    "            \n",
    "        if is_prime(n):\n",
    "            yield n\n",
    "            count+=1\n",
    "                \n",
    "        n+=1\n",
    "            \n",
    "Prime_num=Prime_generator(20)\n",
    "\n",
    "for i in Prime_num:\n",
    "    print(i)\n",
    "            "
   ]
  },
  {
   "cell_type": "markdown",
   "id": "a0630961-377e-4527-8837-045ade1570b9",
   "metadata": {},
   "source": [
    "Q6. Write a python program to print the first 10 Fibonacci numbers using a while loop."
   ]
  },
  {
   "cell_type": "code",
   "execution_count": 17,
   "id": "a409ecea-6799-4042-99fa-b2a83c88c088",
   "metadata": {},
   "outputs": [
    {
     "data": {
      "text/plain": [
       "[0, 1, 1, 2, 3, 5, 8, 13, 21, 34]"
      ]
     },
     "execution_count": 17,
     "metadata": {},
     "output_type": "execute_result"
    }
   ],
   "source": [
    "def fibonacci_num(n):\n",
    "    list_fib=[]\n",
    "    a,b=0,1\n",
    "    count=0\n",
    "    while count<n:\n",
    "        list_fib.append(a)\n",
    "        a,b=b,a+b\n",
    "        count+=1\n",
    "    return list_fib\n",
    "\n",
    "fibonacci_num(10)"
   ]
  },
  {
   "cell_type": "markdown",
   "id": "1f7b4bb6-45e4-4bd7-a84e-c821e5e9d92e",
   "metadata": {},
   "source": [
    "Q7. Write a List Comprehension to iterate through the given string: ‘pwskills’.\n",
    "Expected output: ['p', 'w', 's', 'k', 'i', 'l', 'l', 's']"
   ]
  },
  {
   "cell_type": "code",
   "execution_count": 18,
   "id": "443c2096-d5da-4911-9631-9dc6abcd505f",
   "metadata": {},
   "outputs": [
    {
     "data": {
      "text/plain": [
       "['p', 'w', 's', 'k', 'i', 'l', 'l', 's']"
      ]
     },
     "execution_count": 18,
     "metadata": {},
     "output_type": "execute_result"
    }
   ],
   "source": [
    "l1='pwskills'\n",
    "l2=[i for i in l1]\n",
    "l2"
   ]
  },
  {
   "cell_type": "markdown",
   "id": "ff60b741-90ab-4a99-b064-b5265a354218",
   "metadata": {},
   "source": [
    "Q8. Write a python program to check whether a given number is Palindrome or not using a while loop."
   ]
  },
  {
   "cell_type": "code",
   "execution_count": 23,
   "id": "07cf91da-6eb8-4605-8ec0-86ca5327e36c",
   "metadata": {},
   "outputs": [
    {
     "name": "stdin",
     "output_type": "stream",
     "text": [
      "enter a number 235\n"
     ]
    },
    {
     "name": "stdout",
     "output_type": "stream",
     "text": [
      "235 number is not palindrome number\n"
     ]
    }
   ],
   "source": [
    "def num(n):\n",
    "    s=str(n)\n",
    "    i=0\n",
    "    j=len(s)-1\n",
    "    while i<=j:\n",
    "        if s[i]!=s[j]:\n",
    "            return False\n",
    "        i+=1\n",
    "        j-=1\n",
    "        \n",
    "    return True\n",
    "\n",
    "number=int(input(\"enter a number\"))\n",
    "\n",
    "if num(number):\n",
    "    print(number ,\"number is palindrome number\")\n",
    "else:\n",
    "     print(number ,\"number is not palindrome number\")\n",
    "    "
   ]
  },
  {
   "cell_type": "markdown",
   "id": "255a788b-973c-48b4-ad43-0617ddd4bb2f",
   "metadata": {},
   "source": [
    "Q9. Write a code to print odd numbers from 1 to 100 using list comprehension."
   ]
  },
  {
   "cell_type": "code",
   "execution_count": 24,
   "id": "16a30e7e-ad4b-46ad-a52e-591977943d5b",
   "metadata": {},
   "outputs": [
    {
     "ename": "SyntaxError",
     "evalue": "invalid syntax (874140499.py, line 1)",
     "output_type": "error",
     "traceback": [
      "\u001b[0;36m  Cell \u001b[0;32mIn[24], line 1\u001b[0;36m\u001b[0m\n\u001b[0;31m    l=[i for i in range(1,101) if i!=0 i]\u001b[0m\n\u001b[0m                                       ^\u001b[0m\n\u001b[0;31mSyntaxError\u001b[0m\u001b[0;31m:\u001b[0m invalid syntax\n"
     ]
    }
   ],
   "source": [
    "l=[i for i in range(1,101) if i!=0 i]"
   ]
  },
  {
   "cell_type": "code",
   "execution_count": null,
   "id": "24db0f95-a84b-437f-8044-ee64d68cde02",
   "metadata": {},
   "outputs": [],
   "source": []
  }
 ],
 "metadata": {
  "kernelspec": {
   "display_name": "Python 3 (ipykernel)",
   "language": "python",
   "name": "python3"
  },
  "language_info": {
   "codemirror_mode": {
    "name": "ipython",
    "version": 3
   },
   "file_extension": ".py",
   "mimetype": "text/x-python",
   "name": "python",
   "nbconvert_exporter": "python",
   "pygments_lexer": "ipython3",
   "version": "3.10.8"
  }
 },
 "nbformat": 4,
 "nbformat_minor": 5
}
