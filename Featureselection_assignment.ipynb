{
 "cells": [
  {
   "cell_type": "markdown",
   "id": "8297de5c-4c3a-407e-ae6b-70e6439ebabf",
   "metadata": {},
   "source": [
    "Q1. What is the Filter method in feature selection, and how does it work?"
   ]
  },
  {
   "cell_type": "markdown",
   "id": "957fcccd-c65c-4e98-93e7-efb1ae357163",
   "metadata": {},
   "source": [
    "Ans:-The Filter method in feature selection involves evaluating the relevance of each feature independently of the predictive model. It typically ranks features based on statistical measures like correlation, information gain, or mutual information."
   ]
  },
  {
   "cell_type": "markdown",
   "id": "591ea0e0-3a8b-48ae-b10c-ee9ae82f3e51",
   "metadata": {},
   "source": [
    "Q2. How does the Wrapper method differ from the Filter method in feature selection?"
   ]
  },
  {
   "cell_type": "markdown",
   "id": "8d7111dc-8d2d-4667-be31-6177d74358b8",
   "metadata": {},
   "source": [
    "Ans:- The Wrapper method differs from the Filter method in that it evaluates subsets of features based on their performance with a specific machine learning algorithm. It uses a search strategy to select the best subset that optimizes the model's performance."
   ]
  },
  {
   "cell_type": "markdown",
   "id": "d756805d-2d32-4c50-8fd3-920c9666c5a0",
   "metadata": {},
   "source": [
    "Q3. What are some common techniques used in Embedded feature selection methods?"
   ]
  },
  {
   "cell_type": "markdown",
   "id": "43d8a496-7a9d-4598-8279-654ec6257f6f",
   "metadata": {},
   "source": [
    "Ans:-Common techniques used in Embedded feature selection methods include LASSO (Least Absolute Shrinkage and Selection Operator), Ridge regression, Decision Trees, and Random Forests, where feature selection is inherently integrated into the model training process."
   ]
  },
  {
   "cell_type": "markdown",
   "id": "c0ba77a8-733c-4b0b-a55b-1898a3711761",
   "metadata": {},
   "source": [
    "Q4. What are some drawbacks of using the Filter method for feature selection?"
   ]
  },
  {
   "cell_type": "markdown",
   "id": "98f5b72d-aaf7-4a39-b749-4b4f941fd799",
   "metadata": {},
   "source": [
    "Ans:-Some drawbacks of using the Filter method for feature selection include its inability to capture feature interactions, its reliance on predefined metrics that may not be optimal for the specific predictive model, and the possibility of discarding potentially relevant features."
   ]
  },
  {
   "cell_type": "markdown",
   "id": "b21f63d6-d272-4c1f-8c37-c83c430f3301",
   "metadata": {},
   "source": [
    "Q5. In which situations would you prefer using the Filter method over the Wrapper method for feature\n",
    "selection?"
   ]
  },
  {
   "cell_type": "markdown",
   "id": "fc8773a6-8552-4596-88ac-cb95553fe363",
   "metadata": {},
   "source": [
    "Ana:-The Filter method is preferred over the Wrapper method when computational resources are limited, and a quick assessment of feature relevance is needed. It is also suitable when feature independence assumptions hold, and there is a need for transparent feature selection criteria."
   ]
  },
  {
   "cell_type": "markdown",
   "id": "cb76309f-fef8-48c9-b32e-3ca4a4ab9279",
   "metadata": {},
   "source": [
    "Q6. In a telecom company, you are working on a project to develop a predictive model for customer churn.\n",
    "You are unsure of which features to include in the model because the dataset contains several different\n",
    "ones. Describe how you would choose the most pertinent attributes for the model using the Filter Method."
   ]
  },
  {
   "cell_type": "markdown",
   "id": "47417c7b-9bef-4444-9370-8dc543fc1f6e",
   "metadata": {},
   "source": [
    "Ans:=To choose the most pertinent attributes for the customer churn model using the Filter Method, I would compute correlation coefficients or mutual information scores between each feature and the target variable (customer churn). Features with high scores indicating strong relationships would be selected."
   ]
  },
  {
   "cell_type": "markdown",
   "id": "a8cb2725-5d52-43a6-810a-d3abb8f31fe9",
   "metadata": {},
   "source": [
    "Q7. You are working on a project to predict the outcome of a soccer match. You have a large dataset with\n",
    "many features, including player statistics and team rankings. Explain how you would use the Embedded\n",
    "method to select the most relevant features for the model.\n"
   ]
  },
  {
   "cell_type": "markdown",
   "id": "6ab3b603-d7b3-47b2-856c-05a625436aa0",
   "metadata": {},
   "source": []
  },
  {
   "cell_type": "markdown",
   "id": "d4d19f94-f281-4479-98be-1982898cc187",
   "metadata": {},
   "source": [
    "Q8. You are working on a project to predict the price of a house based on its features, such as size, location,\n",
    "and age. You have a limited number of features, and you want to ensure that you select the most important\n",
    "ones for the model. Explain how you would use the Wrapper method to select the best set of features for the\n",
    "predictor."
   ]
  },
  {
   "cell_type": "markdown",
   "id": "d6b7d6fd-3987-4806-bded-8c5de1b65c79",
   "metadata": {},
   "source": []
  },
  {
   "cell_type": "markdown",
   "id": "0feb1eeb-d41f-478a-81cc-86c005a81f38",
   "metadata": {},
   "source": []
  },
  {
   "cell_type": "markdown",
   "id": "507f31e6-9386-44e4-8ba4-3bee9d9ef68f",
   "metadata": {},
   "source": []
  },
  {
   "cell_type": "markdown",
   "id": "5f5ca47e-f076-48ad-8836-f883b3d5f33b",
   "metadata": {},
   "source": []
  },
  {
   "cell_type": "markdown",
   "id": "644af381-93f5-49e9-bd89-29a4f6325a68",
   "metadata": {},
   "source": []
  }
 ],
 "metadata": {
  "kernelspec": {
   "display_name": "Python 3 (ipykernel)",
   "language": "python",
   "name": "python3"
  },
  "language_info": {
   "codemirror_mode": {
    "name": "ipython",
    "version": 3
   },
   "file_extension": ".py",
   "mimetype": "text/x-python",
   "name": "python",
   "nbconvert_exporter": "python",
   "pygments_lexer": "ipython3",
   "version": "3.10.8"
  }
 },
 "nbformat": 4,
 "nbformat_minor": 5
}
