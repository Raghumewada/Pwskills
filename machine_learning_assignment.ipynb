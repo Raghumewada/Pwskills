{
 "cells": [
  {
   "cell_type": "raw",
   "id": "ef745e0c-d5bd-4a2e-ad75-5c44c82da8aa",
   "metadata": {},
   "source": [
    "Artificial Intelligence\n",
    "Machine Learning\n",
    "Deep Learning"
   ]
  },
  {
   "cell_type": "raw",
   "id": "ba7fae94-5df3-423f-bac9-47f22b97fe15",
   "metadata": {},
   "source": [
    " Artificial Intelligence (AI): It's about making machines think and act like humans. Example: Siri or Alexa.\n",
    "\n",
    "Machine Learning (ML): Algorithms that learn from data and improve over time without being explicitly programmed. Example: Email spam filters.\n",
    "\n",
    "Deep Learning (DL): A subset of ML using neural networks with many layers to process complex data. Example: Image recognition in photos."
   ]
  },
  {
   "cell_type": "code",
   "execution_count": null,
   "id": "461fc50e-9257-4fcb-958b-58fbfc6d1b31",
   "metadata": {},
   "outputs": [],
   "source": []
  },
  {
   "cell_type": "raw",
   "id": "7799965f-9bf1-4b9c-8d36-4bbee4603275",
   "metadata": {},
   "source": [
    "Q.2 what is supervised learning ? List some example of supervised learning?"
   ]
  },
  {
   "cell_type": "raw",
   "id": "a7d80dff-350d-483b-a367-68f072eb12ad",
   "metadata": {},
   "source": [
    "Supervised learning is a type of machine learning where the algorithm learns from labeled data, meaning it's provided with input-output pairs during training. The algorithm learns to map inputs to outputs, making predictions or decisions based on that mapping.\n",
    "\n",
    "Examples of supervised learning include:\n",
    "\n",
    "Email spam classification: Given a dataset of emails labeled as spam or not spam, the algorithm learns to classify new emails as either spam or not spam based on features extracted from the email content.\n",
    "\n",
    "Image classification: An algorithm trained on a dataset of images labeled with categories (e.g., cat, dog, car) can classify new images into these categories.\n",
    "\n",
    "Predictive maintenance: Using historical data about machine failures and maintenance activities, algorithms can predict when a machine is likely to fail in the future, enabling proactive maintenance to prevent downtime.\n",
    "\n",
    "Sentiment analysis: Given a dataset of text data with labeled sentiment (positive, negative, neutral), algorithms can learn to classify new text data according to its sentiment.\n",
    "\n"
   ]
  },
  {
   "cell_type": "code",
   "execution_count": null,
   "id": "c1f9e116-40ba-491e-ab61-e28b0b86148c",
   "metadata": {},
   "outputs": [],
   "source": []
  },
  {
   "cell_type": "raw",
   "id": "7ddac14c-9338-4c99-a4d7-8fcfd4386860",
   "metadata": {},
   "source": [
    "Q.3 what is unsupervised learning ? List some example of unsupervised learning?"
   ]
  },
  {
   "cell_type": "raw",
   "id": "7cf411e7-267d-4583-9645-c6b4627c770d",
   "metadata": {},
   "source": [
    "unsupervised learning is a type of machine learning where the algorithm learns patterns from unlabeled data without explicit guidance or supervision. Unlike supervised learning, there are no predefined labels associated with the input data.\n",
    "\n",
    "    Clustering: Groups similar data points based on features. Example: k-means clusters data into distinct groups.\n",
    "\n",
    "    Dimensionality Reduction: Techniques like PCA or t-SNE simplify data while preserving structure, useful for visualizing high-         dimensional data.\n",
    "\n",
    "    Anomaly Detection: Identifies unusual patterns or outliers in data. Example: Detecting fraud in financial transactions.\n",
    "\n",
    "    Association Rule Learning: Discovers relationships between variables. Example: Market basket analysis identifies   item              associations.\n",
    "\n",
    "    Generative Models: Learn data's probability distribution and generate similar samples. "
   ]
  },
  {
   "cell_type": "code",
   "execution_count": null,
   "id": "2b6ae8b0-d807-4736-bf60-a20190ca7618",
   "metadata": {},
   "outputs": [],
   "source": []
  },
  {
   "cell_type": "raw",
   "id": "bcdf86ae-0789-4808-9f4d-985320e642f2",
   "metadata": {},
   "source": [
    "Q4- What is different between AI,ML,DLand DS?"
   ]
  },
  {
   "cell_type": "raw",
   "id": "f58907ff-a800-4858-a372-016eae50bfff",
   "metadata": {},
   "source": [
    "AI (Artificial Intelligence): Focuses on creating machines that can mimic human intelligence and perform tasks such as learning, reasoning, and problem-solving.\n",
    "\n",
    "ML (Machine Learning): A subset of AI, it involves algorithms that learn from data to make predictions or decisions without being explicitly programmed.\n",
    "\n",
    "DL (Deep Learning): A subset of ML, it uses artificial neural networks with multiple layers to process complex data and achieve higher levels of abstraction.\n",
    "\n",
    "DS (Data Science): Encompasses a broader field that includes AI, ML, and DL, along with other techniques, focusing on extracting insights and knowledge from data through various methodologies."
   ]
  },
  {
   "cell_type": "code",
   "execution_count": null,
   "id": "1c2ad840-5bad-4418-ba36-0d4dbf6dbe45",
   "metadata": {},
   "outputs": [],
   "source": []
  },
  {
   "cell_type": "raw",
   "id": "da9ff1f2-1b32-4923-b52d-017d87eb10a5",
   "metadata": {},
   "source": [
    "Q5- What are the main differences between supervised,unsupervised and semisupervised learning?"
   ]
  },
  {
   "cell_type": "raw",
   "id": "fa81c42d-c948-49b8-bf81-86f57b1cf197",
   "metadata": {},
   "source": [
    "Supervised Learning: Learns from labeled data with input-output pairs provided during training.\n",
    "\n",
    "Unsupervised Learning: Learns patterns from unlabeled data without explicit guidance.\n",
    "\n",
    "Semi-supervised Learning: Uses a combination of labeled and unlabeled data for training, leveraging both to improve learning accuracy and efficiency."
   ]
  },
  {
   "cell_type": "code",
   "execution_count": null,
   "id": "1c0bb60a-f320-4a49-bd15-ecaf65e126ae",
   "metadata": {},
   "outputs": [],
   "source": []
  },
  {
   "cell_type": "raw",
   "id": "7349ccfd-d4f1-4d97-a5c5-4835151eca5b",
   "metadata": {},
   "source": [
    "Q6- What is train,test and validation split? Explain the importance of each term."
   ]
  },
  {
   "cell_type": "raw",
   "id": "01073814-3b95-45b3-a24c-cfe5da965666",
   "metadata": {},
   "source": [
    "Train/Test/Validation Split:\n",
    "\n",
    "Train Set: Data used to train the model.\n",
    "Test Set: Data used to evaluate the model's performance after training.\n",
    "Validation Set: An additional dataset used to fine-tune model parameters during training.\n",
    "Importance:\n",
    "\n",
    "Train Set: Crucial for model learning, as it's used to update model parameters.\n",
    "Test Set: Evaluates the model's performance on unseen data, providing insights into its generalization ability.\n",
    "Validation Set: Helps tune hyperparameters and prevent overfitting by providing an unbiased estimate of the model's performance."
   ]
  },
  {
   "cell_type": "code",
   "execution_count": null,
   "id": "af9a99c3-9f67-4267-81f9-aa0ae7e6db67",
   "metadata": {},
   "outputs": [],
   "source": []
  },
  {
   "cell_type": "raw",
   "id": "3d339486-a343-40c5-9517-8d035e835851",
   "metadata": {},
   "source": [
    "Q7- How can unsupervised learning be used in anomaly detection?"
   ]
  },
  {
   "cell_type": "raw",
   "id": "7bafe09f-812f-4428-ade4-ba8683289a98",
   "metadata": {},
   "source": [
    "Unsupervised learning in anomaly detection involves identifying unusual patterns or outliers in data without using labeled examples. Algorithms learn the normal behavior of the data and flag instances that deviate significantly from this norm as anomalies."
   ]
  },
  {
   "cell_type": "code",
   "execution_count": null,
   "id": "44790b72-a15c-46b2-aeae-fad35eae0ca9",
   "metadata": {},
   "outputs": [],
   "source": []
  },
  {
   "cell_type": "raw",
   "id": "2b252160-90ae-46ec-8f2c-a041466ad95a",
   "metadata": {},
   "source": []
  }
 ],
 "metadata": {
  "kernelspec": {
   "display_name": "Python 3 (ipykernel)",
   "language": "python",
   "name": "python3"
  },
  "language_info": {
   "codemirror_mode": {
    "name": "ipython",
    "version": 3
   },
   "file_extension": ".py",
   "mimetype": "text/x-python",
   "name": "python",
   "nbconvert_exporter": "python",
   "pygments_lexer": "ipython3",
   "version": "3.10.8"
  }
 },
 "nbformat": 4,
 "nbformat_minor": 5
}
