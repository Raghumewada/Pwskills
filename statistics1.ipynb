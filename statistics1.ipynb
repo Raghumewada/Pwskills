{
 "cells": [
  {
   "cell_type": "raw",
   "id": "945457b4-6526-4d8a-b77c-ed0f090a81dc",
   "metadata": {},
   "source": [
    "Q1. What is Statistics?"
   ]
  },
  {
   "cell_type": "raw",
   "id": "9fea143b-50a9-4e5f-be28-ee38e81eedbf",
   "metadata": {},
   "source": [
    "Statistics is a branch of mathematics focused on collecting, analyzing, interpreting, presenting, and organizing data. It helps in making informed decisions and drawing conclusions based on data."
   ]
  },
  {
   "cell_type": "raw",
   "id": "2dfc0c47-6661-41a0-ab93-a5f43769fab5",
   "metadata": {},
   "source": []
  },
  {
   "cell_type": "raw",
   "id": "3359a726-65ea-4ffd-a112-e72d95a72c39",
   "metadata": {},
   "source": [
    "Q2. Define the different types of statistics and give an example of when each type might be used."
   ]
  },
  {
   "cell_type": "raw",
   "id": "2db7d083-a8e6-4a1c-81a6-2c10c02283b4",
   "metadata": {},
   "source": [
    "Descriptive Statistics: This type involves summarizing and describing the main features of a dataset. Example: Calculating the average test scores of students in a class to understand the general performance level.\n",
    "\n",
    "Inferential Statistics: This type involves making predictions or inferences about a population based on a sample. Example: Conducting a survey of 1,000 voters to predict the outcome of a national election."
   ]
  },
  {
   "cell_type": "raw",
   "id": "705afcce-7972-4567-922d-8dcc1b83e55c",
   "metadata": {},
   "source": []
  },
  {
   "cell_type": "raw",
   "id": "79db8670-79a7-484b-967f-e6e59c46a857",
   "metadata": {},
   "source": [
    "Q3. What are the different types of data and how do they differ from each other? Provide an example of\n",
    "each type of data."
   ]
  },
  {
   "cell_type": "raw",
   "id": "62f56a60-3bc2-40fe-bd66-353cf4cf7efb",
   "metadata": {},
   "source": [
    "Nominal Data: Categorical data without a specific order. Example: Gender (male, female).\n",
    "\n",
    "Ordinal Data: Categorical data with a meaningful order but no consistent difference between categories. Example: Education level (high school, bachelor's, master's, Ph.D.).\n",
    "\n",
    "Interval Data: Numerical data with equal intervals between values but no true zero point. Example: Temperature in Celsius or Fahrenheit.\n",
    "\n",
    "Ratio Data: Numerical data with equal intervals and a true zero point. Example: Weight (kilograms)."
   ]
  },
  {
   "cell_type": "raw",
   "id": "f8288570-3338-4bd5-b433-eb8549356e3c",
   "metadata": {},
   "source": []
  },
  {
   "cell_type": "raw",
   "id": "1f480382-3222-48e2-baa3-7a3007e463f2",
   "metadata": {},
   "source": [
    "Q4. Categorise the following datasets with respect to quantitative and qualitative data types:\n",
    "(i) Grading in exam: A+, A, B+, B, C+, C, D, E\n",
    "(ii) Colour of mangoes: yellow, green, orange, red\n",
    "(iii) Height data of a class: [178.9, 179, 179.5, 176, 177.2, 178.3, 175.8,...]\n",
    "(iv) Number of mangoes exported by a farm: [500, 600, 478, 672, ...]"
   ]
  },
  {
   "cell_type": "raw",
   "id": "4143375a-bd99-4904-afe2-668ebb007c27",
   "metadata": {},
   "source": [
    "Qualitative Data:\n",
    "\n",
    "Ordinal: Grading in exam (A+, A, B+, B, C+, C, D, E)\n",
    "Nominal: Colour of mangoes (yellow, green, orange, red)\n",
    "Quantitative Data:\n",
    "\n",
    "Continuous: Height data of a class ([178.9, 179, 179.5, 176, 177.2, 178.3, 175.8,...])\n",
    "Discrete: Number of mangoes exported by a farm ([500, 600, 478, 672, ...])"
   ]
  },
  {
   "cell_type": "raw",
   "id": "1222119f-5a52-4848-9eb1-7df4723f9f50",
   "metadata": {},
   "source": []
  },
  {
   "cell_type": "raw",
   "id": "f660dddc-e67a-48b0-b4bf-cc923c4926c4",
   "metadata": {},
   "source": [
    "Q5. Explain the concept of levels of measurement and give an example of a variable for each level."
   ]
  },
  {
   "cell_type": "raw",
   "id": "b028caf4-62f7-4928-ad0a-c3be148adce0",
   "metadata": {},
   "source": [
    "Nominal Level: Categories without a specific order. Example: Blood type (A, B, AB, O).\n",
    "\n",
    "Ordinal Level: Categories with a meaningful order. Example: Satisfaction rating (poor, fair, good, excellent).\n",
    "\n",
    "Interval Level: Ordered categories with equal intervals and no true zero. Example: Calendar years (2000, 2001, 2002).\n",
    "\n",
    "Ratio Level: Ordered categories with equal intervals and a true zero. Example: Height (meters)."
   ]
  },
  {
   "cell_type": "raw",
   "id": "ebc11c7b-7647-432c-a2e5-aa2c99d0348d",
   "metadata": {},
   "source": []
  },
  {
   "cell_type": "raw",
   "id": "db679f84-6005-48a2-92f4-2b57c9f50ba4",
   "metadata": {},
   "source": [
    "Q6. Why is it important to understand the level of measurement when analyzing data? Provide an\n",
    "example to illustrate your answer."
   ]
  },
  {
   "cell_type": "raw",
   "id": "5e8bd206-7a3d-430c-bf79-828f958c6ad2",
   "metadata": {},
   "source": [
    "Understanding the level of measurement is crucial because it determines the appropriate statistical methods and tests to use. For example, calculating the mean is appropriate for interval and ratio data but not for nominal data. If you have nominal data like types of fruit (apple, orange, banana), calculating the mean wouldn't make sense. Instead, you would use mode to determine the most common fruit type."
   ]
  },
  {
   "cell_type": "raw",
   "id": "f725acfb-062f-4b55-a897-2aa0e2ee4457",
   "metadata": {},
   "source": []
  },
  {
   "cell_type": "raw",
   "id": "f6c9a3d9-37c5-45df-b18b-8bf8015bf600",
   "metadata": {},
   "source": [
    "Q7. How nominal data type is different from ordinal data type."
   ]
  },
  {
   "cell_type": "raw",
   "id": "02ba4cd5-634b-4a91-aa80-bcbfb5f6569c",
   "metadata": {},
   "source": [
    "Nominal data consists of categories without any inherent order (e.g., hair color: blonde, brunette, red). Ordinal data consists of categories with a specific order or ranking (e.g., movie ratings: poor, fair, good, excellent)."
   ]
  },
  {
   "cell_type": "raw",
   "id": "2e6cd7eb-7e65-44e8-a9d9-f2ac1e946fd5",
   "metadata": {},
   "source": []
  },
  {
   "cell_type": "raw",
   "id": "e375daab-042e-4f97-8a85-8f628bea1208",
   "metadata": {},
   "source": [
    "Q8. Which type of plot can be used to display data in terms of range?"
   ]
  },
  {
   "cell_type": "raw",
   "id": "399788b4-f9af-4fe0-a93a-6e3974bb934b",
   "metadata": {},
   "source": [
    "A box plot (also known as a box-and-whisker plot) can be used to display data in terms of range. It shows the minimum, first quartile, median, third quartile, and maximum values."
   ]
  },
  {
   "cell_type": "raw",
   "id": "82386979-7363-4068-a3b0-2a510c16b441",
   "metadata": {},
   "source": []
  },
  {
   "cell_type": "raw",
   "id": "baffffb8-b60e-45d7-a6a6-bbadfb17ffe3",
   "metadata": {},
   "source": [
    "Q9. Describe the difference between descriptive and inferential statistics. Give an example of each\n",
    "type of statistics and explain how they are used."
   ]
  },
  {
   "cell_type": "raw",
   "id": "4b898f0f-ce0e-4054-a338-bb1900cea8ef",
   "metadata": {},
   "source": [
    "Descriptive Statistics: Focuses on summarizing and describing data. Example: Calculating the mean and standard deviation of test scores in a class to describe the distribution of scores.\n",
    "\n",
    "Inferential Statistics: Focuses on making predictions or inferences about a population based on a sample. Example: Using sample data to estimate the average height of all students in a university."
   ]
  },
  {
   "cell_type": "raw",
   "id": "fa8eb58a-112f-453d-9f03-647b240085a4",
   "metadata": {},
   "source": []
  },
  {
   "cell_type": "raw",
   "id": "a2a1178c-2c3f-4f59-8053-227269a3bc0b",
   "metadata": {},
   "source": [
    "Q10. What are some common measures of central tendency and variability used in statistics? Explain\n",
    "how each measure can be used to describe a dataset."
   ]
  },
  {
   "cell_type": "raw",
   "id": "0ddd401f-6c58-4fe7-918c-2c26154ab877",
   "metadata": {},
   "source": [
    "Measures of Central Tendency:\n",
    "\n",
    "Mean: The average value of a dataset. Example: Average income of households in a city.\n",
    "Median: The middle value when data is ordered. Example: Median age of participants in a survey.\n",
    "Mode: The most frequently occurring value. Example: Most common shoe size sold in a store.\n",
    "Measures of Variability:\n",
    "\n",
    "Range: The difference between the maximum and minimum values. Example: Temperature range over a week.\n",
    "Variance: The average squared deviation from the mean. Example: Variance in students' test scores to understand the spread.\n",
    "Standard Deviation: The square root of the variance, indicating the average distance from the mean. Example: Standard deviation of investment returns to assess risk."
   ]
  }
 ],
 "metadata": {
  "kernelspec": {
   "display_name": "Python 3 (ipykernel)",
   "language": "python",
   "name": "python3"
  },
  "language_info": {
   "codemirror_mode": {
    "name": "ipython",
    "version": 3
   },
   "file_extension": ".py",
   "mimetype": "text/x-python",
   "name": "python",
   "nbconvert_exporter": "python",
   "pygments_lexer": "ipython3",
   "version": "3.12.1"
  }
 },
 "nbformat": 4,
 "nbformat_minor": 5
}
