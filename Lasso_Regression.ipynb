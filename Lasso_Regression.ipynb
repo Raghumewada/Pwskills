{
 "cells": [
  {
   "cell_type": "markdown",
   "id": "06df644e-96eb-4934-818e-b1fb76969942",
   "metadata": {},
   "source": [
    "Q1. What is Lasso Regression, and how does it differ from other regression techniques?"
   ]
  },
  {
   "cell_type": "markdown",
   "id": "efc377cc-3a27-441b-a6fe-762c8fef9240",
   "metadata": {},
   "source": [
    "Lasso Regression: Lasso Regression (Least Absolute Shrinkage and Selection Operator) is a type of linear regression that adds an L1 penalty to the cost function. This penalty is the absolute value of the coefficients multiplied by a tuning parameter (lambda).\n",
    "\n",
    "Differences:\n",
    "\n",
    "- Ordinary Least Squares (OLS): No regularization.\n",
    " - Ridge Regression: L2 penalty (sum of squared coefficients).\n",
    " - Lasso Regression: L1 penalty (sum of absolute values of coefficients), which can shrink some coefficients to zero, effectively performing feature selection."
   ]
  },
  {
   "cell_type": "raw",
   "id": "6482b6a6-bc98-4e35-87b0-4481ac51c691",
   "metadata": {},
   "source": []
  },
  {
   "cell_type": "markdown",
   "id": "ee261eda-6698-4014-858f-ab61784de6e7",
   "metadata": {},
   "source": [
    "Q2. What is the main advantage of using Lasso Regression in feature selection?"
   ]
  },
  {
   "cell_type": "markdown",
   "id": "319f6b21-824a-494f-a2d0-9d92e5f2f001",
   "metadata": {},
   "source": [
    "Automatic Feature Selection: Lasso Regression can shrink some coefficients to exactly zero, effectively removing less important features from the model. This leads to a simpler, more interpretable model."
   ]
  },
  {
   "cell_type": "raw",
   "id": "5d5833bd-dd93-4326-a725-fab02dea9f33",
   "metadata": {},
   "source": []
  },
  {
   "cell_type": "markdown",
   "id": "539b2700-f146-4db1-8cec-25087270ab8d",
   "metadata": {},
   "source": [
    "Q3. How do you interpret the coefficients of a Lasso Regression model?"
   ]
  },
  {
   "cell_type": "markdown",
   "id": "d27b7a2e-bbc9-4f85-9125-fdf4d33f69d2",
   "metadata": {},
   "source": [
    "Magnitude, Direction, and Selection: The coefficients indicate the direction and magnitude of the relationship between predictors and the response variable. Coefficients that are zero indicate that the corresponding feature is not important for predicting the response."
   ]
  },
  {
   "cell_type": "raw",
   "id": "99a351d8-7bbd-4ee3-8a5a-bb4baea320fe",
   "metadata": {},
   "source": []
  },
  {
   "cell_type": "markdown",
   "id": "f85aaf43-55e2-4a0b-9085-ca95f0a9dc37",
   "metadata": {},
   "source": [
    "Q4. What are the tuning parameters that can be adjusted in Lasso Regression, and how do they affect the model's performance?"
   ]
  },
  {
   "cell_type": "markdown",
   "id": "31dd6eb9-1be5-4500-bd19-d99b290c63f9",
   "metadata": {},
   "source": [
    "Regularization Parameter (Lambda):\n",
    "\n",
    "- Lambda: Controls the strength of the L1 penalty.\n",
    "    - High Lambda: More coefficients shrink to zero, resulting in simpler models with fewer features.\n",
    "    - Low Lambda: Less shrinkage, resulting in models closer to ordinary least squares."
   ]
  },
  {
   "cell_type": "raw",
   "id": "adf76c2b-7a97-45ce-bef3-a89e3ead181d",
   "metadata": {},
   "source": []
  },
  {
   "cell_type": "markdown",
   "id": "21ed294a-5483-4122-8698-ccddc63f6642",
   "metadata": {},
   "source": [
    "Q5. Can Lasso Regression be used for non-linear regression problems? If yes, how?"
   ]
  },
  {
   "cell_type": "markdown",
   "id": "b7a7d51e-d521-4237-8ff4-a92cc759832b",
   "metadata": {},
   "source": [
    "Yes: By transforming the features using techniques such as polynomial features or interaction terms, Lasso Regression can be applied to non-linear relationships. This is done by fitting a linear model to the transformed, higher-dimensional feature space."
   ]
  },
  {
   "cell_type": "raw",
   "id": "22578396-cba5-400c-9566-5f15e8f90cf3",
   "metadata": {},
   "source": []
  },
  {
   "cell_type": "markdown",
   "id": "c190ac7b-2155-4df0-bb10-87fb77b95fb9",
   "metadata": {},
   "source": [
    "Q6. What is the difference between Ridge Regression and Lasso Regression?"
   ]
  },
  {
   "cell_type": "markdown",
   "id": "1c9e256e-3e57-4496-8f86-4ad28280b2af",
   "metadata": {},
   "source": [
    "Penalty Type and Feature Selection:\n",
    "\n",
    "- Ridge Regression: Uses L2 penalty (sum of squared coefficients). Reduces coefficient size but does not set any to zero.\n",
    "- Lasso Regression: Uses L1 penalty (sum of absolute coefficients). Can shrink some coefficients to zero, performing feature selection."
   ]
  },
  {
   "cell_type": "raw",
   "id": "481c7a49-367d-45ea-b34e-befa864e4851",
   "metadata": {},
   "source": []
  },
  {
   "cell_type": "markdown",
   "id": "92d1fa5a-5fb7-4091-97a2-90a6f9b1adc7",
   "metadata": {},
   "source": [
    "Q7. Can Lasso Regression handle multicollinearity in the input features? If yes, how?"
   ]
  },
  {
   "cell_type": "markdown",
   "id": "4539bcaa-9d43-46b9-a3af-687003656eb5",
   "metadata": {},
   "source": [
    "Yes: Lasso Regression can handle multicollinearity by selecting one variable from a group of correlated variables and shrinking others to zero. This helps in identifying the most relevant predictors and reducing multicollinearity."
   ]
  },
  {
   "cell_type": "raw",
   "id": "7b387971-da9c-46fb-91d8-339839afe7c7",
   "metadata": {},
   "source": []
  },
  {
   "cell_type": "markdown",
   "id": "dd10c7bc-b730-474d-b85b-996a6cb3f814",
   "metadata": {},
   "source": [
    "Q8. How do you choose the optimal value of the regularization parameter (lambda) in Lasso Regression?"
   ]
  },
  {
   "cell_type": "markdown",
   "id": "79424c12-f1e4-4e7c-ac70-69c0175812af",
   "metadata": {},
   "source": [
    "Cross-Validation: Typically, lambda is selected through cross-validation. This involves splitting the data into training and validation sets multiple times, evaluating the performance, and choosing the lambda that results in the lowest validation error."
   ]
  }
 ],
 "metadata": {
  "kernelspec": {
   "display_name": "Python 3 (ipykernel)",
   "language": "python",
   "name": "python3"
  },
  "language_info": {
   "codemirror_mode": {
    "name": "ipython",
    "version": 3
   },
   "file_extension": ".py",
   "mimetype": "text/x-python",
   "name": "python",
   "nbconvert_exporter": "python",
   "pygments_lexer": "ipython3",
   "version": "3.10.8"
  }
 },
 "nbformat": 4,
 "nbformat_minor": 5
}
