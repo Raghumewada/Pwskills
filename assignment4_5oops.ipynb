{
 "cells": [
  {
   "cell_type": "markdown",
   "id": "5891a5a3-eab8-414d-b43f-e7426e227e9d",
   "metadata": {},
   "source": [
    "Q1, Create a vehicle class with an init method having instance variables as name_of_vehicle, max_speed\n",
    "and average_of_vehicle."
   ]
  },
  {
   "cell_type": "code",
   "execution_count": 1,
   "id": "3eec1859-4c73-4632-85cf-87faf3391377",
   "metadata": {},
   "outputs": [],
   "source": [
    "class vehicle:\n",
    "    \n",
    "    def __init__(self,name_of_vehicle,max_speed,average_of_vehicle):\n",
    "        self.name_of_vehicle = name_of_vehicle\n",
    "        self.max_speed = max_speed\n",
    "        self.average_of_vehicle =average_of_vehicle\n",
    "        "
   ]
  },
  {
   "cell_type": "code",
   "execution_count": 4,
   "id": "7c60c5f1-91e9-4338-86da-1ba82d918821",
   "metadata": {},
   "outputs": [
    {
     "name": "stdout",
     "output_type": "stream",
     "text": [
      "auto\n",
      "240\n",
      "18\n"
     ]
    }
   ],
   "source": [
    "car1=vehicle('auto',240,18)\n",
    "\n",
    "print(car1.name_of_vehicle)\n",
    "print(car1.max_speed)\n",
    "print(car1.average_of_vehicle)"
   ]
  },
  {
   "cell_type": "markdown",
   "id": "4890fe8e-fcdb-4009-a62d-4ad5f98455ea",
   "metadata": {},
   "source": [
    "Q2. Create a child class car from the vehicle class created in Que 1, which will inherit the vehicle class.\n",
    "Create a method named seating_capacity which takes capacity as an argument and returns the name of\n",
    "the vehicle and its seating capacity."
   ]
  },
  {
   "cell_type": "code",
   "execution_count": 21,
   "id": "0713800a-2084-45d3-a724-bb1a2b98e56e",
   "metadata": {},
   "outputs": [],
   "source": [
    "class car(vehicle):\n",
    "    def __init__(self,name):\n",
    "        self.name=name\n",
    "    def seating_capacity(self,capacity):\n",
    "        self.capacity=capacity\n",
    "        return self.name,self.capacity\n",
    "        "
   ]
  },
  {
   "cell_type": "code",
   "execution_count": 22,
   "id": "1cb5b4aa-9480-447c-876b-b7492554d9fa",
   "metadata": {},
   "outputs": [
    {
     "data": {
      "text/plain": [
       "('verna', 4)"
      ]
     },
     "execution_count": 22,
     "metadata": {},
     "output_type": "execute_result"
    }
   ],
   "source": [
    "car2=car('verna')\n",
    "\n",
    "car2.seating_capacity(4)"
   ]
  },
  {
   "cell_type": "markdown",
   "id": "f91fd3e8-e281-4a66-b66f-fb6b1b885e96",
   "metadata": {},
   "source": [
    "Q3. What is multiple inheritance? Write a python code to demonstrate multiple inheritance."
   ]
  },
  {
   "cell_type": "code",
   "execution_count": 3,
   "id": "1e4320c3-0881-46b0-a246-93310aafd623",
   "metadata": {},
   "outputs": [
    {
     "name": "stdout",
     "output_type": "stream",
     "text": [
      "method 1 from parent1\n",
      "method 2 from parent2\n",
      "method 3 from child\n"
     ]
    }
   ],
   "source": [
    "class parent1:\n",
    "     def method1(self):\n",
    "        print(\"method 1 from parent1\")\n",
    "        \n",
    "\n",
    "class parent2:\n",
    "    def method2(self):\n",
    "        print(\"method 2 from parent2\")\n",
    "        \n",
    "\n",
    "class child(parent1,parent2):\n",
    "    def method3(self):\n",
    "        print(\"method 3 from child\")\n",
    "        \n",
    "        \n",
    "a=child()\n",
    "\n",
    "a.method1()\n",
    "a.method2()\n",
    "a.method3()\n",
    "    \n",
    "    "
   ]
  },
  {
   "cell_type": "markdown",
   "id": "04ecb887-24ee-4ed7-a6b6-37b806901546",
   "metadata": {},
   "source": [
    "Q4. What are getter and setter in python? Create a class and create a getter and a setter method in this\n",
    "class.\n"
   ]
  },
  {
   "cell_type": "markdown",
   "id": "f40b99bf-5315-4f51-a105-4022ec7f200f",
   "metadata": {},
   "source": [
    "Getter Method: A getter method is used to retrieve the value of a private attribute from a class.\n",
    "\n",
    "Setter Method: A setter method is used to modify the value of a private attribute in a controlled way. It can include validation or additional logic before updating the attribute."
   ]
  },
  {
   "cell_type": "code",
   "execution_count": 1,
   "id": "40c5de56-c12c-4f3e-95ac-a6e5973a65ed",
   "metadata": {},
   "outputs": [
    {
     "data": {
      "text/plain": [
       "19"
      ]
     },
     "execution_count": 1,
     "metadata": {},
     "output_type": "execute_result"
    }
   ],
   "source": [
    "class person:\n",
    "    \n",
    "    def __init__(self,name,age):\n",
    "        self.__name=name\n",
    "        self.__age=age\n",
    "        \n",
    "    def set_name(self,name):\n",
    "        self.__name=name\n",
    "            \n",
    "    def get_name(self):\n",
    "            return self.__name\n",
    "    def set_age(self,age):\n",
    "        if age>0:\n",
    "            self.__age=age\n",
    "        else:\n",
    "            print(\"age must be positive\")\n",
    "    def get_age(self):\n",
    "        return self.__age\n",
    "        \n",
    "p1=person(\"john\",30)\n",
    "\n",
    "p1.set_name(\"veer\")\n",
    "p1.set_age(19)\n",
    "p1.get_name()\n",
    "p1.get_age()"
   ]
  },
  {
   "cell_type": "markdown",
   "id": "221a7475-4543-4210-b81f-43c6975c88ed",
   "metadata": {},
   "source": [
    "Q5.What is method overriding in python? Write a python code to demonstrate method overriding."
   ]
  },
  {
   "cell_type": "markdown",
   "id": "ed5f87f1-c708-4989-8271-23335fcb46fa",
   "metadata": {},
   "source": [
    "Method overriding in Python occurs when a subclass provides a specific implementation for a method that is already defined in its parent class"
   ]
  },
  {
   "cell_type": "code",
   "execution_count": 3,
   "id": "91e71cbe-ce4b-4777-a71f-0ca729636c4f",
   "metadata": {},
   "outputs": [
    {
     "name": "stdout",
     "output_type": "stream",
     "text": [
      "child is speaking\n",
      "None\n"
     ]
    }
   ],
   "source": [
    "class parent:\n",
    "    def speak(self):\n",
    "        print(\"parent is speaking\")\n",
    "        \n",
    "class child(parent):\n",
    "    def speak(self):\n",
    "        print(\"child is speaking\")\n",
    "        \n",
    "p=parent()\n",
    "c=child()\n",
    "\n",
    "# print(p.speak())\n",
    "print(c.speak())"
   ]
  },
  {
   "cell_type": "code",
   "execution_count": null,
   "id": "d603b647-d1bf-4797-b0b1-14ff2c9aacc1",
   "metadata": {},
   "outputs": [],
   "source": []
  }
 ],
 "metadata": {
  "kernelspec": {
   "display_name": "Python 3 (ipykernel)",
   "language": "python",
   "name": "python3"
  },
  "language_info": {
   "codemirror_mode": {
    "name": "ipython",
    "version": 3
   },
   "file_extension": ".py",
   "mimetype": "text/x-python",
   "name": "python",
   "nbconvert_exporter": "python",
   "pygments_lexer": "ipython3",
   "version": "3.10.8"
  }
 },
 "nbformat": 4,
 "nbformat_minor": 5
}
