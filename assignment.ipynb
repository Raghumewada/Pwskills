{
 "cells": [
  {
   "cell_type": "markdown",
   "id": "48c6a254-fa9f-4663-8971-1a9d7663bb6f",
   "metadata": {},
   "source": [
    "Q1. Create one variable containing following type of data:\n",
    "(i) string\n",
    "(ii) list\n",
    "(iii) float\n",
    "(iv) tuple"
   ]
  },
  {
   "cell_type": "code",
   "execution_count": 1,
   "id": "841f7810-9c96-4164-a630-538f44879c8b",
   "metadata": {},
   "outputs": [],
   "source": [
    "l1=['Pwskills',[1,2,3,4,'veer'],7.67,(1,2,3,'mewada')]"
   ]
  },
  {
   "cell_type": "code",
   "execution_count": 3,
   "id": "7c4101fd-db5c-4fe0-ae18-d469c1edc43e",
   "metadata": {},
   "outputs": [
    {
     "data": {
      "text/plain": [
       "['Pwskills', [1, 2, 3, 4, 'veer'], 7.67, 5.16, (1, 2, 3, 'mewada')]"
      ]
     },
     "execution_count": 3,
     "metadata": {},
     "output_type": "execute_result"
    }
   ],
   "source": [
    "l1"
   ]
  },
  {
   "cell_type": "markdown",
   "id": "79ab919a-6d93-444f-8ba3-de11c0b8ad73",
   "metadata": {},
   "source": [
    "Q2. Given are some following variables containing data:\n",
    "(i) var1 = ‘ ‘\n",
    "(ii) var2 = ‘[ DS , ML , Python]’\n",
    "(iii) var3 = [ ‘DS’ , ’ML’ , ‘Python’ ]\n",
    "(iv) var4 = 1.\n",
    "What will be the data type of the above given variable."
   ]
  },
  {
   "cell_type": "code",
   "execution_count": 10,
   "id": "4e8e1069-037b-472d-b38d-5c4d23dc7c60",
   "metadata": {},
   "outputs": [
    {
     "name": "stdout",
     "output_type": "stream",
     "text": [
      "<class 'str'>\n",
      "<class 'str'>\n",
      "<class 'list'>\n",
      "<class 'float'>\n"
     ]
    }
   ],
   "source": [
    "var1=''\n",
    "print(type(var1))\n",
    "var2='[DS,ML,Python]'\n",
    "print(type(var2))\n",
    "var3=['DS','ML','Python']\n",
    "print(type(var3))\n",
    "var4=1.\n",
    "print(type(var4))\n"
   ]
  },
  {
   "cell_type": "markdown",
   "id": "bfb74ec1-329e-4a64-9364-f028d36ea7a8",
   "metadata": {},
   "source": [
    "Q3. Explain the use of the following operators using an example:\n",
    "(i) /\n",
    "(ii) %\n",
    "(iii) //\n",
    "(iv) **\n"
   ]
  },
  {
   "cell_type": "code",
   "execution_count": 13,
   "id": "5dbaf707-4292-4c3e-8cef-50c30f69632e",
   "metadata": {},
   "outputs": [
    {
     "name": "stdout",
     "output_type": "stream",
     "text": [
      "2.0\n",
      "2\n",
      "6\n",
      "8\n"
     ]
    }
   ],
   "source": [
    "# / division operator use to divide operands\n",
    "print(10/5)\n",
    "\n",
    "# % modulus operator give remainder \n",
    "print(10%4)\n",
    "\n",
    "# // operator give fraction number\n",
    "print(20//3)\n",
    "\n",
    "# ** operator use to power of a oparands\n",
    "\n",
    "print(2**3)"
   ]
  },
  {
   "cell_type": "markdown",
   "id": "355824cf-6357-45a7-877f-727ad18e5181",
   "metadata": {},
   "source": [
    "Q4. Create a list of length 10 of your choice containing multiple types of data. Using for loop print the\n",
    "element and its data type."
   ]
  },
  {
   "cell_type": "code",
   "execution_count": 22,
   "id": "606648bd-0358-4cb6-8697-09351659aa8a",
   "metadata": {},
   "outputs": [
    {
     "name": "stdout",
     "output_type": "stream",
     "text": [
      "11\n",
      "<class 'int'>\n",
      "5\n",
      "<class 'int'>\n",
      "4\n",
      "<class 'int'>\n",
      "2\n",
      "<class 'int'>\n",
      "7.9\n",
      "<class 'float'>\n",
      "veer\n",
      "<class 'str'>\n",
      "True\n",
      "<class 'bool'>\n",
      "{2}\n",
      "<class 'set'>\n",
      "(2, 4)\n",
      "<class 'tuple'>\n"
     ]
    }
   ],
   "source": [
    "l2=[11,5,4,2,7.9,'veer',True,{2,},(2,4)]\n",
    "for i in l2:\n",
    "    print(i)\n",
    "    print(type(i))\n",
    "    "
   ]
  },
  {
   "cell_type": "markdown",
   "id": "7adf37b3-541d-4915-83dc-80ad537f8bb4",
   "metadata": {},
   "source": [
    "Q5. Using a while loop, verify if the number A is purely divisible by number B and if so then how many\n",
    "times it can be divisible."
   ]
  },
  {
   "cell_type": "code",
   "execution_count": 28,
   "id": "fd263337-80b6-48c8-a7db-5fa0469640ac",
   "metadata": {},
   "outputs": [
    {
     "name": "stdin",
     "output_type": "stream",
     "text": [
      "enter number A=  10\n",
      "enter number B=  2\n"
     ]
    },
    {
     "name": "stdout",
     "output_type": "stream",
     "text": [
      "A is purely divisible by B \n",
      "5.0\n"
     ]
    }
   ],
   "source": [
    "A=int(input('enter number A= '))\n",
    "B=int(input('enter number B= '))\n",
    "while(A%B==0):\n",
    "    print('A is purely divisible by B ')\n",
    "    print(A/B)\n",
    "    break\n",
    "if(A%B!=0):\n",
    "    print('A is not purely divisible by B')\n",
    "    "
   ]
  },
  {
   "cell_type": "markdown",
   "id": "ef112e6e-7f24-461a-a2f1-ae67d2460a3e",
   "metadata": {},
   "source": [
    "Q6. Create a list containing 25 int type data. Using for loop and if-else condition print if the element is\n",
    "divisible by 3 or not."
   ]
  },
  {
   "cell_type": "code",
   "execution_count": 2,
   "id": "3e58a624-d20f-4eaf-afdc-a6c764d14fd3",
   "metadata": {},
   "outputs": [
    {
     "name": "stdout",
     "output_type": "stream",
     "text": [
      "2  is not divisible by 3\n",
      "34  is not divisible by 3\n",
      "5  is not divisible by 3\n",
      "3  is divisible by 3\n",
      "12  is divisible by 3\n",
      "34  is not divisible by 3\n",
      "56  is not divisible by 3\n",
      "78  is divisible by 3\n",
      "9  is divisible by 3\n",
      "7  is not divisible by 3\n",
      "45  is divisible by 3\n",
      "65  is not divisible by 3\n",
      "43  is not divisible by 3\n",
      "57  is divisible by 3\n",
      "54  is divisible by 3\n",
      "32  is not divisible by 3\n",
      "78  is divisible by 3\n",
      "98  is not divisible by 3\n",
      "76  is not divisible by 3\n",
      "54  is divisible by 3\n",
      "85  is not divisible by 3\n",
      "43  is not divisible by 3\n",
      "56  is not divisible by 3\n",
      "90  is divisible by 3\n",
      "80  is not divisible by 3\n"
     ]
    }
   ],
   "source": [
    "l3=[2,34,5,3,12,34,56,78,9,7,45,65,43,57,54,32,78,98,76,54,85,43,56,90,80]\n",
    "\n",
    "for i in l3:\n",
    "    if(i%3==0):\n",
    "        print(i ,' is divisible by 3')\n",
    "    else:\n",
    "        print(i ,' is not divisible by 3')"
   ]
  },
  {
   "cell_type": "markdown",
   "id": "61700e70-c424-41b1-b395-4b79174a0daa",
   "metadata": {},
   "source": [
    "Q7. What do you understand about mutable and immutable data types? Give examples for both showing\n",
    "this property."
   ]
  },
  {
   "cell_type": "markdown",
   "id": "abf317bb-4010-4ed9-ac5c-cec7ed6a250f",
   "metadata": {},
   "source": [
    "ANS:-\n",
    " \n",
    "Mutable data type:- Mutable data types are those that can be changed or modified after creation. ex:- list,array\n",
    "\n",
    "Immutable data types:_ Immutable data types are those that cannot be changed or modified after creation. ex:- tuple,string"
   ]
  },
  {
   "cell_type": "code",
   "execution_count": null,
   "id": "83e4daba-c93d-4ca5-8176-444c657a68d0",
   "metadata": {},
   "outputs": [],
   "source": []
  }
 ],
 "metadata": {
  "kernelspec": {
   "display_name": "Python 3 (ipykernel)",
   "language": "python",
   "name": "python3"
  },
  "language_info": {
   "codemirror_mode": {
    "name": "ipython",
    "version": 3
   },
   "file_extension": ".py",
   "mimetype": "text/x-python",
   "name": "python",
   "nbconvert_exporter": "python",
   "pygments_lexer": "ipython3",
   "version": "3.10.8"
  }
 },
 "nbformat": 4,
 "nbformat_minor": 5
}
