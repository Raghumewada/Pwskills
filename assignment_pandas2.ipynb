{
 "cells": [
  {
   "cell_type": "markdown",
   "id": "2e2d2945-06f7-4173-91c5-e8bb6b718f02",
   "metadata": {},
   "source": [
    "Q1. List any five functions of the pandas library with execution."
   ]
  },
  {
   "cell_type": "markdown",
   "id": "3a1fd314-8c63-4bdb-a8ba-7dfc0285c5c4",
   "metadata": {},
   "source": [
    "read_csv(): Read data from a CSV file into a DataFrame.\n",
    "\n",
    "head(): Display the first n rows of a DataFrame (default is 5)\n",
    "\n",
    "info(): Get a summary of DataFrame information, including data types and missing values.\n",
    "\n",
    "groupby(): Group and aggregate data based on a column.\n",
    "\n",
    "to_csv(): Write a DataFrame to a CSV file.\n",
    "\n",
    "import pandas as pd\n",
    "data=pd.read_csv(\"file_name\")\n",
    "data.head()\n",
    "data.info()\n",
    "data.groupby(\"column_name\")\n",
    "data.to_csv('output.csv',index=False)\n"
   ]
  },
  {
   "cell_type": "markdown",
   "id": "1b783f04-3cb6-4fc7-a2d8-b4692ad40092",
   "metadata": {},
   "source": [
    "Q2. Given a Pandas DataFrame df with columns 'A', 'B', and 'C', write a Python function to re-index the\n",
    "DataFrame with a new index that starts from 1 and increments by 2 for each row."
   ]
  },
  {
   "cell_type": "code",
   "execution_count": 11,
   "id": "e5665073-aed5-47c4-a4e9-379c7ab1029d",
   "metadata": {},
   "outputs": [
    {
     "data": {
      "text/html": [
       "<div>\n",
       "<style scoped>\n",
       "    .dataframe tbody tr th:only-of-type {\n",
       "        vertical-align: middle;\n",
       "    }\n",
       "\n",
       "    .dataframe tbody tr th {\n",
       "        vertical-align: top;\n",
       "    }\n",
       "\n",
       "    .dataframe thead th {\n",
       "        text-align: right;\n",
       "    }\n",
       "</style>\n",
       "<table border=\"1\" class=\"dataframe\">\n",
       "  <thead>\n",
       "    <tr style=\"text-align: right;\">\n",
       "      <th></th>\n",
       "      <th>A</th>\n",
       "      <th>B</th>\n",
       "      <th>C</th>\n",
       "    </tr>\n",
       "  </thead>\n",
       "  <tbody>\n",
       "    <tr>\n",
       "      <th>1</th>\n",
       "      <td>5456</td>\n",
       "      <td>355</td>\n",
       "      <td>54</td>\n",
       "    </tr>\n",
       "    <tr>\n",
       "      <th>3</th>\n",
       "      <td>4323</td>\n",
       "      <td>344</td>\n",
       "      <td>6</td>\n",
       "    </tr>\n",
       "    <tr>\n",
       "      <th>5</th>\n",
       "      <td>754</td>\n",
       "      <td>78</td>\n",
       "      <td>45</td>\n",
       "    </tr>\n",
       "  </tbody>\n",
       "</table>\n",
       "</div>"
      ],
      "text/plain": [
       "      A    B   C\n",
       "1  5456  355  54\n",
       "3  4323  344   6\n",
       "5   754   78  45"
      ]
     },
     "execution_count": 11,
     "metadata": {},
     "output_type": "execute_result"
    }
   ],
   "source": [
    "import pandas as pd\n",
    "\n",
    "def re_index(df):\n",
    "    new_index=pd.Series(range(1,2*len(df),2))\n",
    "    df.index=new_index\n",
    "\n",
    "d={'A':[5456,4323,754],'B':[355,344,78],'C':[54,6,45]}\n",
    "df=pd.DataFrame(d)\n",
    "\n",
    "re_index(df)\n",
    "df"
   ]
  },
  {
   "cell_type": "markdown",
   "id": "88637ea8-4bfb-4327-9e04-b877a721da35",
   "metadata": {},
   "source": [
    "Q3. You have a Pandas DataFrame df with a column named 'Values'. Write a Python function that\n",
    "iterates over the DataFrame and calculates the sum of the first three values in the 'Values' column. The\n",
    "function should print the sum to the console."
   ]
  },
  {
   "cell_type": "code",
   "execution_count": 15,
   "id": "1487af64-05a7-41c8-8a1c-5e5d8bca1938",
   "metadata": {},
   "outputs": [
    {
     "name": "stdout",
     "output_type": "stream",
     "text": [
      "sum of three number 10\n"
     ]
    }
   ],
   "source": [
    "data=pd.DataFrame([2,3,5,6,8,7,5],columns=[\"Values\"])\n",
    "\n",
    "\n",
    "def sum_number(df):\n",
    "    if \"Values\" in df.columns:\n",
    "        \n",
    "        value_data=df['Values']\n",
    "        sum_=value_data.head(3).sum()\n",
    "        print(\"sum of three number\",sum_)\n",
    "    \n",
    "sum_number(data)"
   ]
  },
  {
   "cell_type": "markdown",
   "id": "1bf5f620-0c5f-4ce5-bb0e-f5cfd777b985",
   "metadata": {},
   "source": [
    "Q4. Given a Pandas DataFrame df with a column 'Text', write a Python function to create a new column\n",
    "'Word_Count' that contains the number of words in each row of the 'Text' column."
   ]
  },
  {
   "cell_type": "code",
   "execution_count": 22,
   "id": "edc99081-ecb1-4a54-bb97-a41428f73407",
   "metadata": {},
   "outputs": [
    {
     "name": "stdout",
     "output_type": "stream",
     "text": [
      "                          Text  Word_Count\n",
      "0   This is a sample sentence.           5\n",
      "1     Another example of text.           4\n",
      "2  Pandas DataFrame word count           4\n"
     ]
    }
   ],
   "source": [
    "data = {'Text': ['This is a sample sentence.',\n",
    "                 'Another example of text.',\n",
    "                 'Pandas DataFrame word count']}\n",
    "\n",
    "df=pd.DataFrame(data)\n",
    "\n",
    "def word_number(text):\n",
    "    word=text.split()\n",
    "    return len(word)\n",
    "        \n",
    "def add_count(df):\n",
    "    df['Word_Count']=df['Text'].apply(word_number)\n",
    "\n",
    "    \n",
    "add_count(df)\n",
    "\n",
    "print(df)"
   ]
  },
  {
   "cell_type": "code",
   "execution_count": null,
   "id": "91e215b2-acd3-47df-a473-494e90717451",
   "metadata": {},
   "outputs": [],
   "source": []
  },
  {
   "cell_type": "markdown",
   "id": "9c8927ad-9d37-4562-8a3c-65d96ba64f57",
   "metadata": {},
   "source": [
    "Q5. How are DataFrame.size() and DataFrame.shape() different?"
   ]
  },
  {
   "cell_type": "raw",
   "id": "70c6c582-b817-4348-8cdd-571e6f517758",
   "metadata": {},
   "source": [
    "DataFrame.size returns the total number of elements (cells) in the DataFrame.\n",
    "\n",
    "DataFrame.shape returns a tuple with the number of rows and columns in the DataFrame."
   ]
  },
  {
   "cell_type": "markdown",
   "id": "ae5286f4-b303-41eb-90dc-e1d8ef37521f",
   "metadata": {},
   "source": [
    "Q6. Which function of pandas do we use to read an excel file?"
   ]
  },
  {
   "cell_type": "markdown",
   "id": "9436fced-e0dc-4a52-85b3-588497a7e3ef",
   "metadata": {},
   "source": [
    "To read an Excel file in pandas, you can use the pd.read_excel() function. "
   ]
  },
  {
   "cell_type": "markdown",
   "id": "532db155-5981-4d85-a9c3-a7bf5e9e77ed",
   "metadata": {},
   "source": [
    "Q7. You have a Pandas DataFrame df that contains a column named 'Email' that contains email\n",
    "addresses in the format 'username@domain.com'. Write a Python function that creates a new column\n",
    "'Username' in df that contains only the username part of each email address."
   ]
  },
  {
   "cell_type": "code",
   "execution_count": 26,
   "id": "b222d8be-24c7-4a6a-aa07-9defcfa42f10",
   "metadata": {},
   "outputs": [
    {
     "name": "stdout",
     "output_type": "stream",
     "text": [
      "               Email Username\n",
      "0  user1@example.com    user1\n",
      "1  user2@example.org    user2\n",
      "2  user3@example.net    user3\n"
     ]
    }
   ],
   "source": [
    "data = {'Email': ['user1@example.com', 'user2@example.org', 'user3@example.net']}\n",
    "df = pd.DataFrame(data)\n",
    "\n",
    "def user_name(df):\n",
    "    \n",
    "    df['Username']=df['Email'].str.split('@').str[0]\n",
    "    \n",
    "user_name(df)\n",
    "\n",
    "print(df)"
   ]
  },
  {
   "cell_type": "markdown",
   "id": "8e2402ba-0a1b-4783-9fe9-67bc0e6e3d62",
   "metadata": {},
   "source": [
    "Q8. You have a Pandas DataFrame df with columns 'A', 'B', and 'C'. Write a Python function that selects\n",
    "all rows where the value in column 'A' is greater than 5 and the value in column 'B' is less than 10. The\n",
    "function should return a new DataFrame that contains only the selected rows."
   ]
  },
  {
   "cell_type": "code",
   "execution_count": 8,
   "id": "9657cb22-2701-493a-92d5-10d73095950b",
   "metadata": {},
   "outputs": [
    {
     "name": "stdout",
     "output_type": "stream",
     "text": [
      "    A  B   C\n",
      "3  23  3  34\n"
     ]
    }
   ],
   "source": [
    "import pandas as pd\n",
    "def filter_dataset(df):\n",
    "    marks= df[(df[\"A\"]>5) & (df[\"B\"]<10)]\n",
    "        \n",
    "    filter_df=marks\n",
    "\n",
    "    \n",
    "    return filter_df\n",
    "\n",
    "d={\"A\":[45,3,2,23,54],\"B\":[64,2,11,3,44],\"C\":[33,11,22,34,23]}\n",
    "df=pd.DataFrame(d)\n",
    "\n",
    "print(filter_dataset(df))"
   ]
  },
  {
   "cell_type": "markdown",
   "id": "e1f7f85f-8a20-416b-b4c5-a1e0655968d1",
   "metadata": {},
   "source": [
    "Q9. Given a Pandas DataFrame df with a column 'Values', write a Python function to calculate the mean,\n",
    "median, and standard deviation of the values in the 'Values' column."
   ]
  },
  {
   "cell_type": "code",
   "execution_count": 10,
   "id": "38df39ea-6043-420b-9dea-92498986e690",
   "metadata": {},
   "outputs": [
    {
     "name": "stdout",
     "output_type": "stream",
     "text": [
      "(5.142857142857143, 5.0, 2.1157009420498154)\n"
     ]
    }
   ],
   "source": [
    "def calculate_stats(df):\n",
    "    \n",
    "    mean=df['Values'].mean()\n",
    "    median=df['Values'].median()\n",
    "    standard_deviation=df['Values'].std()\n",
    "    \n",
    "    return mean,median, standard_deviation\n",
    "\n",
    "data=pd.DataFrame([2,3,5,6,8,7,5],columns=[\"Values\"])\n",
    "df=pd.DataFrame(data)\n",
    "print(calculate_stats(df))"
   ]
  },
  {
   "cell_type": "markdown",
   "id": "ebdeef83-9b75-43c6-bde1-d6b5b9262b29",
   "metadata": {},
   "source": [
    "Q10. Given a Pandas DataFrame df with a column 'Sales' and a column 'Date', write a Python function to\n",
    "create a new column 'MovingAverage' that contains the moving average of the sales for the past 7 days\n",
    "for each row in the DataFrame. The moving average should be calculated using a window of size 7 and\n",
    "should include the current day."
   ]
  },
  {
   "cell_type": "code",
   "execution_count": 11,
   "id": "5e24dc37-42f2-4b17-b9dd-1816233f3258",
   "metadata": {},
   "outputs": [],
   "source": [
    "def calculate_average(df):\n",
    "    \n",
    "    df['Date'] = pd.to_datetime(df['Date'])\n",
    "    df.sort_values(by='Date', inplace=True)\n",
    "    \n",
    "    df['MovingAverage']=df['Sales'].rolling(window=7,min_periods=1).mean()\n",
    "    \n",
    "    return df\n"
   ]
  },
  {
   "cell_type": "code",
   "execution_count": 13,
   "id": "245ebe3b-4a00-4683-a6fe-0b27166520ef",
   "metadata": {},
   "outputs": [
    {
     "data": {
      "text/html": [
       "<div>\n",
       "<style scoped>\n",
       "    .dataframe tbody tr th:only-of-type {\n",
       "        vertical-align: middle;\n",
       "    }\n",
       "\n",
       "    .dataframe tbody tr th {\n",
       "        vertical-align: top;\n",
       "    }\n",
       "\n",
       "    .dataframe thead th {\n",
       "        text-align: right;\n",
       "    }\n",
       "</style>\n",
       "<table border=\"1\" class=\"dataframe\">\n",
       "  <thead>\n",
       "    <tr style=\"text-align: right;\">\n",
       "      <th></th>\n",
       "      <th>Date</th>\n",
       "      <th>Weekday</th>\n",
       "    </tr>\n",
       "  </thead>\n",
       "  <tbody>\n",
       "    <tr>\n",
       "      <th>0</th>\n",
       "      <td>2022-09-12</td>\n",
       "      <td>Monday</td>\n",
       "    </tr>\n",
       "    <tr>\n",
       "      <th>1</th>\n",
       "      <td>2024-11-24</td>\n",
       "      <td>Sunday</td>\n",
       "    </tr>\n",
       "  </tbody>\n",
       "</table>\n",
       "</div>"
      ],
      "text/plain": [
       "        Date Weekday\n",
       "0 2022-09-12  Monday\n",
       "1 2024-11-24  Sunday"
      ]
     },
     "execution_count": 13,
     "metadata": {},
     "output_type": "execute_result"
    }
   ],
   "source": [
    "d={'Date':['12-sep-2022','24-Nov-2024']}\n",
    "df=pd.DataFrame(d)\n",
    "df['Date'] = pd.to_datetime(df['Date'])\n",
    "df['Weekday'] = df['Date'].dt.strftime('%A')\n",
    "df"
   ]
  },
  {
   "cell_type": "markdown",
   "id": "de9288ff-2830-4313-a142-576e2701b489",
   "metadata": {},
   "source": [
    "Q11. You have a Pandas DataFrame df with a column 'Date'. Write a Python function that creates a new\n",
    "column 'Weekday' in the DataFrame. The 'Weekday' column should contain the weekday name (e.g.\n",
    "Monday, Tuesday) corresponding to each date in the 'Date' column."
   ]
  },
  {
   "cell_type": "code",
   "execution_count": 15,
   "id": "45933e88-19c6-4eb4-a449-94e581452268",
   "metadata": {},
   "outputs": [
    {
     "name": "stdout",
     "output_type": "stream",
     "text": [
      "        Date Weekday\n",
      "0 2022-09-12  Monday\n",
      "1 2024-11-24  Sunday\n"
     ]
    }
   ],
   "source": [
    "def add_weekday(df):\n",
    "    \n",
    "    df['Date']=pd.to_datetime(df['Date'])\n",
    "    \n",
    "    df['Weekday']=df['Date'].dt.strftime('%A')\n",
    "    return df\n",
    "\n",
    "d={'Date':['12-sep-2022','24-Nov-2024']}\n",
    "df=pd.DataFrame(d)\n",
    "print(add_weekday(df))"
   ]
  },
  {
   "cell_type": "markdown",
   "id": "01452dbb-433a-4937-bd25-ad62129405ec",
   "metadata": {},
   "source": [
    "Q12. Given a Pandas DataFrame df with a column 'Date' that contains timestamps, write a Python\n",
    "function to select all rows where the date is between '2023-01-01' and '2023-01-31'."
   ]
  },
  {
   "cell_type": "code",
   "execution_count": 1,
   "id": "a2c86935-8de0-4426-baca-cb2a1e3284d6",
   "metadata": {},
   "outputs": [],
   "source": [
    "import pandas as pd\n",
    "\n",
    "def select_date_range(df):\n",
    "\n",
    "    df['Date'] = pd.to_datetime(df['Date'])\n",
    "    \n",
    "    start_date = '2023-01-01'\n",
    "    end_date = '2023-01-31'\n",
    "    \n",
    "    mask = (df['Date'] >= start_date) & (df['Date'] <= end_date)\n",
    "    \n",
    "    filtered_df = df[mask]\n",
    "    \n",
    "    return filtered_df\n",
    "\n",
    "\n"
   ]
  },
  {
   "cell_type": "code",
   "execution_count": 2,
   "id": "fafd3d15-a17e-4df5-a88e-b93c893ce824",
   "metadata": {},
   "outputs": [
    {
     "ename": "SyntaxError",
     "evalue": "invalid syntax (2274609210.py, line 1)",
     "output_type": "error",
     "traceback": [
      "\u001b[0;36m  Cell \u001b[0;32mIn[2], line 1\u001b[0;36m\u001b[0m\n\u001b[0;31m    Q13. To use the basic functions of pandas, what is the first and foremost necessary library that needs to\u001b[0m\n\u001b[0m            ^\u001b[0m\n\u001b[0;31mSyntaxError\u001b[0m\u001b[0;31m:\u001b[0m invalid syntax\n"
     ]
    }
   ],
   "source": [
    "Q13. To use the basic functions of pandas, what is the first and foremost necessary library that needs to\n",
    "be imported?"
   ]
  },
  {
   "cell_type": "code",
   "execution_count": null,
   "id": "2fdcbfd9-b9d4-4cd1-b66b-305fcc53030a",
   "metadata": {},
   "outputs": [],
   "source": []
  }
 ],
 "metadata": {
  "kernelspec": {
   "display_name": "Python 3 (ipykernel)",
   "language": "python",
   "name": "python3"
  },
  "language_info": {
   "codemirror_mode": {
    "name": "ipython",
    "version": 3
   },
   "file_extension": ".py",
   "mimetype": "text/x-python",
   "name": "python",
   "nbconvert_exporter": "python",
   "pygments_lexer": "ipython3",
   "version": "3.10.8"
  }
 },
 "nbformat": 4,
 "nbformat_minor": 5
}
