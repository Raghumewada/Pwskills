{
 "cells": [
  {
   "cell_type": "markdown",
   "id": "8db4e3db-47ce-489f-ac5c-7589e8a0f11c",
   "metadata": {},
   "source": [
    "Q1. Explain the difference between simple linear regression and multiple linear regression. Provide an\n",
    "example of each."
   ]
  },
  {
   "cell_type": "markdown",
   "id": "2c7ed5ae-2411-410c-8cbf-161e930da31e",
   "metadata": {},
   "source": [
    "1. Simple Linear Regression:\n",
    "\n",
    "    Definition: Involves a single independent variable to predict a dependent variable.\n",
    "    Example: Predicting a person's weight (dependent variable) based on their height (independent variable).\n",
    "    \n",
    "2. Multiple Linear Regression:\n",
    "\n",
    "    Definition: Involves multiple independent variables to predict a dependent variable.\n",
    "    \n",
    "    Example: Predicting a person's weight (dependent variable) based on their height, age, and gender (multiple independent variables)."
   ]
  },
  {
   "cell_type": "raw",
   "id": "e8533d80-9b51-4c18-afa1-1670d19201ab",
   "metadata": {},
   "source": []
  },
  {
   "cell_type": "markdown",
   "id": "87412f21-be47-4bb8-8a74-5212aa95363e",
   "metadata": {},
   "source": [
    "Q2. Discuss the assumptions of linear regression. How can you check whether these assumptions hold in\n",
    "a given dataset?"
   ]
  },
  {
   "cell_type": "markdown",
   "id": "03b25531-6628-4054-9a66-87385f09a539",
   "metadata": {},
   "source": [
    "1. Linearity: The relationship between independent and dependent variables is linear.\n",
    "2. Independence: Observations are independent of each other.\n",
    "3. Homoscedasticity: Constant variance of errors.\n",
    "4. Normality: The residuals (errors) are normally distributed.\n",
    "5. No multicollinearity: Independent variables are not highly correlated with each other."
   ]
  },
  {
   "cell_type": "raw",
   "id": "4744330b-4ee3-41af-a07d-d4d3a5aeafc1",
   "metadata": {},
   "source": []
  },
  {
   "cell_type": "markdown",
   "id": "d1447780-afb0-451f-b984-ccbd0eb69499",
   "metadata": {},
   "source": [
    "Q3. How do you interpret the slope and intercept in a linear regression model? Provide an example using\n",
    "a real-world scenario."
   ]
  },
  {
   "cell_type": "markdown",
   "id": "7918df3d-bf2e-425e-b299-fb8cb23afa64",
   "metadata": {},
   "source": [
    "1. Intercept: The predicted value of the dependent variable when all independent variables are zero.\n",
    "2. Slope: The change in the dependent variable for a one-unit change in the independent variable.\n",
    "\n",
    "    Example:\n",
    "    Scenario: Predicting salary based on years of experience.\n",
    "    Model: Salary = Intercept + Slope × Years of Experience.\n",
    "    Interpretation: If the intercept is 30,000 and the slope is 2,000, a person with 0 years of experience is predicted to have a salary of 30,000, and each additional year of experience increases the salary by 2,000."
   ]
  },
  {
   "cell_type": "raw",
   "id": "4d357f78-821a-49df-94a2-93becd397904",
   "metadata": {},
   "source": []
  },
  {
   "cell_type": "markdown",
   "id": "1b2aab70-8559-4bb0-a516-dd9bcf2047a4",
   "metadata": {},
   "source": [
    "Q4. Explain the concept of gradient descent. How is it used in machine learning?"
   ]
  },
  {
   "cell_type": "markdown",
   "id": "f7ff303a-884c-444d-b2b7-89881822cc82",
   "metadata": {},
   "source": [
    "An optimization algorithm used to minimize the cost function in machine learning models.\n",
    "\n",
    "    Process:\n",
    "    Initialize parameters (weights and biases).\n",
    "    Compute the gradient of the cost function with respect to the parameters.\n",
    "    Update parameters in the direction that reduces the cost function.\n",
    "    Repeat until convergence."
   ]
  },
  {
   "cell_type": "raw",
   "id": "9a8ea5da-19fc-45c8-8900-e4a388bc72d4",
   "metadata": {},
   "source": []
  },
  {
   "cell_type": "markdown",
   "id": "d47c5f2e-117b-4290-8570-8b72918a2b34",
   "metadata": {},
   "source": [
    "Q5. Describe the multiple linear regression model. How does it differ from simple linear regression?\n"
   ]
  },
  {
   "cell_type": "markdown",
   "id": "51c5c887-d4ba-45ab-a2bf-a1e3ec4041d4",
   "metadata": {},
   "source": [
    "Multiple linear regression is a statistical technique used to model the relationship between multiple independent variables and a single dependent variable. It extends the concept of simple linear regression to accommodate multiple predictors.\n",
    "\n",
    "    Differences from Simple Linear Regression:\n",
    "    1. Involves multiple independent variables.\n",
    "    2. Captures more complex relationships."
   ]
  },
  {
   "cell_type": "raw",
   "id": "a14fb74f-67b4-470c-9ba6-ca81af54d680",
   "metadata": {},
   "source": []
  },
  {
   "cell_type": "markdown",
   "id": "f3bbfbf7-aff1-41d5-bdbe-9d56daf6721c",
   "metadata": {},
   "source": [
    "6.Explain the concept of multicollinearity in multiple linear regression. How can you detect and address this issue?"
   ]
  },
  {
   "cell_type": "markdown",
   "id": "a14c929e-572f-4724-ab9f-b930c6f3f3e7",
   "metadata": {},
   "source": [
    "When independent variables are highly correlated with each other.\n",
    "\n",
    "Detection: Variance Inflation Factor (VIF) or correlation matrix.\n",
    "\n",
    "    Addressing:\n",
    "        1. Remove highly correlated variables.\n",
    "        2. Combine variables.\n",
    "        3. Use regularization techniques like Ridge Regression."
   ]
  },
  {
   "cell_type": "code",
   "execution_count": null,
   "id": "6be3645f-af88-490c-8960-d3d22bdf79a9",
   "metadata": {},
   "outputs": [],
   "source": []
  },
  {
   "cell_type": "markdown",
   "id": "8145e81b-0194-48e8-a7fd-6d903cc47637",
   "metadata": {},
   "source": [
    "Q7. Describe the polynomial regression model. How is it different from linear regression?"
   ]
  },
  {
   "cell_type": "markdown",
   "id": "3f2a75e4-5aa1-4f96-b62a-e02c63752077",
   "metadata": {},
   "source": [
    "Polynomial regression is a form of regression analysis where the relationship between the independent variable x and the dependent variable 𝑦 is modele an \n",
    "n-th degree polynomial. It extends linear regression by including polynomial terms of the independent variable(s) to capture non-linear relationships.\n",
    "\n",
    "    Difference from Linear Regression:\n",
    "    1. Captures non-linear relationships by including polynomial terms."
   ]
  },
  {
   "cell_type": "raw",
   "id": "3fb9525a-8a8d-4102-b953-c8f7900cb3ee",
   "metadata": {},
   "source": []
  },
  {
   "cell_type": "markdown",
   "id": "dcdd8408-d149-48d6-9405-1ed63b7cff52",
   "metadata": {},
   "source": [
    "Q8. What are the advantages and disadvantages of polynomial regression compared to linear regression? In what situations would you prefer to use polynomial regression?"
   ]
  },
  {
   "cell_type": "markdown",
   "id": "323a1076-7ed1-4289-b96a-a9e924ea02d3",
   "metadata": {},
   "source": []
  }
 ],
 "metadata": {
  "kernelspec": {
   "display_name": "Python 3 (ipykernel)",
   "language": "python",
   "name": "python3"
  },
  "language_info": {
   "codemirror_mode": {
    "name": "ipython",
    "version": 3
   },
   "file_extension": ".py",
   "mimetype": "text/x-python",
   "name": "python",
   "nbconvert_exporter": "python",
   "pygments_lexer": "ipython3",
   "version": "3.10.8"
  }
 },
 "nbformat": 4,
 "nbformat_minor": 5
}
