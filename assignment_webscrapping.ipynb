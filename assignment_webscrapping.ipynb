{
 "cells": [
  {
   "cell_type": "markdown",
   "id": "ef6d34c7-e636-47a2-86d7-8605224ed524",
   "metadata": {},
   "source": [
    "Q1. What is Web Scraping? Why is it Used? Give three areas where Web Scraping is used to get data."
   ]
  },
  {
   "cell_type": "markdown",
   "id": "35e02d84-54a5-4d8a-bfae-8c054ec8bd8b",
   "metadata": {},
   "source": [
    "Ans:- Web scraping is the process of extracting data from websites. It involves fetching web pages, parsing the HTML or other structured data within them, and then extracting the desired information. Web scraping is commonly used for various purposes, such as data collection, analysis, research, and more.\n",
    "\n",
    "Here are three areas where web scraping is commonly used to gather data:\n",
    "\n",
    "1.Business Intelligence and Market Research.\n",
    "\n",
    "2.Content Aggregation and Media Monitoring.\n",
    "\n",
    "3.Research and Data Analysis.\n"
   ]
  },
  {
   "cell_type": "code",
   "execution_count": null,
   "id": "5b3d8179-9c60-4890-99c7-f30324c04d27",
   "metadata": {},
   "outputs": [],
   "source": []
  },
  {
   "cell_type": "markdown",
   "id": "822bdc92-b646-46b9-ba17-1b568bf7b0c8",
   "metadata": {},
   "source": [
    "Q2. What are the different methods used for Web Scraping?\n",
    "\n",
    "Different methods for web scraping include:\n",
    "\n",
    "Manual Scraping: Manually copying and pasting data.\n",
    "\n",
    "Regular Expressions: Using patterns to extract data from HTML.\n",
    "\n",
    "HTML Parsing Libraries: Using libraries like Beautiful Soup or Nokogiri.\n",
    "\n",
    "APIs: Accessing structured data through web APIs.\n",
    "\n",
    "Headless Browsers: Automating browsing with tools like Puppeteer.\n",
    "\n",
    "Scraping Frameworks and Tools: Using Scrapy, ParseHub, or similar tools.\n",
    "\n",
    "Proxy Servers: Rotating IP addresses to avoid bans.\n",
    "\n",
    "Web Scraping Services: Outsourcing scraping tasks to specialized companies."
   ]
  },
  {
   "cell_type": "markdown",
   "id": "f52363c8-90b2-461d-b313-9d0b44bdb951",
   "metadata": {},
   "source": [
    "Q3. What is Beautiful Soup? Why is it used?"
   ]
  },
  {
   "cell_type": "markdown",
   "id": "3270c433-f16f-4a33-93da-4bda3e24449d",
   "metadata": {},
   "source": [
    "Ans:- Beautiful Soup is a Python library used for web scraping purposes. It is specifically designed to parse HTML and XML documents, extract data, and navigate their hierarchical structure. Beautiful Soup provides a convenient way to interact with web content and extract information from websites."
   ]
  },
  {
   "cell_type": "markdown",
   "id": "6b019a0f-f2dc-4106-93a6-906f319a5556",
   "metadata": {},
   "source": [
    "Beautiful Soup is used for:\n",
    "\n",
    "Web Scraping: Extracting data from websites, including text, links, and structured information.\n",
    "\n",
    "Data Extraction: Collecting information for analysis, research, or data integration.\n",
    "\n",
    "HTML Parsing: Parsing and navigating HTML and XML documents.\n",
    "\n",
    "Web Content Cleanup: Cleaning and reformatting web content.\n",
    "\n",
    "Automation: Automating web scraping tasks in Python.\n",
    "\n",
    "Data Mining: Gathering data for research, market analysis, and more."
   ]
  },
  {
   "cell_type": "markdown",
   "id": "990bb5e6-de14-4b60-8fd2-6bb7cd11ebd9",
   "metadata": {},
   "source": [
    "Q4. Why is flask used in this Web Scraping project?"
   ]
  },
  {
   "cell_type": "markdown",
   "id": "99d30dec-bea8-4a5d-895d-7ecd5b053812",
   "metadata": {},
   "source": [
    "Flask is used in web scraping projects with Flask to:\n",
    "\n",
    "Create Web Interfaces: Build user-friendly web applications for input and result display.\n",
    "\n",
    "Expose APIs: Make scraping functionality accessible to other applications.\n",
    "\n",
    "Integrate with Scraping Libraries: Seamlessly connect Flask with scraping tools.\n",
    "\n",
    "Customize and Deploy: Tailor and deploy scraping projects with flexibility and ease."
   ]
  },
  {
   "cell_type": "markdown",
   "id": "0f6b8fd4-b545-4e02-9617-97f7ead1a815",
   "metadata": {},
   "source": []
  }
 ],
 "metadata": {
  "kernelspec": {
   "display_name": "Python 3 (ipykernel)",
   "language": "python",
   "name": "python3"
  },
  "language_info": {
   "codemirror_mode": {
    "name": "ipython",
    "version": 3
   },
   "file_extension": ".py",
   "mimetype": "text/x-python",
   "name": "python",
   "nbconvert_exporter": "python",
   "pygments_lexer": "ipython3",
   "version": "3.10.8"
  }
 },
 "nbformat": 4,
 "nbformat_minor": 5
}
