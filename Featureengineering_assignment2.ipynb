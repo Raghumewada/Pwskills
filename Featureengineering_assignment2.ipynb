{
 "cells": [
  {
   "cell_type": "markdown",
   "id": "d0ba08fc-395c-4751-b32b-05722c7b666a",
   "metadata": {},
   "source": [
    "Q1. What is Min-Max scaling, and how is it used in data preprocessing? Provide an example to illustrate its\n",
    "application."
   ]
  },
  {
   "cell_type": "markdown",
   "id": "2c4b5c7f-356c-4a15-948f-e5ed8e6d9bb6",
   "metadata": {},
   "source": [
    "Ans:-Min-Max scaling transforms features to a specific range (usually 0 to 1). Example: Scaling ages from 20-40 to 0-1.Min-Max scaling transforms features to a specific range, commonly between 0 and 1. It's used in data preprocessing to ensure that different features are on a similar scale, preventing features with larger magnitudes from dominating the learning process. For example, if you have a dataset of ages ranging from 20 to 40 years, Min-Max scaling would transform these ages to values between 0 and 1."
   ]
  },
  {
   "cell_type": "markdown",
   "id": "611c1df1-7232-4c9f-98e4-ec334f9b91e8",
   "metadata": {},
   "source": [
    "Q2. What is the Unit Vector technique in feature scaling, and how does it differ from Min-Max scaling?\n",
    "Provide an example to illustrate its application."
   ]
  },
  {
   "cell_type": "markdown",
   "id": "f5124610-bbb9-4583-893b-ea917fac4d6c",
   "metadata": {},
   "source": [
    "Ans:-The Unit Vector technique, also known as normalization, scales features so that each sample has a unit norm (magnitude of 1), maintaining their direction. Unlike Min-Max scaling, it doesn't focus on the range but rather on the direction of the data vectors. For instance, if you have a dataset with features representing height and weight, unit vector scaling would ensure that each sample has a magnitude of 1 without altering their direction."
   ]
  },
  {
   "cell_type": "markdown",
   "id": "702e21d7-13cb-4240-bf78-dbf696c7ed16",
   "metadata": {},
   "source": [
    "Q3. What is PCA (Principle Component Analysis), and how is it used in dimensionality reduction? Provide an\n",
    "example to illustrate its application."
   ]
  },
  {
   "cell_type": "markdown",
   "id": "ded61b33-ef55-4a6c-87e7-716abd8c0540",
   "metadata": {},
   "source": [
    "Ans:-A (Principal Component Analysis) is a dimensionality reduction technique used to transform data into a new coordinate system while retaining most of the variance in the data. It achieves this by identifying orthogonal axes (principal components) along which the variance is maximized. For example, if you have a dataset with multiple features, PCA can help reduce it to a lower-dimensional space while preserving most of the information."
   ]
  },
  {
   "cell_type": "markdown",
   "id": "b4133fb2-6a65-4e4f-9d15-fe34c8e35f69",
   "metadata": {},
   "source": [
    "Q4. What is the relationship between PCA and Feature Extraction, and how can PCA be used for Feature\n",
    "Extraction? Provide an example to illustrate this concept."
   ]
  },
  {
   "cell_type": "markdown",
   "id": "e6301196-8563-40c1-abb5-174ac9e2f5c7",
   "metadata": {},
   "source": [
    "Ans:-PCA can be used for feature extraction by identifying the most important features (principal components) that explain the variance in the data. Instead of using the original features, you can use the principal components as new features. For example, in financial data analysis, PCA can extract features representing different market trends from a dataset containing various financial indicators."
   ]
  },
  {
   "cell_type": "markdown",
   "id": "eddc2b1c-94a7-47e2-97fd-37c948a487d0",
   "metadata": {},
   "source": [
    "Q5. You are working on a project to build a recommendation system for a food delivery service. The dataset\n",
    "contains features such as price, rating, and delivery time. Explain how you would use Min-Max scaling to\n",
    "preprocess the data."
   ]
  },
  {
   "cell_type": "markdown",
   "id": "03815d2d-4dee-411f-814d-188c8ca7687c",
   "metadata": {},
   "source": [
    "Ans:-In the food delivery dataset, Min-Max scaling would be used to scale features like price, rating, and delivery time to a common range, such as 0 to 1. This ensures that each feature contributes equally to the model, regardless of its original scale."
   ]
  },
  {
   "cell_type": "markdown",
   "id": "d3d8d471-4dbd-47c0-9f87-438b7b5a1110",
   "metadata": {},
   "source": [
    "Q6. You are working on a project to build a model to predict stock prices. The dataset contains many\n",
    "features, such as company financial data and market trends. Explain how you would use PCA to reduce the\n",
    "dimensionality of the dataset."
   ]
  },
  {
   "cell_type": "markdown",
   "id": "95cf09da-ef07-4d0b-884e-2d705752a5ca",
   "metadata": {},
   "source": [
    "Ans:-In the stock price prediction project, PCA can be used to reduce the dimensionality of features like company financial data and market trends. By identifying the principal components capturing the most variance, PCA helps in selecting the most informative features while reducing computational complexity."
   ]
  },
  {
   "cell_type": "markdown",
   "id": "e46bc341-04cc-4201-9fb9-90566d4ff989",
   "metadata": {},
   "source": [
    "Q7. For a dataset containing the following values: [1, 5, 10, 15, 20], perform Min-Max scaling to transform the\n",
    "values to a range of -1 to 1."
   ]
  },
  {
   "cell_type": "markdown",
   "id": "829f8e1a-31e1-4c17-ae8c-d47ce1fcb490",
   "metadata": {},
   "source": [
    "Ans:-"
   ]
  },
  {
   "cell_type": "markdown",
   "id": "bf18e58a-95f3-4205-a34f-880305fe504a",
   "metadata": {},
   "source": [
    "Q8. For a dataset containing the following features: [height, weight, age, gender, blood pressure], perform\n",
    "Feature Extraction using PCA. How many principal components would you choose to retain, and why?"
   ]
  },
  {
   "cell_type": "markdown",
   "id": "c4967c46-c749-40e7-9fb6-957d8d59b882",
   "metadata": {},
   "source": [
    "Ans:-The number of principal components to retain in PCA depends on the explained variance and the desired dimensionality reduction. Typically, you'd choose components explaining a significant portion of variance while balancing computational cost. For example, you may choose to retain enough principal components to capture 90% of the variance in the data."
   ]
  },
  {
   "cell_type": "markdown",
   "id": "14b4cb4b-b471-4505-8ac4-2efbc48d361a",
   "metadata": {},
   "source": []
  }
 ],
 "metadata": {
  "kernelspec": {
   "display_name": "Python 3 (ipykernel)",
   "language": "python",
   "name": "python3"
  },
  "language_info": {
   "codemirror_mode": {
    "name": "ipython",
    "version": 3
   },
   "file_extension": ".py",
   "mimetype": "text/x-python",
   "name": "python",
   "nbconvert_exporter": "python",
   "pygments_lexer": "ipython3",
   "version": "3.10.8"
  }
 },
 "nbformat": 4,
 "nbformat_minor": 5
}
