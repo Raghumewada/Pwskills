{
 "cells": [
  {
   "cell_type": "markdown",
   "id": "9019eb5b-a472-43c5-a57e-378500541fe7",
   "metadata": {},
   "source": [
    "Q1: What is Estimation Statistics? Explain point estimate and interval estimate."
   ]
  },
  {
   "cell_type": "markdown",
   "id": "dda227e5-9da5-4ef9-8a38-79b01a3edc8a",
   "metadata": {},
   "source": [
    "- Estimation Statistics: Methods used to estimate population parameters based on sample data.\n",
    "- Point Estimate: Single value estimate of a population parameter (e.g., sample mean x ).\n",
    "- Interval Estimate: Range of values within which a population parameter is expected to lie, with a certain level of confidence (e.g., confidence interval)."
   ]
  },
  {
   "cell_type": "code",
   "execution_count": null,
   "id": "7d4884f7-a7b8-4a31-82fe-42ad5e2f9cb1",
   "metadata": {},
   "outputs": [],
   "source": []
  },
  {
   "cell_type": "markdown",
   "id": "25e61ed1-1604-4a32-a0d7-8663564f8038",
   "metadata": {},
   "source": [
    "Q2. Write a Python function to estimate the population mean using a sample mean and standard\n",
    "deviation."
   ]
  },
  {
   "cell_type": "code",
   "execution_count": 1,
   "id": "caf67313-ac74-4962-a457-7db48fb3c301",
   "metadata": {},
   "outputs": [
    {
     "name": "stdout",
     "output_type": "stream",
     "text": [
      "Sample Mean: 501.0, Sample Standard Deviation: 15.165750888103101\n"
     ]
    }
   ],
   "source": [
    "import numpy as np\n",
    "\n",
    "def estimate_population_mean(sample):\n",
    "    sample_mean = np.mean(sample)\n",
    "    sample_std = np.std(sample, ddof=1)\n",
    "    return sample_mean, sample_std\n",
    "\n",
    "# Example usage:\n",
    "sample = [500, 520, 480, 510, 495]\n",
    "mean, std = estimate_population_mean(sample)\n",
    "print(f'Sample Mean: {mean}, Sample Standard Deviation: {std}')\n"
   ]
  },
  {
   "cell_type": "code",
   "execution_count": null,
   "id": "87ca3593-c559-454d-98f2-68176e8e4bc2",
   "metadata": {},
   "outputs": [],
   "source": []
  },
  {
   "cell_type": "markdown",
   "id": "75d61bec-9cb3-4d7d-9729-301924b4811c",
   "metadata": {},
   "source": [
    "Q3: What is Hypothesis testing? Why is it used? State the importance of Hypothesis testing."
   ]
  },
  {
   "cell_type": "markdown",
   "id": "d5d53118-051d-4588-89f9-98e071c77e7b",
   "metadata": {},
   "source": [
    "- Definition: Statistical method used to make decisions about population parameters based on sample data.\n",
    "- Importance: Helps determine if there is enough evidence to support a specific hypothesis about a population."
   ]
  },
  {
   "cell_type": "code",
   "execution_count": null,
   "id": "f45f95c1-9ffa-48a4-a400-6ee9c9aebed9",
   "metadata": {},
   "outputs": [],
   "source": []
  },
  {
   "cell_type": "markdown",
   "id": "8e8b2ef9-bbad-45d1-9ee8-d653ca68de71",
   "metadata": {},
   "source": [
    "Q4. Create a hypothesis that states whether the average weight of male college students is greater than\n",
    "the average weight of female college students."
   ]
  },
  {
   "cell_type": "markdown",
   "id": "b64f25a4-634e-4b28-925a-e966cb2e91ca",
   "metadata": {},
   "source": [
    "- Null Hypothesis (H0): The average weight of male college students is equal to the average weight of female college students.\n",
    "- Alternative Hypothesis (H1): The average weight of male college students is greater than the average weight of female college students."
   ]
  },
  {
   "cell_type": "code",
   "execution_count": null,
   "id": "e0e60ad9-071b-45a5-9fb7-8a35ec7f8033",
   "metadata": {},
   "outputs": [],
   "source": []
  },
  {
   "cell_type": "markdown",
   "id": "c20cdf35-ce47-4809-9f4b-9e2c9b798191",
   "metadata": {},
   "source": [
    "Q5. Write a Python script to conduct a hypothesis test on the difference between two population means,\n",
    "given a sample from each population."
   ]
  },
  {
   "cell_type": "code",
   "execution_count": 2,
   "id": "3c69a0cd-01b8-453c-8e14-d07b4e499de8",
   "metadata": {},
   "outputs": [
    {
     "name": "stdout",
     "output_type": "stream",
     "text": [
      "T-statistic: 1.0, P-value: 0.34659350708733416\n"
     ]
    }
   ],
   "source": [
    "import scipy.stats as stats\n",
    "\n",
    "def two_sample_t_test(sample1, sample2):\n",
    "    t_stat, p_value = stats.ttest_ind(sample1, sample2)\n",
    "    return t_stat, p_value\n",
    "\n",
    "# Example usage:\n",
    "sample1 = [75, 80, 85, 90, 95]\n",
    "sample2 = [70, 75, 80, 85, 90]\n",
    "t_stat, p_value = two_sample_t_test(sample1, sample2)\n",
    "print(f'T-statistic: {t_stat}, P-value: {p_value}')\n"
   ]
  },
  {
   "cell_type": "code",
   "execution_count": null,
   "id": "e4632eb2-37ca-4f58-8523-ba20a383f3bd",
   "metadata": {},
   "outputs": [],
   "source": []
  },
  {
   "cell_type": "markdown",
   "id": "9a63035e-feb0-4039-925b-40835fca4567",
   "metadata": {},
   "source": [
    "Q6: What is a null and alternative hypothesis? Give some examples."
   ]
  },
  {
   "cell_type": "markdown",
   "id": "bafb36f9-3bfc-4427-9b6c-89f81dea7fa0",
   "metadata": {},
   "source": [
    "- Null Hypothesis (H0): Assumes no effect or no difference (e.g., mean = 0).\n",
    "- Alternative Hypothesis (H1): Assumes an effect or difference (e.g., mean ≠ 0).\n",
    "\n",
    "Examples:\n",
    "\n",
    "- H0: The mean score of students before and after training is equal.\n",
    "- H1: The mean score of students after training is higher than before."
   ]
  },
  {
   "cell_type": "code",
   "execution_count": null,
   "id": "3163ba26-a111-4081-baa7-6753c140061d",
   "metadata": {},
   "outputs": [],
   "source": []
  },
  {
   "cell_type": "markdown",
   "id": "d37cb7ef-b04e-4b88-b4fe-1fa85db2d1fb",
   "metadata": {},
   "source": [
    "Q7: Write down the steps involved in hypothesis testing."
   ]
  },
  {
   "cell_type": "markdown",
   "id": "e1290e09-34a5-4e2d-9ac5-2cc60ce415e1",
   "metadata": {},
   "source": [
    "1. Formulate H0 and H1.\n",
    "2. Choose a significance level (α).\n",
    "3. Collect data and calculate a test statistic.\n",
    "4. Determine the p-value or critical value.\n",
    "5. Make a decision: reject H0 if p-value < α, otherwise fail to reject H0."
   ]
  },
  {
   "cell_type": "code",
   "execution_count": null,
   "id": "a67d8550-a71a-483a-ac6a-472ce43f6165",
   "metadata": {},
   "outputs": [],
   "source": []
  },
  {
   "cell_type": "markdown",
   "id": "2daf724c-f255-4e27-be00-35259ad40dae",
   "metadata": {},
   "source": [
    "Q8. Define p-value and explain its significance in hypothesis testing."
   ]
  },
  {
   "cell_type": "markdown",
   "id": "621dd7dc-c9db-4f81-904a-cf864d8b3295",
   "metadata": {},
   "source": [
    "- Definition: Probability of obtaining test results at least as extreme as the observed results, under the assumption that H0 is true.\n",
    "- Significance: Helps determine the strength of evidence against H0."
   ]
  },
  {
   "cell_type": "code",
   "execution_count": null,
   "id": "d348dcbe-9a38-4d73-b781-3399152eb37b",
   "metadata": {},
   "outputs": [],
   "source": []
  },
  {
   "cell_type": "markdown",
   "id": "8642c250-1e1d-4f65-b7f7-754bffda714e",
   "metadata": {},
   "source": [
    "Q9. Generate a Student's t-distribution plot using Python's matplotlib library, with the degrees of freedom\n",
    "parameter set to 10."
   ]
  },
  {
   "cell_type": "code",
   "execution_count": 3,
   "id": "e7a0b5ef-d958-4260-8547-de4cfc8d9266",
   "metadata": {},
   "outputs": [
    {
     "data": {
      "image/png": "[encoded data removed]",
      "text/plain": [
       "<Figure size 640x480 with 1 Axes>"
      ]
     },
     "metadata": {},
     "output_type": "display_data"
    }
   ],
   "source": [
    "import numpy as np\n",
    "import matplotlib.pyplot as plt\n",
    "import scipy.stats as stats\n",
    "\n",
    "x = np.linspace(-4, 4, 1000)\n",
    "y = stats.t.pdf(x, df=10)\n",
    "\n",
    "plt.plot(x, y, label='t-distribution df=10')\n",
    "plt.xlabel('t')\n",
    "plt.ylabel('Probability Density')\n",
    "plt.title(\"Student's t-Distribution\")\n",
    "plt.legend()\n",
    "plt.show()\n"
   ]
  },
  {
   "cell_type": "code",
   "execution_count": null,
   "id": "8f7bb8b7-4f07-4e11-a991-66ca6e54925a",
   "metadata": {},
   "outputs": [],
   "source": []
  },
  {
   "cell_type": "markdown",
   "id": "818e6b24-4ccd-4d4a-b2ad-ca076dc6c269",
   "metadata": {},
   "source": [
    "Q10. Write a Python program to calculate the two-sample t-test for independent samples, given two\n",
    "random samples of equal size and a null hypothesis that the population means are equal."
   ]
  },
  {
   "cell_type": "code",
   "execution_count": 4,
   "id": "eed5567d-4a44-4e66-a462-c8406b4d789e",
   "metadata": {},
   "outputs": [
    {
     "name": "stdout",
     "output_type": "stream",
     "text": [
      "T-statistic: -3.1162070655647094, P-value: 0.002104233749937903\n"
     ]
    }
   ],
   "source": [
    "def two_sample_t_test(sample1, sample2):\n",
    "    t_stat, p_value = stats.ttest_ind(sample1, sample2)\n",
    "    return t_stat, p_value\n",
    "\n",
    "# Example usage:\n",
    "sample1 = np.random.normal(50, 10, 100)\n",
    "sample2 = np.random.normal(55, 10, 100)\n",
    "t_stat, p_value = two_sample_t_test(sample1, sample2)\n",
    "print(f'T-statistic: {t_stat}, P-value: {p_value}')\n"
   ]
  },
  {
   "cell_type": "code",
   "execution_count": null,
   "id": "726db8ab-74bf-4640-ab71-e407fea1d049",
   "metadata": {},
   "outputs": [],
   "source": []
  },
  {
   "cell_type": "markdown",
   "id": "3cca252e-c6b5-491f-b7d6-69f90f1e99a6",
   "metadata": {},
   "source": [
    "Q11: What is Student’s t distribution? When to use the t-Distribution."
   ]
  },
  {
   "cell_type": "markdown",
   "id": "4cbd04d9-2f2e-47d1-9add-dada6fc70db6",
   "metadata": {},
   "source": [
    "- Definition: Probability distribution used when estimating the mean of a normally distributed population when the sample size is small and population standard deviation is unknown.\n",
    "- Usage: When sample size < 30 and population standard deviation is unknown."
   ]
  },
  {
   "cell_type": "code",
   "execution_count": null,
   "id": "c3f43f2a-ca3c-4f95-ab0c-83919c478ba9",
   "metadata": {},
   "outputs": [],
   "source": []
  },
  {
   "cell_type": "markdown",
   "id": "6a4944e6-9265-4421-b5fb-5a77333cb858",
   "metadata": {},
   "source": [
    "Q12: What is t-statistic? State the formula for t-statistic."
   ]
  },
  {
   "cell_type": "markdown",
   "id": "0306064e-ed8e-4446-8d54-79a77332427a",
   "metadata": {},
   "source": [
    "- Definition: Ratio of the departure of an estimated parameter from its notional value and its standard error.\n",
    "- Formula:t=x −μ/s/n^1/2 "
   ]
  },
  {
   "cell_type": "code",
   "execution_count": null,
   "id": "ab97c42f-5c69-4096-9888-9ab00a71c8aa",
   "metadata": {},
   "outputs": [],
   "source": []
  },
  {
   "cell_type": "markdown",
   "id": "5b67f76e-b3b7-420b-8dd9-a35880d6118a",
   "metadata": {},
   "source": [
    "Q13. A coffee shop owner wants to estimate the average daily revenue for their shop. They take a random\n",
    "sample of 50 days and find the sample mean revenue to be $500 with a standard deviation of $50.\n",
    "Estimate the population mean revenue with a 95% confidence interval."
   ]
  },
  {
   "cell_type": "code",
   "execution_count": 5,
   "id": "95d617ed-611e-482f-a81a-db756095c220",
   "metadata": {},
   "outputs": [
    {
     "name": "stdout",
     "output_type": "stream",
     "text": [
      "95% Confidence Interval: (485.79015724388137, 514.2098427561186)\n"
     ]
    }
   ],
   "source": [
    "import scipy.stats as stats\n",
    "\n",
    "sample_mean = 500\n",
    "sample_std = 50\n",
    "n = 50\n",
    "confidence_level = 0.95\n",
    "\n",
    "margin_of_error = stats.t.ppf((1 + confidence_level) / 2, df=n-1) * (sample_std / np.sqrt(n))\n",
    "confidence_interval = (sample_mean - margin_of_error, sample_mean + margin_of_error)\n",
    "print(f'95% Confidence Interval: {confidence_interval}')\n"
   ]
  },
  {
   "cell_type": "code",
   "execution_count": null,
   "id": "b4106ed3-4624-4832-9045-752e378dd068",
   "metadata": {},
   "outputs": [],
   "source": []
  },
  {
   "cell_type": "markdown",
   "id": "af0e16f1-40b3-4608-bb41-d1d097c813a5",
   "metadata": {},
   "source": [
    "Q14. A researcher hypothesizes that a new drug will decrease blood pressure by 10 mmHg. They conduct a\n",
    "clinical trial with 100 patients and find that the sample mean decrease in blood pressure is 8 mmHg with a\n",
    "standard deviation of 3 mmHg. Test the hypothesis with a significance level of 0.05."
   ]
  },
  {
   "cell_type": "markdown",
   "id": "f1308d15-e27b-47ed-bf39-420038b73d2a",
   "metadata": {},
   "source": [
    "- Given: μ=10, x=8, s=3, n=100, α=0.05\n",
    "- Steps:\n",
    "    - H0: μ=10, H1: μ<10\n",
    "    - Calculate t-statistic: t= 8−10/ 3/ 100 =−6.67\n",
    "    - Find p-value: Using t-distribution table.\n",
    "    - Compare p-value with α and make a decision."
   ]
  },
  {
   "cell_type": "code",
   "execution_count": null,
   "id": "57632be0-4cfd-4c74-adfb-a1a6705a74af",
   "metadata": {},
   "outputs": [],
   "source": []
  },
  {
   "cell_type": "markdown",
   "id": "e2fad70b-02f8-42cf-b8ab-93b61aadfde2",
   "metadata": {},
   "source": [
    "Q15. An electronics company produces a certain type of product with a mean weight of 5 pounds and a\n",
    "standard deviation of 0.5 pounds. A random sample of 25 products is taken, and the sample mean weight\n",
    "is found to be 4.8 pounds. Test the hypothesis that the true mean weight of the products is less than 5\n",
    "pounds with a significance level of 0.01."
   ]
  },
  {
   "cell_type": "markdown",
   "id": "9bdfc6d6-2b90-49a4-a82b-84ed922ae342",
   "metadata": {},
   "source": [
    "Given: μ=5, x=4.8, s=0.5, n=25, α=0.01\n",
    "Steps:\n",
    "H0: μ=5, H1: \n",
    "μ<5\n",
    "Calculate t-statistic: \n",
    "t= 0.5/ 25 4.8−5 =−2\n",
    "Find p-value: Using t-distribution table."
   ]
  },
  {
   "cell_type": "code",
   "execution_count": null,
   "id": "a3c427a2-31b9-42b6-b1b8-ec6325c84bba",
   "metadata": {},
   "outputs": [],
   "source": []
  },
  {
   "cell_type": "markdown",
   "id": "52838e79-4df5-4a4d-8d2f-18d2ba0aee02",
   "metadata": {},
   "source": [
    "Q16. Two groups of students are given different study materials to prepare for a test. The first group (n1 =\n",
    "30) has a mean score of 80 with a standard deviation of 10, and the second group (n2 = 40) has a mean\n",
    "score of 75 with a standard deviation of 8. Test the hypothesis that the population means for the two\n",
    "groups are equal with a significance level of 0.01."
   ]
  },
  {
   "cell_type": "markdown",
   "id": "23c2d677-c402-4fb1-9047-fb3565feb938",
   "metadata": {},
   "source": []
  },
  {
   "cell_type": "code",
   "execution_count": null,
   "id": "034c5a10-b36d-4782-9154-f0be20d2af41",
   "metadata": {},
   "outputs": [],
   "source": []
  },
  {
   "cell_type": "markdown",
   "id": "24558eed-df64-4ab6-a4a0-d11423ea3e31",
   "metadata": {},
   "source": [
    "Q17. A marketing company wants to estimate the average number of ads watched by viewers during a TV\n",
    "program. They take a random sample of 50 viewers and find that the sample mean is 4 with a standard\n",
    "deviation of 1.5. Estimate the population mean with a 99% confidence interval."
   ]
  },
  {
   "cell_type": "markdown",
   "id": "8e703173-ec77-4d8b-bd6a-7f81c5a51a3e",
   "metadata": {},
   "source": []
  }
 ],
 "metadata": {
  "kernelspec": {
   "display_name": "Python 3 (ipykernel)",
   "language": "python",
   "name": "python3"
  },
  "language_info": {
   "codemirror_mode": {
    "name": "ipython",
    "version": 3
   },
   "file_extension": ".py",
   "mimetype": "text/x-python",
   "name": "python",
   "nbconvert_exporter": "python",
   "pygments_lexer": "ipython3",
   "version": "3.10.8"
  }
 },
 "nbformat": 4,
 "nbformat_minor": 5
}
