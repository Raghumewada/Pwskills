{
 "cells": [
  {
   "cell_type": "markdown",
   "id": "d5059f2a-0df8-45d7-b05a-233754ef6ba8",
   "metadata": {},
   "source": [
    "Q1. What is a database? Differentiate between SQL and NoSQL databases."
   ]
  },
  {
   "cell_type": "markdown",
   "id": "958794f7-dd7f-48ef-9597-a81af0f289d8",
   "metadata": {},
   "source": [
    "Database:\n",
    "A database is a structured collection of data that is organized in a way that allows for efficient storage, retrieval, and manipulation of information. Databases are used to store and manage data in various applications, ranging from small-scale projects to large enterprise systems. They provide a structured and organized way to store and access data.\n",
    "\n",
    "Differences between SQl and NoSQL databases\n",
    "Here are some key differences between SQL and NoSQL databases:\n",
    "\n",
    "1. SQL databases are based on a structured schema, while NoSQL databases are typically schemaless.\n",
    "\n",
    "\n",
    "2. SQL databases use SQL as the query language, whereas NoSQL databases use various query languages or APIs specific to their type.\n",
    "\n",
    "\n",
    "3. SQL databases provide strong consistency and support ACID transactions, whereas NoSQL databases often provide eventual consistency and may support different consistency models.\n",
    "\n",
    "\n",
    "4. SQL databases are best suited for structured data with well-defined relationships, while NoSQL databases excel at handling unstructured or semi-structured data and are designed for high scalability."
   ]
  },
  {
   "cell_type": "markdown",
   "id": "b0763348-5437-4ea2-9edc-7c39df08ab55",
   "metadata": {},
   "source": [
    "Q2. What is DDL? Explain why CREATE, DROP, ALTER, and TRUNCATE are used with an example."
   ]
  },
  {
   "cell_type": "markdown",
   "id": "be3c8eb6-e73c-4801-b1ab-a02e3208590d",
   "metadata": {},
   "source": [
    "DL stands for Data Definition Language, which is a subset of SQL (Structured Query Language) used for defining and managing the structure of a database. DDL statements are responsible for creating, altering, and deleting database objects such as tables, indexes, and schemas. \n"
   ]
  },
  {
   "cell_type": "raw",
   "id": "c42d38e3-a51f-4141-9a19-b6cd0b23e9bc",
   "metadata": {},
   "source": [
    "-- Example: Creating a new table named \"employees\"\n",
    "CREATE TABLE employees (\n",
    "    employee_id INT PRIMARY KEY,\n",
    "    first_name VARCHAR(50),\n",
    "    last_name VARCHAR(50),\n",
    "    hire_date DATE\n",
    ");\n",
    "\n",
    "-- Example: Dropping a table named \"employees\"\n",
    "DROP TABLE employees;\n",
    "-- Example: Adding a new column to the \"employees\" table\n",
    "ALTER TABLE employees\n",
    "ADD COLUMN email VARCHAR(100);\n",
    "-- Example: Truncating the \"employees\" table\n",
    "TRUNCATE TABLE employees;\n"
   ]
  },
  {
   "cell_type": "markdown",
   "id": "4efe9cae-df32-42d5-a743-6b9f9e06355d",
   "metadata": {},
   "source": [
    "Q3. What is DML? Explain INSERT, UPDATE, and DELETE with an example."
   ]
  },
  {
   "cell_type": "markdown",
   "id": "4914f895-95d0-4799-b9a3-659bd5d5e27f",
   "metadata": {},
   "source": [
    "DML stands for Data Manipulation Language, which is a subset of SQL (Structured Query Language) used for interacting with and manipulating the data stored in a database. DML statements are responsible for adding, modifying, and deleting data in database tables. There are three primary DML statements: INSERT, UPDATE, and DELETE."
   ]
  },
  {
   "cell_type": "raw",
   "id": "a123a6a0-7b0b-43dc-816f-c4fb63c548c2",
   "metadata": {},
   "source": [
    "-- Example: Inserting a new employee record\n",
    "INSERT INTO employees (employee_id, first_name, last_name, hire_date)\n",
    "VALUES (101, 'John', 'Doe', '2023-09-01');\n",
    "\n",
    "-- Example: Inserting a new employee record\n",
    "INSERT INTO employees (employee_id, first_name, last_name, hire_date)\n",
    "VALUES (101, 'John', 'Doe', '2023-09-01');\n",
    "\n",
    "-- Example: Deleting an employee record\n",
    "DELETE FROM employees\n",
    "WHERE employee_id = 101;\n",
    "\n"
   ]
  },
  {
   "cell_type": "markdown",
   "id": "80f58ed1-90f8-4925-b8c4-3fdce4db2421",
   "metadata": {},
   "source": [
    "Q4. What is DQL? Explain SELECT with an example."
   ]
  },
  {
   "cell_type": "markdown",
   "id": "cd54b557-63e3-4bf9-b2fc-0a2dcabf9db3",
   "metadata": {},
   "source": [
    "DQL stands for Data Query Language, which is a subset of SQL (Structured Query Language) used for querying and retrieving data from a database. DQL is primarily associated with the SELECT statement, which is used to specify the data you want to retrieve from one or more database tables."
   ]
  },
  {
   "cell_type": "raw",
   "id": "f5765f3f-a8a0-4590-9ae8-804a9994b347",
   "metadata": {},
   "source": [
    "SELECT Statement:\n",
    "The SELECT statement allows you to retrieve data from one or more database tables based on specified criteria. You can specify the columns you want to retrieve, filter the rows using conditions, sort the results, and more.\n",
    "\n",
    "SELECT column1, column2, ...\n",
    "FROM table_name\n",
    "WHERE condition;\n"
   ]
  },
  {
   "cell_type": "markdown",
   "id": "e5dad96b-1315-473e-9d57-1680a465a696",
   "metadata": {},
   "source": [
    "Q5. Explain Primary Key and Foreign Key."
   ]
  },
  {
   "cell_type": "markdown",
   "id": "ffad7cb5-0b35-4764-a4f8-6473c101c38c",
   "metadata": {},
   "source": [
    "Primary Key:\n",
    "A primary key is a special constraint in a relational database that uniquely identifies each record (row) in a table. It serves as a means of ensuring data integrity and providing a way to establish relationships between tables\n",
    "\n",
    "Foreign Key:\n",
    "A foreign key is a column or a set of columns in a table that establishes a link or relationship between two tables. It refers to the primary key of another table and enforces referential integrity, ensuring that data remains consistent across related tables."
   ]
  },
  {
   "cell_type": "markdown",
   "id": "cf04b173-77fd-4a7f-a44c-45a7182c736a",
   "metadata": {},
   "source": [
    "Q6. Write a python code to connect MySQL to python. Explain the cursor() and execute() method."
   ]
  },
  {
   "cell_type": "raw",
   "id": "4e6d4247-15d7-4231-8a18-fc0b5fcbcd5e",
   "metadata": {},
   "source": [
    "import mysql.connector\n",
    "\n",
    "# Establish a connection to the MySQL database\n",
    "\n",
    "mydb=mysql.connector.connect{\n",
    "    host=\"localhost\",\n",
    "    user=\"abc\",\n",
    "    password=\"password\"\n",
    "}\n",
    "\n",
    "cursor=mydb.cursor()\n",
    "cursor.execute(\"SELECT * FROM your_table\")\n",
    "    result = cursor.fetchall()\n",
    " for row in result:\n",
    "        print(row)\n",
    "\n",
    "except mysql.connector.Error as error:\n",
    "    print(\"Error: \", error)\n",
    "\n",
    "finally:\n",
    "    # Close the cursor and connection when done\n",
    "    if 'cursor' in locals():\n",
    "        cursor.close()\n",
    "    if 'connection' in locals() and connection.is_connected():\n",
    "        connection.close()\n"
   ]
  },
  {
   "cell_type": "markdown",
   "id": "325dd027-2281-4abf-b1a1-72e830017e14",
   "metadata": {},
   "source": [
    "Q7. Give the order of execution of SQL clauses in an SQL query."
   ]
  },
  {
   "cell_type": "markdown",
   "id": "f8d3627d-512f-4e6f-8215-0c03aaece626",
   "metadata": {},
   "source": [
    "In an SQL query, the clauses are typically executed in a specific order, which is known as the logical query processing order. The standard order of execution for the main SQL clauses is as follows:\n",
    "\n",
    "FROM: The FROM clause specifies the tables or data sources from which the data will be retrieved. It is the first clause to be evaluated.\n",
    "\n",
    "WHERE: The WHERE clause filters the rows from the tables specified in the FROM clause based on a specified condition. Only rows that satisfy the condition are included in the result set. The WHERE clause is applied after the FROM clause.\n",
    "\n",
    "GROUP BY: The GROUP BY clause is used to group the rows from the result set into sets of rows with similar values in specified columns. This is typically used with aggregate functions like SUM, COUNT, AVG, etc. The GROUP BY clause is applied after the WHERE clause.\n",
    "\n",
    "HAVING: The HAVING clause filters the groups created by the GROUP BY clause based on a condition. It acts similarly to the WHERE clause but operates on grouped data. The HAVING clause is applied after the GROUP BY clause.\n",
    "\n",
    "SELECT: The SELECT clause specifies the columns to be included in the final result set. It is applied after the previous clauses (FROM, WHERE, GROUP BY, HAVING) have filtered and grouped the data.\n",
    "\n",
    "DISTINCT: The DISTINCT keyword can be used in the SELECT clause to remove duplicate rows from the result set. It operates on the result set after the SELECT clause has been applied.\n",
    "\n",
    "ORDER BY: The ORDER BY clause sorts the rows in the result set based on one or more columns in ascending or descending order. It is applied after all the previous clauses have been executed.\n",
    "\n",
    "LIMIT/OFFSET (Optional): Some SQL databases support the LIMIT and OFFSET clauses for controlling the number of rows returned and skipping a certain number of rows. These clauses are applied after all the other clauses have been executed.\n",
    "\n",
    "UNION/INTERSECT/EXCEPT (Optional): These set operations allow you to combine the result sets of multiple queries. They are applied after all other clauses have been executed.\n",
    "\n",
    "INNER JOIN/LEFT JOIN/RIGHT JOIN/FULL JOIN (Optional): If you are using joins to combine data from multiple tables, these clauses specify how the data is joined. They are applied after the FROM clause but before the other clauses."
   ]
  }
 ],
 "metadata": {
  "kernelspec": {
   "display_name": "Python 3 (ipykernel)",
   "language": "python",
   "name": "python3"
  },
  "language_info": {
   "codemirror_mode": {
    "name": "ipython",
    "version": 3
   },
   "file_extension": ".py",
   "mimetype": "text/x-python",
   "name": "python",
   "nbconvert_exporter": "python",
   "pygments_lexer": "ipython3",
   "version": "3.10.8"
  }
 },
 "nbformat": 4,
 "nbformat_minor": 5
}
