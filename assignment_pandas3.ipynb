{
 "cells": [
  {
   "cell_type": "code",
   "execution_count": 1,
   "id": "466ae225-ea7c-4641-86dd-df9c94f2669c",
   "metadata": {},
   "outputs": [],
   "source": [
    "import pandas as pd\n",
    "course_name = ['Data Science', 'Machine Learning', 'Big Data', 'Data Engineer']\n",
    "duration = [2,3,6,4]\n",
    "df = pd.DataFrame(data = {'course_name' : course_name, 'duration' : duration})"
   ]
  },
  {
   "cell_type": "code",
   "execution_count": 2,
   "id": "278c642e-6293-4cca-80f4-c93e421fce39",
   "metadata": {},
   "outputs": [
    {
     "data": {
      "text/html": [
       "<div>\n",
       "<style scoped>\n",
       "    .dataframe tbody tr th:only-of-type {\n",
       "        vertical-align: middle;\n",
       "    }\n",
       "\n",
       "    .dataframe tbody tr th {\n",
       "        vertical-align: top;\n",
       "    }\n",
       "\n",
       "    .dataframe thead th {\n",
       "        text-align: right;\n",
       "    }\n",
       "</style>\n",
       "<table border=\"1\" class=\"dataframe\">\n",
       "  <thead>\n",
       "    <tr style=\"text-align: right;\">\n",
       "      <th></th>\n",
       "      <th>course_name</th>\n",
       "      <th>duration</th>\n",
       "    </tr>\n",
       "  </thead>\n",
       "  <tbody>\n",
       "    <tr>\n",
       "      <th>0</th>\n",
       "      <td>Data Science</td>\n",
       "      <td>2</td>\n",
       "    </tr>\n",
       "    <tr>\n",
       "      <th>1</th>\n",
       "      <td>Machine Learning</td>\n",
       "      <td>3</td>\n",
       "    </tr>\n",
       "    <tr>\n",
       "      <th>2</th>\n",
       "      <td>Big Data</td>\n",
       "      <td>6</td>\n",
       "    </tr>\n",
       "    <tr>\n",
       "      <th>3</th>\n",
       "      <td>Data Engineer</td>\n",
       "      <td>4</td>\n",
       "    </tr>\n",
       "  </tbody>\n",
       "</table>\n",
       "</div>"
      ],
      "text/plain": [
       "        course_name  duration\n",
       "0      Data Science         2\n",
       "1  Machine Learning         3\n",
       "2          Big Data         6\n",
       "3     Data Engineer         4"
      ]
     },
     "execution_count": 2,
     "metadata": {},
     "output_type": "execute_result"
    }
   ],
   "source": [
    "df"
   ]
  },
  {
   "cell_type": "markdown",
   "id": "387386c2-c09d-46d6-b217-9f77c66d1508",
   "metadata": {},
   "source": [
    "Q1. Write a code to print the data present in the second row of the dataframe, df."
   ]
  },
  {
   "cell_type": "code",
   "execution_count": 3,
   "id": "ec1cdbad-b99f-4ed7-901d-86058344d56b",
   "metadata": {},
   "outputs": [
    {
     "data": {
      "text/plain": [
       "course_name    Machine Learning\n",
       "duration                      3\n",
       "Name: 1, dtype: object"
      ]
     },
     "execution_count": 3,
     "metadata": {},
     "output_type": "execute_result"
    }
   ],
   "source": [
    "df.iloc[1]"
   ]
  },
  {
   "cell_type": "markdown",
   "id": "0b32b23d-8922-47da-9163-0b19f5dd45ad",
   "metadata": {},
   "source": [
    "Q2. What is the difference between the functions loc and iloc in pandas.DataFrame?"
   ]
  },
  {
   "cell_type": "markdown",
   "id": "6df996b8-109e-466e-9698-1bef5bf3a895",
   "metadata": {},
   "source": [
    "loc is used for label-based indexing, and it includes the endpoint.\n",
    "iloc is used for integer-based indexing, and it excludes the endpoint."
   ]
  },
  {
   "cell_type": "markdown",
   "id": "dc952228-3c9a-4933-b73e-824d7f0eec2e",
   "metadata": {},
   "source": [
    "Q3. Reindex the given dataframe using a variable, reindex = [3,0,1,2] and store it in the variable, new_df\n",
    "then find the output for both new_df.loc[2] and new_df.iloc[2]."
   ]
  },
  {
   "cell_type": "code",
   "execution_count": 4,
   "id": "490ef229-e893-46a6-999b-6d758437f41f",
   "metadata": {},
   "outputs": [
    {
     "name": "stdout",
     "output_type": "stream",
     "text": [
      "course_name    Big Data\n",
      "duration              6\n",
      "Name: 2, dtype: object\n",
      "course_name    Machine Learning\n",
      "duration                      3\n",
      "Name: 1, dtype: object\n"
     ]
    }
   ],
   "source": [
    "reindex=[3,0,1,2]\n",
    "new_df=df.reindex(reindex)\n",
    "print(new_df.loc[2])\n",
    "print(new_df.iloc[2])"
   ]
  },
  {
   "cell_type": "markdown",
   "id": "5968877a-95ea-44aa-a405-7e653d4eec06",
   "metadata": {},
   "source": [
    "loc is used for label-based indexing, and new_df.loc[2] is used to select a row based on its label.\n",
    "\n",
    "iloc is used for integer-based indexing, and new_df.iloc[2] is used to select a row based on its integer position."
   ]
  },
  {
   "cell_type": "code",
   "execution_count": 5,
   "id": "64be3c2e-eeb4-4a11-9ab3-c01492323409",
   "metadata": {},
   "outputs": [],
   "source": [
    "import pandas as pd\n",
    "import numpy as np\n",
    "columns = ['column_1', 'column_2', 'column_3', 'column_4', 'column_5', 'column_6']\n",
    "indices = [1,2,3,4,5,6]\n",
    "#Creating a dataframe:\n",
    "df1 = pd.DataFrame(np.random.rand(6,6), columns = columns, index = indices)"
   ]
  },
  {
   "cell_type": "code",
   "execution_count": 6,
   "id": "d728d925-1e70-4cad-ae24-49afef223117",
   "metadata": {},
   "outputs": [
    {
     "data": {
      "text/html": [
       "<div>\n",
       "<style scoped>\n",
       "    .dataframe tbody tr th:only-of-type {\n",
       "        vertical-align: middle;\n",
       "    }\n",
       "\n",
       "    .dataframe tbody tr th {\n",
       "        vertical-align: top;\n",
       "    }\n",
       "\n",
       "    .dataframe thead th {\n",
       "        text-align: right;\n",
       "    }\n",
       "</style>\n",
       "<table border=\"1\" class=\"dataframe\">\n",
       "  <thead>\n",
       "    <tr style=\"text-align: right;\">\n",
       "      <th></th>\n",
       "      <th>column_1</th>\n",
       "      <th>column_2</th>\n",
       "      <th>column_3</th>\n",
       "      <th>column_4</th>\n",
       "      <th>column_5</th>\n",
       "      <th>column_6</th>\n",
       "    </tr>\n",
       "  </thead>\n",
       "  <tbody>\n",
       "    <tr>\n",
       "      <th>1</th>\n",
       "      <td>0.386402</td>\n",
       "      <td>0.527935</td>\n",
       "      <td>0.722711</td>\n",
       "      <td>0.577977</td>\n",
       "      <td>0.348629</td>\n",
       "      <td>0.648887</td>\n",
       "    </tr>\n",
       "    <tr>\n",
       "      <th>2</th>\n",
       "      <td>0.833760</td>\n",
       "      <td>0.736586</td>\n",
       "      <td>0.474683</td>\n",
       "      <td>0.747486</td>\n",
       "      <td>0.666172</td>\n",
       "      <td>0.592484</td>\n",
       "    </tr>\n",
       "    <tr>\n",
       "      <th>3</th>\n",
       "      <td>0.191766</td>\n",
       "      <td>0.009569</td>\n",
       "      <td>0.653703</td>\n",
       "      <td>0.062548</td>\n",
       "      <td>0.755428</td>\n",
       "      <td>0.144975</td>\n",
       "    </tr>\n",
       "    <tr>\n",
       "      <th>4</th>\n",
       "      <td>0.043521</td>\n",
       "      <td>0.195161</td>\n",
       "      <td>0.223002</td>\n",
       "      <td>0.096644</td>\n",
       "      <td>0.389577</td>\n",
       "      <td>0.729420</td>\n",
       "    </tr>\n",
       "    <tr>\n",
       "      <th>5</th>\n",
       "      <td>0.389888</td>\n",
       "      <td>0.565227</td>\n",
       "      <td>0.111980</td>\n",
       "      <td>0.237500</td>\n",
       "      <td>0.043628</td>\n",
       "      <td>0.450427</td>\n",
       "    </tr>\n",
       "    <tr>\n",
       "      <th>6</th>\n",
       "      <td>0.005781</td>\n",
       "      <td>0.488613</td>\n",
       "      <td>0.630021</td>\n",
       "      <td>0.680885</td>\n",
       "      <td>0.209411</td>\n",
       "      <td>0.835937</td>\n",
       "    </tr>\n",
       "  </tbody>\n",
       "</table>\n",
       "</div>"
      ],
      "text/plain": [
       "   column_1  column_2  column_3  column_4  column_5  column_6\n",
       "1  0.386402  0.527935  0.722711  0.577977  0.348629  0.648887\n",
       "2  0.833760  0.736586  0.474683  0.747486  0.666172  0.592484\n",
       "3  0.191766  0.009569  0.653703  0.062548  0.755428  0.144975\n",
       "4  0.043521  0.195161  0.223002  0.096644  0.389577  0.729420\n",
       "5  0.389888  0.565227  0.111980  0.237500  0.043628  0.450427\n",
       "6  0.005781  0.488613  0.630021  0.680885  0.209411  0.835937"
      ]
     },
     "execution_count": 6,
     "metadata": {},
     "output_type": "execute_result"
    }
   ],
   "source": [
    "df1"
   ]
  },
  {
   "cell_type": "markdown",
   "id": "3feeb038-c355-4ef2-83a5-825d0447cb35",
   "metadata": {},
   "source": [
    "Q4. Write a code to find the following statistical measurements for the above dataframe df1:\n",
    "(i) mean of each and every column present in the dataframe.\n",
    "(ii) standard deviation of column, ‘column_2’"
   ]
  },
  {
   "cell_type": "code",
   "execution_count": 7,
   "id": "cbd2e13b-d965-49e6-b05a-6e2ba1e05a35",
   "metadata": {},
   "outputs": [
    {
     "data": {
      "text/plain": [
       "column_1    0.308520\n",
       "column_2    0.420515\n",
       "column_3    0.469350\n",
       "column_4    0.400507\n",
       "column_5    0.402141\n",
       "column_6    0.567022\n",
       "dtype: float64"
      ]
     },
     "execution_count": 7,
     "metadata": {},
     "output_type": "execute_result"
    }
   ],
   "source": [
    "df1.mean()"
   ]
  },
  {
   "cell_type": "code",
   "execution_count": 8,
   "id": "bbe42d22-268b-4321-81e3-08863b5a957c",
   "metadata": {},
   "outputs": [
    {
     "data": {
      "text/plain": [
       "0.2670878900044247"
      ]
     },
     "execution_count": 8,
     "metadata": {},
     "output_type": "execute_result"
    }
   ],
   "source": [
    "df1['column_2'].std()"
   ]
  },
  {
   "cell_type": "markdown",
   "id": "57463c77-ed43-426f-a37a-434433b0c057",
   "metadata": {},
   "source": [
    "Q5. Replace the data present in the second row of column, ‘column_2’ by a string variable then find the\n",
    "mean of column, column_2.\n",
    "If you are getting errors in executing it then explain why.\n",
    "[Hint: To replace the data use df1.loc[] and equate this to string data of your choice.]"
   ]
  },
  {
   "cell_type": "code",
   "execution_count": 9,
   "id": "46f97b49-9104-44a8-b5b5-0cfad4beea67",
   "metadata": {},
   "outputs": [],
   "source": [
    "df1.loc[1,'column_2']='replace'"
   ]
  },
  {
   "cell_type": "markdown",
   "id": "698be875-a505-4d96-bfc0-9ad10624e3f5",
   "metadata": {},
   "source": [
    "df1['column_2'].mean()"
   ]
  },
  {
   "cell_type": "markdown",
   "id": "a1376886-5fc6-4d76-80b1-e85c245d9ca1",
   "metadata": {},
   "source": [
    "attempting to calculate the mean will result in an error because the mean() function expects numerical values."
   ]
  },
  {
   "cell_type": "markdown",
   "id": "cd43e841-0ab1-4ef9-a7d3-b4b811d501ad",
   "metadata": {},
   "source": [
    "Q6. What do you understand about the windows function in pandas and list the types of windows\n",
    "functions?"
   ]
  },
  {
   "cell_type": "markdown",
   "id": "c3687795-1e86-40f2-a3f2-5d367cd8fd7b",
   "metadata": {},
   "source": [
    "Window functions in pandas are used for performing calculations on a sliding or expanding window of data in a DataFrame or Series. The main types of window functions are:\n",
    "\n",
    "Rolling Functions: Calculate statistics over a fixed-size rolling window of data.\n",
    "Expanding Functions: Calculate a statistic over all data points up to the current point.\n",
    "Exponential Moving Average (EMA): Assign different weights to data points based on their age.\n",
    "Custom Window Functions: Define your own functions for specific calculations."
   ]
  },
  {
   "cell_type": "raw",
   "id": "2f8d541b-34b4-4ac7-a8ed-3868917b2b07",
   "metadata": {},
   "source": [
    "Q7. Write a code to print only the current month and year at the time of answering this question.\n",
    "[Hint: Use pandas.datetime function]"
   ]
  },
  {
   "cell_type": "code",
   "execution_count": 1,
   "id": "92195a79-9b4e-4939-b944-d9fadc63d442",
   "metadata": {},
   "outputs": [
    {
     "name": "stdout",
     "output_type": "stream",
     "text": [
      "10\n",
      "2023\n"
     ]
    },
    {
     "name": "stderr",
     "output_type": "stream",
     "text": [
      "/tmp/ipykernel_210/443355351.py:3: FutureWarning: The parsing of 'now' in pd.to_datetime without `utc=True` is deprecated. In a future version, this will match Timestamp('now') and Timestamp.now()\n",
      "  current_datetime=pd.to_datetime(\"now\")\n"
     ]
    }
   ],
   "source": [
    "import pandas as pd\n",
    "\n",
    "current_datetime=pd.to_datetime(\"now\")\n",
    "\n",
    "print(current_datetime.month)\n",
    "print(current_datetime.year)"
   ]
  },
  {
   "cell_type": "markdown",
   "id": "93318a4e-facb-410f-8d6c-55014cbcbdfe",
   "metadata": {},
   "source": [
    "Q8. Write a Python program that takes in two dates as input (in the format YYYY-MM-DD) and\n",
    "calculates the difference between them in days, hours, and minutes using Pandas time delta. The\n",
    "program should prompt the user to enter the dates and display the result."
   ]
  },
  {
   "cell_type": "code",
   "execution_count": 3,
   "id": "6d7d1af7-55e7-4046-8edb-077780b3bb7a",
   "metadata": {},
   "outputs": [
    {
     "name": "stdin",
     "output_type": "stream",
     "text": [
      "Enter first date 2023-08-01\n",
      "Enter second date 2023-08-03\n"
     ]
    },
    {
     "name": "stdout",
     "output_type": "stream",
     "text": [
      "2 days 0hours 0 minutes\n"
     ]
    }
   ],
   "source": [
    "date1=input(\"Enter first date\")\n",
    "date2=input(\"Enter second date\")\n",
    "\n",
    "date1=pd.to_datetime(date1)\n",
    "date2=pd.to_datetime(date2)\n",
    "\n",
    "time_difference= date2-date1\n",
    "\n",
    "days=time_difference.days\n",
    "\n",
    "seconds= time_difference.seconds\n",
    "minutes, seconds=divmod(seconds,60)\n",
    "hours,minutes= divmod(minutes,60)\n",
    "\n",
    "print(f\"{days} days {hours} hours {minutes} minutes\")"
   ]
  },
  {
   "cell_type": "markdown",
   "id": "69874bc1-8560-44ec-9fba-e4ab1817da37",
   "metadata": {},
   "source": [
    "Q9. Write a Python program that reads a CSV file containing categorical data and converts a specified\n",
    "column to a categorical data type. The program should prompt the user to enter the file path, column\n",
    "name, and category order, and then display the sorted data."
   ]
  },
  {
   "cell_type": "code",
   "execution_count": 7,
   "id": "1c210c30-47cf-4077-988b-85ce88d4222a",
   "metadata": {},
   "outputs": [
    {
     "name": "stdin",
     "output_type": "stream",
     "text": [
      "Enter the CSV file path:  data.csv\n"
     ]
    },
    {
     "name": "stdout",
     "output_type": "stream",
     "text": [
      "Columns in the CSV file:\n",
      "name\n",
      "email\n",
      "number\n"
     ]
    },
    {
     "name": "stdin",
     "output_type": "stream",
     "text": [
      "Enter the column name to convert to categorical:  name\n",
      "Enter the category order (comma-separated values):  p,r\n"
     ]
    },
    {
     "name": "stdout",
     "output_type": "stream",
     "text": [
      "Sorted Data:\n",
      "  name         email     number\n",
      "0  NaN  mewada@gamil   45363547\n",
      "1  NaN   hdaka@gmail  476787656\n"
     ]
    }
   ],
   "source": [
    "import pandas as pd \n",
    "file_path = input(\"Enter the CSV file path: \")\n",
    "\n",
    "try:\n",
    "    df = pd.read_csv(file_path)\n",
    "except FileNotFoundError:\n",
    "    print(\"File not found. Please provide a valid file path.\")\n",
    "    exit(1)\n",
    "\n",
    "print(\"Columns in the CSV file:\")\n",
    "for column in df.columns:\n",
    "    print(column)\n",
    "\n",
    "column_name = input(\"Enter the column name to convert to categorical: \")\n",
    "\n",
    "if column_name not in df.columns:\n",
    "    print(f\"Column '{column_name}' not found in the CSV file.\")\n",
    "    exit(1)\n",
    "category_order = input(\"Enter the category order (comma-separated values): \")\n",
    "category_order = [category.strip() for category in category_order.split(\",\")]\n",
    "df[column_name] = pd.Categorical(df[column_name], categories=category_order, ordered=True)\n",
    "df.sort_values(by=[column_name], inplace=True)\n",
    "print(\"Sorted Data:\")\n",
    "print(df)\n"
   ]
  },
  {
   "cell_type": "markdown",
   "id": "0d2b131e-e154-4836-bb3d-375c7becdfe2",
   "metadata": {},
   "source": [
    "Q10. Write a Python program that reads a CSV file containing sales data for different products and\n",
    "visualizes the data using a stacked bar chart to show the sales of each product category over time. The\n",
    "program should prompt the user to enter the file path and display the chart."
   ]
  },
  {
   "cell_type": "code",
   "execution_count": null,
   "id": "6bb5ae48-6319-40bc-b884-d8c0e2bb5a1b",
   "metadata": {},
   "outputs": [],
   "source": [
    "import pandas as pd\n",
    "file_path=input(\"Enter file path\")\n",
    "\n",
    "try:\n",
    "    df = pd.read_csv(file_path)\n",
    "except FileNotFoundError:\n",
    "    print(\"File not found. Please provide a valid file path.\")\n",
    "    exit(1)\n",
    "\n",
    "df[\"Date\"]=pd.to_datetime(df[\"Date\"])\n",
    "df=df.set_index(\"Date\")\n",
    "category_columns = [col for col in df.columns if col.startswith('Category')]\n",
    "category_sales = df[category_columns].sum(axis=1)\n",
    "\n",
    "# Plot the stacked bar chart\n",
    "plt.figure(figsize=(10, 6))\n",
    "category_sales.plot(kind='bar', stacked=True)\n",
    "plt.title('Sales of Product Categories Over Time')\n",
    "plt.xlabel('Date')\n",
    "plt.ylabel('Total Sales')\n",
    "plt.legend(category_columns, loc='upper right')\n",
    "plt.show()\n",
    "\n",
    "        "
   ]
  },
  {
   "cell_type": "markdown",
   "id": "f54ccd21-2f47-40fe-9fc0-ffc9e72f5f3a",
   "metadata": {},
   "source": [
    "Q11. You are given a CSV file containing student data that includes the student ID and their test score. Write\n",
    "a Python program that reads the CSV file, calculates the mean, median, and mode of the test scores, and\n",
    "displays the results in a table.\n",
    "The program should do the followingM\n",
    "I Prompt the user to enter the file path of the CSV file containing the student dataR\n",
    "I Read the CSV file into a Pandas DataFrameR\n",
    "I Calculate the mean, median, and mode of the test scores using Pandas toolsR\n",
    "I Display the mean, median, and mode in a table.\n",
    "Assume the CSV file contains the following columnsM\n",
    "I Student ID: The ID of the studentR\n",
    "I Test Score: The score of the student's test.\n",
    "Example usage of the program:\n",
    "Enter the file path of the CSV file containing the student data: student_data.csv\n",
    "+-----------+--------+\n",
    "| Statistic | Value |\n",
    "+-----------+--------+\n",
    "| Mean | 79.6 |\n",
    "| Median | 82 |\n",
    "| Mode | 85, 90 |\n",
    "+-----------+--------+\n",
    "Assume that the CSV file student_data.csv contains the following data:\n",
    "Student ID,Test Score\n",
    "1,85\n",
    "2,90\n",
    "3,80\n",
    "4,75\n",
    "5,85\n",
    "6,82\n",
    "7,78\n",
    "8,85\n",
    "9,90\n",
    "10,85\n",
    "The program should calculate the mean, median, and mode of the test scores and display the results\n",
    "in a table."
   ]
  },
  {
   "cell_type": "code",
   "execution_count": null,
   "id": "ad8de3d3-56c8-4165-9aef-5bddd77d4185",
   "metadata": {},
   "outputs": [],
   "source": []
  }
 ],
 "metadata": {
  "kernelspec": {
   "display_name": "Python 3 (ipykernel)",
   "language": "python",
   "name": "python3"
  },
  "language_info": {
   "codemirror_mode": {
    "name": "ipython",
    "version": 3
   },
   "file_extension": ".py",
   "mimetype": "text/x-python",
   "name": "python",
   "nbconvert_exporter": "python",
   "pygments_lexer": "ipython3",
   "version": "3.10.8"
  }
 },
 "nbformat": 4,
 "nbformat_minor": 5
}
