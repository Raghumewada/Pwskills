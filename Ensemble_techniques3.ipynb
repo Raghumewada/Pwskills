{
 "cells": [
  {
   "cell_type": "markdown",
   "id": "999f9a0f-3b1c-4545-aa86-439e8fb2ac5e",
   "metadata": {},
   "source": [
    "Q1. What is Random Forest Regressor?"
   ]
  },
  {
   "cell_type": "markdown",
   "id": "336715a3-c9fc-4a26-bab5-53361c2de609",
   "metadata": {},
   "source": [
    "Random Forest Regressor is an ensemble learning method that combines multiple decision trees to predict continuous target values."
   ]
  },
  {
   "cell_type": "code",
   "execution_count": null,
   "id": "aaf7290e-12e0-49c3-841b-b001a8238bdd",
   "metadata": {},
   "outputs": [],
   "source": []
  },
  {
   "cell_type": "markdown",
   "id": "d0b587f6-d4cc-4f99-b268-d1c03ee5b036",
   "metadata": {},
   "source": [
    "Q2. How does Random Forest Regressor reduce the risk of overfitting?"
   ]
  },
  {
   "cell_type": "markdown",
   "id": "2b37446b-c51d-4293-b55d-3570b8ba708d",
   "metadata": {},
   "source": [
    "It reduces overfitting by averaging the predictions of many trees trained on different random subsets of the data and features, decreasing model variance."
   ]
  },
  {
   "cell_type": "code",
   "execution_count": null,
   "id": "6f3fc45e-be9f-4238-b628-868c713ac879",
   "metadata": {},
   "outputs": [],
   "source": []
  },
  {
   "cell_type": "markdown",
   "id": "055b9bd1-ab99-453f-8a88-d65d6b22a03e",
   "metadata": {},
   "source": [
    "Q3. How does Random Forest Regressor aggregate the predictions of multiple decision trees?"
   ]
  },
  {
   "cell_type": "markdown",
   "id": "ed3e2f5d-893d-49a4-a16b-abc92f59e6ba",
   "metadata": {},
   "source": [
    "It averages the predictions from all the individual trees to produce the final prediction."
   ]
  },
  {
   "cell_type": "code",
   "execution_count": null,
   "id": "3de6bde2-b4ff-489b-865b-ee7eafa6d78e",
   "metadata": {},
   "outputs": [],
   "source": []
  },
  {
   "cell_type": "markdown",
   "id": "473a99d8-0fb9-4f89-be13-4e2606dda16a",
   "metadata": {},
   "source": [
    "Q4. What are the hyperparameters of Random Forest Regressor?"
   ]
  },
  {
   "cell_type": "markdown",
   "id": "b5c5ff2a-3610-4214-9422-5492b8896035",
   "metadata": {},
   "source": [
    "Key hyperparameters include:\n",
    "\n",
    "- Number of trees (n_estimators)\n",
    "- Maximum depth of trees (max_depth)\n",
    "- Number of features to consider for splits (max_features)\n",
    "- Minimum samples required to split a node (min_samples_split)\n",
    "- Minimum samples required at a leaf node (min_samples_leaf)"
   ]
  },
  {
   "cell_type": "code",
   "execution_count": null,
   "id": "94fcc65b-ed91-413e-9df2-86d0818b3c79",
   "metadata": {},
   "outputs": [],
   "source": []
  },
  {
   "cell_type": "markdown",
   "id": "e55efaa5-76ba-4089-b82d-a1e1cba3198b",
   "metadata": {},
   "source": [
    "Q5. What is the difference between Random Forest Regressor and Decision Tree Regressor?"
   ]
  },
  {
   "cell_type": "markdown",
   "id": "237b7097-7f85-4264-8448-ea8708c288da",
   "metadata": {},
   "source": [
    "- Random Forest Regressor: Combines multiple decision trees, reducing variance and improving robustness.\n",
    "- Decision Tree Regressor: Single tree model, more prone to overfitting."
   ]
  },
  {
   "cell_type": "code",
   "execution_count": null,
   "id": "2f1d5619-00bd-4d61-951f-02f8257f53b8",
   "metadata": {},
   "outputs": [],
   "source": []
  },
  {
   "cell_type": "markdown",
   "id": "49638eaa-ae2b-44ba-bd4e-bc9cede84a4b",
   "metadata": {},
   "source": [
    "Q6. What are the advantages and disadvantages of Random Forest Regressor?"
   ]
  },
  {
   "cell_type": "markdown",
   "id": "877752db-c8a7-497b-a4ad-e61eca51591b",
   "metadata": {},
   "source": [
    "- Advantages:\n",
    "    - Reduces overfitting\n",
    "    - Handles high-dimensional data well\n",
    "    - Provides feature importance\n",
    "- Disadvantages:\n",
    "    - Can be computationally expensive\n",
    "    - Less interpretable than a single decision tree"
   ]
  },
  {
   "cell_type": "code",
   "execution_count": null,
   "id": "a7ca4dd0-75dc-45c3-ba4f-cf8749752a8e",
   "metadata": {},
   "outputs": [],
   "source": []
  },
  {
   "cell_type": "markdown",
   "id": "7bda6bb5-88ce-4547-ac43-b8ae7d9ba033",
   "metadata": {},
   "source": [
    "Q7. What is the output of Random Forest Regressor?"
   ]
  },
  {
   "cell_type": "markdown",
   "id": "32519d70-c567-4f86-a906-7a1306f790b8",
   "metadata": {},
   "source": []
  },
  {
   "cell_type": "code",
   "execution_count": null,
   "id": "77d53414-b132-4d73-a42a-b311cde7d890",
   "metadata": {},
   "outputs": [],
   "source": []
  },
  {
   "cell_type": "markdown",
   "id": "136ad4de-6170-42e7-adb5-d6c70246e5a1",
   "metadata": {},
   "source": [
    "Q8. Can Random Forest Regressor be used for classification tasks?"
   ]
  },
  {
   "cell_type": "markdown",
   "id": "7523ad19-6a9f-4e17-80c5-c0d46ef25c78",
   "metadata": {},
   "source": []
  },
  {
   "cell_type": "code",
   "execution_count": null,
   "id": "ff36da26-eeae-4beb-aeca-9f293232fcd5",
   "metadata": {},
   "outputs": [],
   "source": []
  }
 ],
 "metadata": {
  "kernelspec": {
   "display_name": "Python 3 (ipykernel)",
   "language": "python",
   "name": "python3"
  },
  "language_info": {
   "codemirror_mode": {
    "name": "ipython",
    "version": 3
   },
   "file_extension": ".py",
   "mimetype": "text/x-python",
   "name": "python",
   "nbconvert_exporter": "python",
   "pygments_lexer": "ipython3",
   "version": "3.10.8"
  }
 },
 "nbformat": 4,
 "nbformat_minor": 5
}
