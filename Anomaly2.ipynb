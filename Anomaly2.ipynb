{
 "cells": [
  {
   "cell_type": "markdown",
   "id": "2ae31a9e-1a46-4c34-9d81-701338c227dd",
   "metadata": {},
   "source": [
    "Q1. What is the role of feature selection in anomaly detection?"
   ]
  },
  {
   "cell_type": "markdown",
   "id": "a56a339b-da06-45c7-8ccf-a417ca9475d2",
   "metadata": {},
   "source": [
    "Feature selection improves the performance of anomaly detection algorithms by:\n",
    "\n",
    "- Reducing the dimensionality of the data, making it easier to detect anomalies.\n",
    "- Removing irrelevant or redundant features that could mask anomalies.\n",
    "- Enhancing the algorithm's ability to identify patterns and outliers in the data."
   ]
  },
  {
   "cell_type": "code",
   "execution_count": null,
   "id": "9197d7e6-4d4a-47db-b538-7b09ac66f921",
   "metadata": {},
   "outputs": [],
   "source": []
  },
  {
   "cell_type": "markdown",
   "id": "94143de4-ff7a-4faf-8d1e-b2fcb91c4218",
   "metadata": {},
   "source": [
    "Q2. What are some common evaluation metrics for anomaly detection algorithms and how are they\n",
    "computed?"
   ]
  },
  {
   "cell_type": "markdown",
   "id": "8b3a5e27-ec69-4b27-9398-79648384d10d",
   "metadata": {},
   "source": [
    "- Precision: TP/TP+FP - Measures the proportion of true positives out of predicted positives.\n",
    "- Recall: TP/TP+FN - Measures the proportion of true positives out of actual positives.\n",
    "- F1-Score: 2× Precision×Recall/Precision+Recall - Harmonic mean of precision and recall.\n",
    "- ROC-AUC: Measures the trade-off between true positive rate and false positive rate."
   ]
  },
  {
   "cell_type": "code",
   "execution_count": null,
   "id": "8ec368a6-fff1-42ad-81c3-70684e92559b",
   "metadata": {},
   "outputs": [],
   "source": []
  },
  {
   "cell_type": "markdown",
   "id": "2425b584-91bf-473f-b3e8-74fceb5264a2",
   "metadata": {},
   "source": [
    "Q3. What is DBSCAN and how does it work for clustering?"
   ]
  },
  {
   "cell_type": "markdown",
   "id": "356cc4bb-3587-422d-b107-86809db3842e",
   "metadata": {},
   "source": [
    "- DBSCAN (Density-Based Spatial Clustering of Applications with Noise): A clustering algorithm that groups together points that are closely packed and marks points that lie alone in low-density regions as outliers.\n",
    "- Process: It starts with an arbitrary point and expands the cluster by including all points within the given neighborhood radius (epsilon) if the density condition (minPts) is met."
   ]
  },
  {
   "cell_type": "code",
   "execution_count": null,
   "id": "f3feb689-20c7-4098-91cb-6a71115a97ab",
   "metadata": {},
   "outputs": [],
   "source": []
  },
  {
   "cell_type": "markdown",
   "id": "f6218af4-1f28-4047-a72f-95334a8e67c2",
   "metadata": {},
   "source": [
    "Q4. How does the epsilon parameter affect the performance of DBSCAN in detecting anomalies?"
   ]
  },
  {
   "cell_type": "markdown",
   "id": "a45bc855-aa38-42a0-bc01-33482a7f0743",
   "metadata": {},
   "source": [
    "- Epsilon (ε): Defines the neighborhood radius.\n",
    "- Effect: A small epsilon may result in many small clusters and noise points (potential anomalies), while a large epsilon may include more points into clusters, reducing the detection of anomalies."
   ]
  },
  {
   "cell_type": "code",
   "execution_count": null,
   "id": "99ad4102-949d-491f-94c8-ffa407ca4e9d",
   "metadata": {},
   "outputs": [],
   "source": []
  },
  {
   "cell_type": "markdown",
   "id": "8e6292eb-c105-485e-b477-6e2c7e5553d3",
   "metadata": {},
   "source": [
    "Q5. What are the differences between the core, border, and noise points in DBSCAN, and how do they relate\n",
    "to anomaly detection?"
   ]
  },
  {
   "cell_type": "markdown",
   "id": "d66be042-8130-42f0-a3cf-b2bbdd869817",
   "metadata": {},
   "source": [
    "- Core Points: Have at least minPts points within their epsilon-neighborhood.\n",
    "- Border Points: Have fewer than minPts points within their epsilon-neighborhood but are in the neighborhood of a core point.\n",
    "- Noise Points: Are neither core points nor border points; considered as anomalies"
   ]
  },
  {
   "cell_type": "code",
   "execution_count": null,
   "id": "789fecc6-18f2-4652-bc9e-ea3e89357a14",
   "metadata": {},
   "outputs": [],
   "source": []
  },
  {
   "cell_type": "markdown",
   "id": "bce26f3d-d670-411b-bd46-bc3c68282ba1",
   "metadata": {},
   "source": [
    "Q6. How does DBSCAN detect anomalies and what are the key parameters involved in the process?"
   ]
  },
  {
   "cell_type": "markdown",
   "id": "243cf5d2-8f62-4c85-9287-4cb73b219a3e",
   "metadata": {},
   "source": [
    "- Detection: Points that are not part of any cluster (noise points) are considered anomalies.\n",
    "- Key Parameters: Epsilon (ε) and minPts (minimum number of points required to form a dense region)."
   ]
  },
  {
   "cell_type": "code",
   "execution_count": null,
   "id": "a33762cd-a21b-493c-89fb-3b5272397454",
   "metadata": {},
   "outputs": [],
   "source": []
  },
  {
   "cell_type": "markdown",
   "id": "20906692-e86f-4712-b004-865d59d2cd01",
   "metadata": {},
   "source": [
    "Q7. What is the make_circles package in scikit-learn used for?"
   ]
  },
  {
   "cell_type": "markdown",
   "id": "564664cc-9423-4c68-81b6-24b86bcb929e",
   "metadata": {},
   "source": []
  },
  {
   "cell_type": "code",
   "execution_count": null,
   "id": "e193fa50-8a4f-4371-b02b-a8da9831cf39",
   "metadata": {},
   "outputs": [],
   "source": []
  },
  {
   "cell_type": "markdown",
   "id": "13c2fe57-3131-445c-be3a-db7e74fe24d3",
   "metadata": {},
   "source": [
    "Q8. What are local outliers and global outliers, and how do they differ from each other?"
   ]
  },
  {
   "cell_type": "markdown",
   "id": "9e55c1f2-6dce-4c13-8c98-9ae58d9c7212",
   "metadata": {},
   "source": []
  },
  {
   "cell_type": "code",
   "execution_count": null,
   "id": "88970cfc-0393-4995-943f-b7d098cc1df2",
   "metadata": {},
   "outputs": [],
   "source": []
  },
  {
   "cell_type": "markdown",
   "id": "c8c8a38e-6c02-4987-bb5d-42307670657b",
   "metadata": {},
   "source": [
    "Q9. How can local outliers be detected using the Local Outlier Factor (LOF) algorithm?"
   ]
  },
  {
   "cell_type": "markdown",
   "id": "d941554c-81b6-4b62-92e0-5d5154149af1",
   "metadata": {},
   "source": []
  },
  {
   "cell_type": "code",
   "execution_count": null,
   "id": "4695624c-7a89-44b4-8278-bc02bf5370f8",
   "metadata": {},
   "outputs": [],
   "source": []
  },
  {
   "cell_type": "markdown",
   "id": "32c520a2-63bf-4ecc-92e0-576b1e30e9be",
   "metadata": {},
   "source": [
    "Q10. How can global outliers be detected using the Isolation Forest algorithm?"
   ]
  },
  {
   "cell_type": "markdown",
   "id": "816412d2-fa06-4d7c-98b0-424fbfbe56fc",
   "metadata": {},
   "source": []
  },
  {
   "cell_type": "code",
   "execution_count": null,
   "id": "e066adcc-5fd9-4f45-ac02-e2d807fce968",
   "metadata": {},
   "outputs": [],
   "source": []
  },
  {
   "cell_type": "markdown",
   "id": "6596da5e-4e2e-40d0-9e36-7b91799102cc",
   "metadata": {},
   "source": [
    "Q11. What are some real-world applications where local outlier detection is more appropriate than global\n",
    "outlier detection, and vice versa?"
   ]
  },
  {
   "cell_type": "markdown",
   "id": "57abbc8c-2d30-4af6-a99e-15f84f9dbd84",
   "metadata": {},
   "source": []
  }
 ],
 "metadata": {
  "kernelspec": {
   "display_name": "Python 3 (ipykernel)",
   "language": "python",
   "name": "python3"
  },
  "language_info": {
   "codemirror_mode": {
    "name": "ipython",
    "version": 3
   },
   "file_extension": ".py",
   "mimetype": "text/x-python",
   "name": "python",
   "nbconvert_exporter": "python",
   "pygments_lexer": "ipython3",
   "version": "3.10.8"
  }
 },
 "nbformat": 4,
 "nbformat_minor": 5
}
