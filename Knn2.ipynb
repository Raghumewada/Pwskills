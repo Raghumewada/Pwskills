{
 "cells": [
  {
   "cell_type": "markdown",
   "id": "6a2da59e-204a-439c-b6c8-30ecb2224f13",
   "metadata": {},
   "source": [
    "Q1. What is the main difference between the Euclidean distance metric and the Manhattan distance\n",
    "metric in KNN? How might this difference affect the performance of a KNN classifier or regressor?"
   ]
  },
  {
   "cell_type": "markdown",
   "id": "0885041d-d583-4caf-99fe-a83990cf41e0",
   "metadata": {},
   "source": [
    "- Euclidean distance: Measures straight-line distance, sensitive to large differences.\n",
    "- Manhattan distance: Measures grid-like path distance, less sensitive to outliers.\n",
    "- Effect on performance: Euclidean is better for smooth, continuous spaces; Manhattan can be better for grid-like or discrete feature spaces."
   ]
  },
  {
   "cell_type": "code",
   "execution_count": null,
   "id": "296d2e36-0606-4885-ba59-1fb99178b963",
   "metadata": {},
   "outputs": [],
   "source": []
  },
  {
   "cell_type": "markdown",
   "id": "ee4f491d-fcf9-479b-9472-4bd284d87418",
   "metadata": {},
   "source": [
    "Q2. How do you choose the optimal value of k for a KNN classifier or regressor? What techniques can be\n",
    "used to determine the optimal k value?"
   ]
  },
  {
   "cell_type": "markdown",
   "id": "cce81522-502b-49ef-9a4a-0cbd8f22ec8e",
   "metadata": {},
   "source": [
    "- Choosing k: Use cross-validation to test different k values.\n",
    "- Techniques: Grid search, random search, and evaluation of performance metrics (e.g., accuracy for classification, MSE for regression)."
   ]
  },
  {
   "cell_type": "code",
   "execution_count": null,
   "id": "26800726-2867-450b-abf3-0ded4ee11133",
   "metadata": {},
   "outputs": [],
   "source": []
  },
  {
   "cell_type": "markdown",
   "id": "817769eb-b2e7-428f-8eff-a04f28f57ca0",
   "metadata": {},
   "source": [
    "Q3. How does the choice of distance metric affect the performance of a KNN classifier or regressor? In\n",
    "what situations might you choose one distance metric over the other?"
   ]
  },
  {
   "cell_type": "markdown",
   "id": "24fe6221-37f9-4966-94ae-66e2a8efaf26",
   "metadata": {},
   "source": [
    "- Effect on performance: The choice of distance metric affects how neighbors are selected, impacting accuracy.\n",
    "- Choosing metrics:\n",
    "    - Euclidean: Use when features have similar scales and continuous values.\n",
    "    - Manhattan: Use when features are on different scales or in a grid-like structure."
   ]
  },
  {
   "cell_type": "code",
   "execution_count": null,
   "id": "08d4cdd4-9c1c-4833-a28d-431cad4f1106",
   "metadata": {},
   "outputs": [],
   "source": []
  },
  {
   "cell_type": "markdown",
   "id": "2a145ce5-7cfd-4b91-8693-98cccfe74707",
   "metadata": {},
   "source": [
    "Q4. What are some common hyperparameters in KNN classifiers and regressors, and how do they affect\n",
    "the performance of the model? How might you go about tuning these hyperparameters to improve\n",
    "model performance?"
   ]
  },
  {
   "cell_type": "markdown",
   "id": "1d313e1d-2fdb-4c10-9fce-a38994c78396",
   "metadata": {},
   "source": [
    "- Common hyperparameters:\n",
    "    - k (number of neighbors): Balances bias and variance.\n",
    "    - Distance metric: Affects neighbor selection.\n",
    "    - Weights (uniform or distance-weighted): Influences neighbor contributions.\n",
    "- Tuning: Use cross-validation, grid search, or random search to find the optimal combination of hyperparameters."
   ]
  },
  {
   "cell_type": "code",
   "execution_count": null,
   "id": "9dee6110-ebcb-4bb2-9f2c-a580b5cbbf7e",
   "metadata": {},
   "outputs": [],
   "source": []
  },
  {
   "cell_type": "markdown",
   "id": "48ec55c1-5997-4f1f-b4b2-afcb912e90cd",
   "metadata": {},
   "source": [
    "Q5. How does the size of the training set affect the performance of a KNN classifier or regressor? What\n",
    "techniques can be used to optimize the size of the training set?"
   ]
  },
  {
   "cell_type": "markdown",
   "id": "cd725518-0269-4b00-84eb-b6d25519c4d2",
   "metadata": {},
   "source": [
    "- Effect of training set size: Larger training sets improve model performance but increase computational cost.\n",
    "- Optimizing size: Use techniques like stratified sampling, active learning, or data augmentation to balance training set size and performance."
   ]
  },
  {
   "cell_type": "code",
   "execution_count": null,
   "id": "59d36842-c9c4-41a0-a857-097d665a296b",
   "metadata": {},
   "outputs": [],
   "source": []
  },
  {
   "cell_type": "markdown",
   "id": "b3703306-2733-4861-9d40-fd0013d1aead",
   "metadata": {},
   "source": [
    "Q6. What are some potential drawbacks of using KNN as a classifier or regressor? How might you\n",
    "overcome these drawbacks to improve the performance of the model?"
   ]
  },
  {
   "cell_type": "markdown",
   "id": "aa763021-bd16-43fd-8eb0-af62dd718afd",
   "metadata": {},
   "source": []
  }
 ],
 "metadata": {
  "kernelspec": {
   "display_name": "Python 3 (ipykernel)",
   "language": "python",
   "name": "python3"
  },
  "language_info": {
   "codemirror_mode": {
    "name": "ipython",
    "version": 3
   },
   "file_extension": ".py",
   "mimetype": "text/x-python",
   "name": "python",
   "nbconvert_exporter": "python",
   "pygments_lexer": "ipython3",
   "version": "3.10.8"
  }
 },
 "nbformat": 4,
 "nbformat_minor": 5
}
