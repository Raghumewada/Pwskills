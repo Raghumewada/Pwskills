{
 "cells": [
  {
   "cell_type": "markdown",
   "id": "92b1d9a7-1426-48fa-9272-bd6dab51bd57",
   "metadata": {},
   "source": [
    "Q1. What is boosting in machine learning?"
   ]
  },
  {
   "cell_type": "markdown",
   "id": "14ad41bf-6788-4ef6-93eb-9126212857a7",
   "metadata": {},
   "source": [
    "Boosting is an ensemble technique that combines multiple weak learners to form a strong learner, improving the overall model's accuracy."
   ]
  },
  {
   "cell_type": "code",
   "execution_count": null,
   "id": "5116abdb-8246-4d2a-ac84-1bedd7c0315d",
   "metadata": {},
   "outputs": [],
   "source": []
  },
  {
   "cell_type": "markdown",
   "id": "51b9c350-0b81-4c7d-badd-3c63cd5d96dd",
   "metadata": {},
   "source": [
    "Q2. What are the advantages and limitations of using boosting techniques?"
   ]
  },
  {
   "cell_type": "markdown",
   "id": "223ce3a5-2f0f-4f49-bca0-6f82eadd1b51",
   "metadata": {},
   "source": [
    "Advantages:\n",
    "\n",
    "- Improves model accuracy.\n",
    "- Reduces bias and variance.\n",
    "- Effective for both regression and classification problems.\n",
    "\n",
    "Limitations:\n",
    "\n",
    "- Prone to overfitting.\n",
    "- Computationally expensive.\n",
    "- Sensitive to noisy data and outliers."
   ]
  },
  {
   "cell_type": "code",
   "execution_count": null,
   "id": "176c84ed-636c-4add-9314-f8986178f9d8",
   "metadata": {},
   "outputs": [],
   "source": []
  },
  {
   "cell_type": "markdown",
   "id": "b4437627-3bff-4721-9e41-4ae1eabc39ed",
   "metadata": {},
   "source": [
    "Q3. Explain how boosting works."
   ]
  },
  {
   "cell_type": "markdown",
   "id": "73ff4615-f368-48df-810b-3fc2ceab3086",
   "metadata": {},
   "source": [
    "Boosting works by training weak learners sequentially, where each learner focuses on the mistakes of the previous ones. The predictions are combined using weighted majority voting or averaging."
   ]
  },
  {
   "cell_type": "code",
   "execution_count": null,
   "id": "26502b34-56d4-404f-b751-cbd77d0aa297",
   "metadata": {},
   "outputs": [],
   "source": []
  },
  {
   "cell_type": "markdown",
   "id": "625c85e0-063d-40b3-99af-cbf872b257f7",
   "metadata": {},
   "source": [
    "Q4. What are the different types of boosting algorithms?"
   ]
  },
  {
   "cell_type": "markdown",
   "id": "742edc0d-931a-41da-b583-2877578c627e",
   "metadata": {},
   "source": [
    "- AdaBoost (Adaptive Boosting)\n",
    "- Gradient Boosting\n",
    "- XGBoost (Extreme Gradient Boosting)\n",
    "- LightGBM (Light Gradient Boosting Machine)\n",
    "- CatBoost (Categorical Boosting)"
   ]
  },
  {
   "cell_type": "code",
   "execution_count": null,
   "id": "4c3e80a6-a7d9-4f94-8942-18408f646bd8",
   "metadata": {},
   "outputs": [],
   "source": []
  },
  {
   "cell_type": "markdown",
   "id": "09d9f714-2196-4391-a22c-592d18490303",
   "metadata": {},
   "source": [
    "Q5. What are some common parameters in boosting algorithms?"
   ]
  },
  {
   "cell_type": "markdown",
   "id": "c234d5d9-a3ed-4ba5-ae7f-48a69427fb13",
   "metadata": {},
   "source": [
    "- Number of estimators (n_estimators)\n",
    "- Learning rate\n",
    "- Maximum depth of trees\n",
    "- Minimum samples split/leaf\n",
    "- Subsample ratio\n",
    "- Regularization parameters"
   ]
  },
  {
   "cell_type": "code",
   "execution_count": null,
   "id": "42d48362-3f60-4547-9bba-79291b97460d",
   "metadata": {},
   "outputs": [],
   "source": []
  },
  {
   "cell_type": "markdown",
   "id": "be5d8ee3-53ac-4300-ae25-134134b5eaa4",
   "metadata": {},
   "source": [
    "Q6. How do boosting algorithms combine weak learners to create a strong learner?"
   ]
  },
  {
   "cell_type": "markdown",
   "id": "60dd8134-089c-43e3-8715-b7270f60a01c",
   "metadata": {},
   "source": [
    "Boosting algorithms assign weights to each weak learner's prediction and combine them to make the final prediction. The weights are determined based on the learners' accuracy, emphasizing learners that perform better."
   ]
  },
  {
   "cell_type": "code",
   "execution_count": null,
   "id": "453465a3-0ff6-4090-aaaa-f1f2eaf8032a",
   "metadata": {},
   "outputs": [],
   "source": []
  },
  {
   "cell_type": "markdown",
   "id": "5bdcc641-021c-420b-afb7-5fd7095300be",
   "metadata": {},
   "source": [
    "Q7. Explain the concept of AdaBoost algorithm and its working."
   ]
  },
  {
   "cell_type": "markdown",
   "id": "7388748e-ae78-4a3d-89aa-b015377264da",
   "metadata": {},
   "source": [
    "AdaBoost (Adaptive Boosting) is a boosting algorithm that creates a strong classifier by combining several weak classifiers. It assigns higher weights to the misclassified samples so that subsequent classifiers focus more on those samples, improving overall accuracy."
   ]
  },
  {
   "cell_type": "code",
   "execution_count": null,
   "id": "ab78301e-03e8-4486-98e6-412fe3180d75",
   "metadata": {},
   "outputs": [],
   "source": []
  },
  {
   "cell_type": "markdown",
   "id": "fb75cc91-ae06-459c-91e7-e6f219b0966f",
   "metadata": {},
   "source": [
    "Q8. What is the loss function used in AdaBoost algorithm?"
   ]
  },
  {
   "cell_type": "markdown",
   "id": "391f09e7-c5a2-4190-a485-ddacb8a5116a",
   "metadata": {},
   "source": []
  },
  {
   "cell_type": "code",
   "execution_count": null,
   "id": "b175f94a-9cb0-45d5-87c1-64df4c52212b",
   "metadata": {},
   "outputs": [],
   "source": []
  },
  {
   "cell_type": "markdown",
   "id": "ffe7f14b-5712-4298-a806-96999ef0ea1b",
   "metadata": {},
   "source": [
    "Q9. How does the AdaBoost algorithm update the weights of misclassified samples?"
   ]
  },
  {
   "cell_type": "markdown",
   "id": "1da7db81-ba64-4239-afdd-94bc64d39f61",
   "metadata": {},
   "source": []
  },
  {
   "cell_type": "code",
   "execution_count": null,
   "id": "bb28d160-d5d5-4f07-b50a-427920ac29fa",
   "metadata": {},
   "outputs": [],
   "source": []
  },
  {
   "cell_type": "markdown",
   "id": "feadce4e-3f76-424a-8f3d-b455d63cda2f",
   "metadata": {},
   "source": [
    "Q10. What is the effect of increasing the number of estimators in AdaBoost algorithm?"
   ]
  },
  {
   "cell_type": "markdown",
   "id": "1b183cb7-2613-4255-8ffe-5c0c6fed139f",
   "metadata": {},
   "source": []
  }
 ],
 "metadata": {
  "kernelspec": {
   "display_name": "Python 3 (ipykernel)",
   "language": "python",
   "name": "python3"
  },
  "language_info": {
   "codemirror_mode": {
    "name": "ipython",
    "version": 3
   },
   "file_extension": ".py",
   "mimetype": "text/x-python",
   "name": "python",
   "nbconvert_exporter": "python",
   "pygments_lexer": "ipython3",
   "version": "3.10.8"
  }
 },
 "nbformat": 4,
 "nbformat_minor": 5
}
