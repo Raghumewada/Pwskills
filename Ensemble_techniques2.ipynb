{
 "cells": [
  {
   "cell_type": "markdown",
   "id": "5e962bee-3bec-4259-8b05-da7ce32d719a",
   "metadata": {},
   "source": [
    "Q1. How does bagging reduce overfitting in decision trees?"
   ]
  },
  {
   "cell_type": "markdown",
   "id": "29a5ee67-fd29-48c3-a4e0-e87cd37926e7",
   "metadata": {},
   "source": [
    "Bagging reduces overfitting by averaging predictions from multiple trees trained on different subsets of the data, lowering variance and smoothing out anomalies."
   ]
  },
  {
   "cell_type": "code",
   "execution_count": null,
   "id": "5f267532-dae7-4a22-88e5-ac7f07c5443b",
   "metadata": {},
   "outputs": [],
   "source": []
  },
  {
   "cell_type": "markdown",
   "id": "847f12aa-3613-4f04-ad8a-0aeda5fb3915",
   "metadata": {},
   "source": [
    "Q2. What are the advantages and disadvantages of using different types of base learners in bagging?"
   ]
  },
  {
   "cell_type": "markdown",
   "id": "a32e5ea4-cda6-415a-9e81-2d0541d97394",
   "metadata": {},
   "source": [
    "- Advantages:\n",
    "    - Diverse learners can capture varied patterns, enhancing overall performance.\n",
    "    - Simple learners are computationally efficient.\n",
    "- Disadvantages:\n",
    "    - Complex learners can be expensive to train and hard to interpret.\n",
    "    - Some learners might not benefit significantly from aggregation."
   ]
  },
  {
   "cell_type": "code",
   "execution_count": null,
   "id": "22b5e414-1d3c-4051-b4e5-804df3d76778",
   "metadata": {},
   "outputs": [],
   "source": []
  },
  {
   "cell_type": "markdown",
   "id": "4f15146f-ab81-4e56-a160-490b40c81fd1",
   "metadata": {},
   "source": [
    "Q3. How does the choice of base learner affect the bias-variance tradeoff in bagging?"
   ]
  },
  {
   "cell_type": "markdown",
   "id": "ac192c7a-ecd0-482c-9a25-9d1c5e8b3c74",
   "metadata": {},
   "source": [
    "- Low-bias, high-variance learners (e.g., deep trees): Bagging reduces variance effectively, improving performance.\n",
    "- High-bias, low-variance learners (e.g., shallow trees): Bagging has less impact on reducing variance, slightly reducing bias."
   ]
  },
  {
   "cell_type": "code",
   "execution_count": null,
   "id": "c2db88d6-4042-44aa-9b48-9f790b6b3721",
   "metadata": {},
   "outputs": [],
   "source": []
  },
  {
   "cell_type": "markdown",
   "id": "3c851b34-90cb-4e4c-abec-b904bd3ba822",
   "metadata": {},
   "source": [
    "Q4. Can bagging be used for both classification and regression tasks? How does it differ in each case?"
   ]
  },
  {
   "cell_type": "markdown",
   "id": "635e68c8-7442-49e3-8122-ae538f0acf62",
   "metadata": {},
   "source": [
    "- Classification: Uses majority voting to aggregate predictions.\n",
    "Regression: Uses averaging to aggregate predictions."
   ]
  },
  {
   "cell_type": "code",
   "execution_count": null,
   "id": "1b7f4faf-95dd-426e-9217-cf4793d2ddd2",
   "metadata": {},
   "outputs": [],
   "source": []
  },
  {
   "cell_type": "markdown",
   "id": "8e0ebf8e-a40f-43ba-a5d8-5a5d4b565d82",
   "metadata": {},
   "source": [
    "Q5. What is the role of ensemble size in bagging? How many models should be included in the ensemble?"
   ]
  },
  {
   "cell_type": "markdown",
   "id": "b38b95fb-b3be-4b62-a70e-5ad58ff519d6",
   "metadata": {},
   "source": []
  },
  {
   "cell_type": "code",
   "execution_count": null,
   "id": "d31a5d65-1c1b-4fc9-b840-2baa894bbbcc",
   "metadata": {},
   "outputs": [],
   "source": []
  },
  {
   "cell_type": "markdown",
   "id": "dc458ada-785e-4559-b667-049114df3110",
   "metadata": {},
   "source": [
    "Q6. Can you provide an example of a real-world application of bagging in machine learning?"
   ]
  },
  {
   "cell_type": "markdown",
   "id": "634ac523-c5d3-4ad7-9804-a1b0b0e8599d",
   "metadata": {},
   "source": []
  }
 ],
 "metadata": {
  "kernelspec": {
   "display_name": "Python 3 (ipykernel)",
   "language": "python",
   "name": "python3"
  },
  "language_info": {
   "codemirror_mode": {
    "name": "ipython",
    "version": 3
   },
   "file_extension": ".py",
   "mimetype": "text/x-python",
   "name": "python",
   "nbconvert_exporter": "python",
   "pygments_lexer": "ipython3",
   "version": "3.10.8"
  }
 },
 "nbformat": 4,
 "nbformat_minor": 5
}
