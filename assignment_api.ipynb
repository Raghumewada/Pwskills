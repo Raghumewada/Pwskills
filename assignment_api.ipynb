{
 "cells": [
  {
   "cell_type": "markdown",
   "id": "fc6db805-7e42-4f63-b18e-86df010c5314",
   "metadata": {},
   "source": [
    "Q1. What is an API? Give an example, where an API is used in real life."
   ]
  },
  {
   "cell_type": "markdown",
   "id": "d0da1833-cee4-42a9-9251-bfb29a7bb124",
   "metadata": {},
   "source": [
    "API, or Application Programming Interface, is a set of rules and protocols that allows one software application or system to interact with another. It defines the methods and data formats that applications can use to request and exchange information, making it possible for different software components to communicate and work together. APIs are fundamental in modern software development, enabling developers to access services, libraries, or data provided by other applications or platforms.\n",
    "\n",
    "example: Weather Forecast API\n",
    "\n",
    "Suppose you want to build a weather application or website that provides users with current weather conditions and forecasts for their location. Collecting and updating weather data on your own would be complex and resource-intensive. Instead, you can use a Weather Forecast API to retrieve this information."
   ]
  },
  {
   "cell_type": "markdown",
   "id": "a084c3e7-0434-40a4-8523-4d56351784e7",
   "metadata": {},
   "source": [
    "Q2. Give advantages and disadvantages of using API."
   ]
  },
  {
   "cell_type": "markdown",
   "id": "ad6a11e4-d412-48b9-8219-dd1a552e5b90",
   "metadata": {},
   "source": [
    "Advantages of Using APIs:\n",
    "\n",
    "1. Modularity: APIs enable modular development and code reuse.\n",
    "2. Efficiency: They provide standardized, efficient communication.\n",
    "3. Access to Services: APIs grant access to external services and data.\n",
    "4. Cross-Platform Compatibility: They ensure compatibility across platforms.\n",
    "5. Security: APIs can be designed with secure access controls.\n",
    "6. Scalability: APIs can scale independently.\n",
    "7. Ecosystem Growth: They foster developer ecosystems.\n",
    "\n",
    "\n",
    "Disadvantages of Using APIs:\n",
    "\n",
    "1. Dependency: APIs create reliance on external providers.\n",
    "2. Performance: API calls introduce network latency.\n",
    "3. Data Privacy: Sharing user data raises privacy concerns.\n",
    "4. Costs: Some APIs have usage-based pricing.\n",
    "5. Versioning: APIs can change, requiring updates.\n",
    "6. Security Risks: Poorly secured APIs pose vulnerabilities.\n",
    "7. Limited Control: You have limited control over third-party APIs.\n",
    "8. Documentation Quality: Inconsistent documentation can be a challenge."
   ]
  },
  {
   "cell_type": "markdown",
   "id": "7e27d561-5969-4d14-9180-b43e77e19cc4",
   "metadata": {},
   "source": [
    "Q3. What is a Web API? Differentiate between API and Web API."
   ]
  },
  {
   "cell_type": "markdown",
   "id": "9c54496b-ec89-44c8-8c0d-252b0fe6ad85",
   "metadata": {},
   "source": [
    "Web API :-A Web API (Web Application Programming Interface) is a set of rules and protocols that allows different software applications to communicate and exchange data over the internet. It provides a standardized way for one software system to request and interact with services, resources, or data provided by another software system, typically over HTTP (Hypertext Transfer Protocol) or HTTPS (HTTP Secure).\n",
    "\n",
    "API (Application Programming Interface):\n",
    "\n",
    "1. Broad term for interfaces enabling software components to communicate.\n",
    "2. Can involve various communication methods, not limited to web.\n",
    "3. Used for both web and non-web applications.\n",
    "\n",
    "\n",
    "Web API (Web Application Programming Interface):\n",
    "\n",
    "1. Specifically designed for web-based communication.\n",
    "2. Typically uses HTTP/HTTPS as the communication protocol.\n",
    "3. Primarily used for enabling interactions between web applications and services over the internet."
   ]
  },
  {
   "cell_type": "markdown",
   "id": "50fcec29-f915-47e6-b265-842d469b5629",
   "metadata": {},
   "source": [
    "Q4. Explain REST and SOAP Architecture. Mention shortcomings of SOAP."
   ]
  },
  {
   "cell_type": "raw",
   "id": "70d47b07-fbc8-4d43-857e-41b30a32914f",
   "metadata": {},
   "source": [
    "REST (Representational State Transfer) Architecture:\n",
    "\n",
    "Simpler architectural style for networked applications.\n",
    "Uses standard HTTP methods (GET, POST, PUT, DELETE) for CRUD operations.\n",
    "Emphasizes statelessness, resources, and multiple representations.\n",
    "Well-suited for web and mobile applications.\n",
    "Lightweight, easy to understand, and widely adopted.\n",
    "SOAP (Simple Object Access Protocol) Architecture:\n",
    "\n",
    "Protocol for exchanging structured information in web services.\n",
    "Defines strict XML-based message format.\n",
    "Supports various protocols, including HTTP.\n",
    "Offers built-in standards for security and transactions.\n",
    "Complex and verbose messages compared to REST.\n",
    "Shortcomings of SOAP:\n",
    "\n",
    "Complexity and verbosity of XML-based messages.\n",
    "Performance overhead due to parsing and processing.\n",
    "Less human-readable and browser-unfriendly.\n",
    "Limited suitability for web and mobile applications.\n",
    "Requires strict adherence to standards, potentially leading to compatibility issues."
   ]
  },
  {
   "cell_type": "markdown",
   "id": "fbbc1131-07d3-40cb-8056-631fff9728a1",
   "metadata": {},
   "source": [
    "Q5. Differentiate between REST and SOAP."
   ]
  },
  {
   "cell_type": "code",
   "execution_count": null,
   "id": "90d913f4-dd72-4b6b-a6b7-58f2e382ebdd",
   "metadata": {},
   "outputs": [],
   "source": []
  }
 ],
 "metadata": {
  "kernelspec": {
   "display_name": "Python 3 (ipykernel)",
   "language": "python",
   "name": "python3"
  },
  "language_info": {
   "codemirror_mode": {
    "name": "ipython",
    "version": 3
   },
   "file_extension": ".py",
   "mimetype": "text/x-python",
   "name": "python",
   "nbconvert_exporter": "python",
   "pygments_lexer": "ipython3",
   "version": "3.10.8"
  }
 },
 "nbformat": 4,
 "nbformat_minor": 5
}
