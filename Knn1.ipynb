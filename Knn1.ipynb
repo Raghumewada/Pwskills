{
 "cells": [
  {
   "cell_type": "markdown",
   "id": "6f5daa96-6cc2-492b-b9e8-67a64e8b4e39",
   "metadata": {},
   "source": [
    "Q1. What is the KNN algorithm?"
   ]
  },
  {
   "cell_type": "markdown",
   "id": "5817f1c1-b914-45d6-a500-3a94ccd839f4",
   "metadata": {},
   "source": [
    "K-Nearest Neighbors (KNN) is a simple, instance-based learning algorithm used for classification and regression. It classifies or predicts the target value based on the majority label or average of the nearest K data points."
   ]
  },
  {
   "cell_type": "code",
   "execution_count": null,
   "id": "55f9082e-0b9b-407a-bd4b-609342bc2908",
   "metadata": {},
   "outputs": [],
   "source": []
  },
  {
   "cell_type": "markdown",
   "id": "219dbd63-5956-4b1e-bb60-649636c98058",
   "metadata": {},
   "source": [
    "Q2. How do you choose the value of K in KNN?"
   ]
  },
  {
   "cell_type": "markdown",
   "id": "0dfa3454-4202-423e-80a8-5c1f44cc7445",
   "metadata": {},
   "source": [
    "The value of K is chosen based on cross-validation. A small K can be noisy and lead to overfitting, while a large K can smooth out the predictions too much and lead to underfitting."
   ]
  },
  {
   "cell_type": "code",
   "execution_count": null,
   "id": "23b25aad-0bcf-494b-8678-0bd1ae1fc0cd",
   "metadata": {},
   "outputs": [],
   "source": []
  },
  {
   "cell_type": "markdown",
   "id": "4b3e5b9c-cd07-42c2-b2e4-e52af63e0248",
   "metadata": {},
   "source": [
    "Q3. What is the difference between KNN classifier and KNN regressor?"
   ]
  },
  {
   "cell_type": "markdown",
   "id": "50fe22a4-8051-424b-9266-65386237cf76",
   "metadata": {},
   "source": [
    "- KNN classifier: Predicts the class label based on the majority vote of the K nearest neighbors.\n",
    "- KNN regressor: Predicts the target value based on the average of the K nearest neighbors' values."
   ]
  },
  {
   "cell_type": "code",
   "execution_count": null,
   "id": "ece1fd76-f342-47ce-867b-cfd978d7d197",
   "metadata": {},
   "outputs": [],
   "source": []
  },
  {
   "cell_type": "markdown",
   "id": "a5afc306-f5f1-4e93-a249-964f710a80af",
   "metadata": {},
   "source": [
    "Q4. How do you measure the performance of KNN?"
   ]
  },
  {
   "cell_type": "markdown",
   "id": "adc483f4-2705-422f-bd7e-99bebc8000ba",
   "metadata": {},
   "source": [
    "Classification: Accuracy, precision, recall, F1-score, ROC-AUC.\n",
    "Regression: Mean squared error (MSE), mean absolute error (MAE), R-squared."
   ]
  },
  {
   "cell_type": "code",
   "execution_count": null,
   "id": "95090ee1-6776-4735-a271-2c7a682e61cf",
   "metadata": {},
   "outputs": [],
   "source": []
  },
  {
   "cell_type": "markdown",
   "id": "8f033037-7d4e-4257-a2c1-4d80f9235f9e",
   "metadata": {},
   "source": [
    "Q5. What is the curse of dimensionality in KNN?"
   ]
  },
  {
   "cell_type": "markdown",
   "id": "750e7254-a2c5-4a68-8c27-263f86222a9f",
   "metadata": {},
   "source": [
    "The curse of dimensionality refers to the phenomenon where the distance between data points becomes less meaningful as the number of dimensions increases, which can degrade the performance of KNN.o"
   ]
  },
  {
   "cell_type": "code",
   "execution_count": null,
   "id": "c63880fa-b688-4ee5-bff6-2e26130f5460",
   "metadata": {},
   "outputs": [],
   "source": []
  },
  {
   "cell_type": "markdown",
   "id": "df21795a-f315-4ccd-bd82-e16d260faf4d",
   "metadata": {},
   "source": [
    "Q6. How do you handle missing values in KNN?"
   ]
  },
  {
   "cell_type": "markdown",
   "id": "781f81db-0fa6-420b-93bc-23bc0f7d7aa7",
   "metadata": {},
   "source": []
  },
  {
   "cell_type": "code",
   "execution_count": null,
   "id": "48ce038a-7f66-46fd-8129-ebf6552bd658",
   "metadata": {},
   "outputs": [],
   "source": []
  },
  {
   "cell_type": "markdown",
   "id": "f81607a6-e2d2-45df-b22b-8cc4db39c1b9",
   "metadata": {},
   "source": [
    "Q7. Compare and contrast the performance of the KNN classifier and regressor. Which one is better for\n",
    "which type of problem?"
   ]
  },
  {
   "cell_type": "markdown",
   "id": "023915ec-8a5d-4eba-9810-c927c1159a10",
   "metadata": {},
   "source": []
  },
  {
   "cell_type": "code",
   "execution_count": null,
   "id": "5916cee9-1d52-46e5-b8b2-73803c57b95c",
   "metadata": {},
   "outputs": [],
   "source": []
  },
  {
   "cell_type": "markdown",
   "id": "ed6422d0-cec3-4a7b-b74e-467c56ea21e4",
   "metadata": {},
   "source": [
    "Q8. What are the strengths and weaknesses of the KNN algorithm for classification and regression tasks,\n",
    "and how can these be addressed?"
   ]
  },
  {
   "cell_type": "markdown",
   "id": "715b277a-e472-4158-a9c0-a3dcd2e9b4c5",
   "metadata": {},
   "source": []
  },
  {
   "cell_type": "code",
   "execution_count": null,
   "id": "4148f248-1c07-4295-bc9d-f1086d0be424",
   "metadata": {},
   "outputs": [],
   "source": []
  },
  {
   "cell_type": "markdown",
   "id": "915ae661-8f75-4733-94a7-4e935fcb71d3",
   "metadata": {},
   "source": [
    "Q9. What is the difference between Euclidean distance and Manhattan distance in KNN?"
   ]
  },
  {
   "cell_type": "markdown",
   "id": "47a8bce3-4ea1-4b8c-9fce-50a3e14eb95b",
   "metadata": {},
   "source": []
  },
  {
   "cell_type": "code",
   "execution_count": null,
   "id": "c9d52b96-d932-4511-a769-e8b74dbeb566",
   "metadata": {},
   "outputs": [],
   "source": []
  },
  {
   "cell_type": "markdown",
   "id": "84e96d2d-b241-4a1a-b7fe-be9247a003ba",
   "metadata": {},
   "source": [
    "Q10. What is the role of feature scaling in KNN?"
   ]
  },
  {
   "cell_type": "markdown",
   "id": "c82c9740-84dc-4441-96d4-217ef11ce852",
   "metadata": {},
   "source": []
  }
 ],
 "metadata": {
  "kernelspec": {
   "display_name": "Python 3 (ipykernel)",
   "language": "python",
   "name": "python3"
  },
  "language_info": {
   "codemirror_mode": {
    "name": "ipython",
    "version": 3
   },
   "file_extension": ".py",
   "mimetype": "text/x-python",
   "name": "python",
   "nbconvert_exporter": "python",
   "pygments_lexer": "ipython3",
   "version": "3.10.8"
  }
 },
 "nbformat": 4,
 "nbformat_minor": 5
}
