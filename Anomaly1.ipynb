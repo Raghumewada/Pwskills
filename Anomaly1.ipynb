{
 "cells": [
  {
   "cell_type": "markdown",
   "id": "3945708f-96b7-4138-995b-e91290e43ddd",
   "metadata": {},
   "source": [
    "Q1. What is anomaly detection and what is its purpose?"
   ]
  },
  {
   "cell_type": "markdown",
   "id": "fdbe109f-e259-48d0-b168-989c25943807",
   "metadata": {},
   "source": [
    "- Definition: Anomaly detection is the process of identifying unusual patterns or outliers in data that do not conform to expected behavior.\n",
    "- Purpose: Used to identify rare events or observations which deviate significantly from the majority of the data, often for purposes such as fraud detection, network security, and fault detection."
   ]
  },
  {
   "cell_type": "code",
   "execution_count": null,
   "id": "270e9571-bd91-4bf7-b95b-9a7b8fe8a872",
   "metadata": {},
   "outputs": [],
   "source": []
  },
  {
   "cell_type": "markdown",
   "id": "598de563-f2e8-451e-98d9-cfbfd2743c16",
   "metadata": {},
   "source": [
    "Q2. What are the key challenges in anomaly detection?"
   ]
  },
  {
   "cell_type": "markdown",
   "id": "dbee5097-67d1-4c08-9193-20731d7fc714",
   "metadata": {},
   "source": [
    "Challenges:\n",
    "- High-dimensional data.\n",
    "- Imbalanced datasets.\n",
    "- Variability of anomalies.\n",
    "- Lack of labeled data for supervised learning.\n",
    "- Noise in the data."
   ]
  },
  {
   "cell_type": "code",
   "execution_count": null,
   "id": "d0bf262f-37bf-4523-9379-7e3ead56b446",
   "metadata": {},
   "outputs": [],
   "source": []
  },
  {
   "cell_type": "markdown",
   "id": "1f0c5565-fb01-48cb-8c31-2458457eafe3",
   "metadata": {},
   "source": [
    "Q3. How does unsupervised anomaly detection differ from supervised anomaly detection?"
   ]
  },
  {
   "cell_type": "markdown",
   "id": "18a4cd14-3747-4e84-9d72-ebca3ba2299b",
   "metadata": {},
   "source": [
    "- Unsupervised Anomaly Detection: Does not require labeled training data; identifies anomalies based on deviations from the norm within the dataset.\n",
    "- Supervised Anomaly Detection: Requires labeled training data (normal vs. anomalous); builds a predictive model to classify future observations."
   ]
  },
  {
   "cell_type": "code",
   "execution_count": null,
   "id": "986412d8-8552-4289-9cc9-30dd9fec2eb5",
   "metadata": {},
   "outputs": [],
   "source": []
  },
  {
   "cell_type": "markdown",
   "id": "936d1e1e-b0f3-4e9a-9063-a5897dcfea79",
   "metadata": {},
   "source": [
    "Q4. What are the main categories of anomaly detection algorithms?"
   ]
  },
  {
   "cell_type": "markdown",
   "id": "f77c2406-c0d7-4881-89a4-197d7e25456a",
   "metadata": {},
   "source": [
    "Categories:\n",
    "- Statistical Methods: Assume a statistical distribution for the data and identify deviations.\n",
    "- Distance-Based Methods: Identify anomalies based on distance metrics (e.g., k-NN).\n",
    "- Density-Based Methods: Identify anomalies based on density (e.g., DBSCAN, LOF).\n",
    "- Model-Based Methods: Use machine learning models (e.g., Isolation Forest)."
   ]
  },
  {
   "cell_type": "code",
   "execution_count": null,
   "id": "15622e66-9009-4307-9b42-af1318ea24ee",
   "metadata": {},
   "outputs": [],
   "source": []
  },
  {
   "cell_type": "markdown",
   "id": "1915d52f-c19b-41a5-b00c-e4085d3dcec5",
   "metadata": {},
   "source": [
    "Q5. What are the main assumptions made by distance-based anomaly detection methods?"
   ]
  },
  {
   "cell_type": "markdown",
   "id": "5f778fd4-7dc8-4621-916a-09f3537baf13",
   "metadata": {},
   "source": [
    "Assumptions:\n",
    "- Normal data points are close to their neighbors.\n",
    "- Anomalous data points are far from their neighbors."
   ]
  },
  {
   "cell_type": "code",
   "execution_count": null,
   "id": "851ab473-def0-4991-b9c0-8810a15f1e00",
   "metadata": {},
   "outputs": [],
   "source": []
  },
  {
   "cell_type": "markdown",
   "id": "bb361fee-bcfb-47db-bed4-f4f3c9fc166a",
   "metadata": {},
   "source": [
    "Q6. How does the LOF algorithm compute anomaly scores?"
   ]
  },
  {
   "cell_type": "markdown",
   "id": "250cd275-6bb4-49f1-85ce-b0cc9ffdf710",
   "metadata": {},
   "source": [
    "Method: Local Outlier Factor (LOF) calculates the local density deviation of a data point compared to its neighbors. A point is an outlier if it has a significantly lower density than its neighbors."
   ]
  },
  {
   "cell_type": "code",
   "execution_count": null,
   "id": "21ff59ab-3ece-4290-a2e2-2b8754d19c76",
   "metadata": {},
   "outputs": [],
   "source": []
  },
  {
   "cell_type": "markdown",
   "id": "3d33eff1-0153-48c0-9262-552eae7551d7",
   "metadata": {},
   "source": [
    "Q7. What are the key parameters of the Isolation Forest algorithm?"
   ]
  },
  {
   "cell_type": "markdown",
   "id": "86a31a45-60d1-4973-a633-c7c3857a3622",
   "metadata": {},
   "source": [
    "Parameters:\n",
    "- Number of Trees (n_estimators): Number of isolation trees.\n",
    "- Subsample Size (max_samples): Number of samples to draw from the dataset to train each tree.\n",
    "- Contamination: Proportion of outliers in the dataset."
   ]
  },
  {
   "cell_type": "code",
   "execution_count": null,
   "id": "47b026f1-b370-41d7-9412-0a941d6c891e",
   "metadata": {},
   "outputs": [],
   "source": []
  },
  {
   "cell_type": "markdown",
   "id": "18d4c417-f103-4027-bfc5-b0a23cf71bbc",
   "metadata": {},
   "source": [
    "Q8. If a data point has only 2 neighbours of the same class within a radius of 0.5, what is its anomaly score\n",
    "using KNN with K=10?"
   ]
  },
  {
   "cell_type": "markdown",
   "id": "561cbaf0-70a4-4ec4-b00c-c31745d9dc09",
   "metadata": {},
   "source": [
    "Scenario: If a data point has only 2 neighbors of the same class within a radius of 0.5 and K=10, it likely has a high anomaly score because it lacks sufficient similar neighbors (8 are missing)."
   ]
  },
  {
   "cell_type": "code",
   "execution_count": null,
   "id": "6ae8b89b-5248-4af8-ba50-985a5b896f4b",
   "metadata": {},
   "outputs": [],
   "source": []
  },
  {
   "cell_type": "markdown",
   "id": "9782b177-ed36-4a0b-9c70-ad6f1c6a15d3",
   "metadata": {},
   "source": [
    "Q9. Using the Isolation Forest algorithm with 100 trees and a dataset of 3000 data points, what is the\n",
    "anomaly score for a data point that has an average path length of 5.0 compared to the average path\n",
    "length of the trees?"
   ]
  },
  {
   "cell_type": "markdown",
   "id": "3d92b1ae-ec13-4f6c-a73b-78603e4e2077",
   "metadata": {},
   "source": [
    "Calculation: The anomaly score is based on the path length. For a data point with an average path length of 5.0 in 100 trees:\n",
    "- Formula: Score=2 ^− avg_path_length/c(n), where c(n) is the average path length of an unsuccessful search in a binary tree for \n",
    "n samples.\n",
    "- Interpretation: If the path length is significantly shorter than the average, the point is more likely to be an anomaly. For a dataset of 3000 points, the average path length c(n) is approximately log2(3000)."
   ]
  },
  {
   "cell_type": "code",
   "execution_count": null,
   "id": "694c28f0-4a63-4904-8d76-1aa40d2b5de2",
   "metadata": {},
   "outputs": [],
   "source": []
  }
 ],
 "metadata": {
  "kernelspec": {
   "display_name": "Python 3 (ipykernel)",
   "language": "python",
   "name": "python3"
  },
  "language_info": {
   "codemirror_mode": {
    "name": "ipython",
    "version": 3
   },
   "file_extension": ".py",
   "mimetype": "text/x-python",
   "name": "python",
   "nbconvert_exporter": "python",
   "pygments_lexer": "ipython3",
   "version": "3.10.8"
  }
 },
 "nbformat": 4,
 "nbformat_minor": 5
}
