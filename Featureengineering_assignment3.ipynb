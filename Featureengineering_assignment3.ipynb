{
 "cells": [
  {
   "cell_type": "markdown",
   "id": "f666b073-d576-41b1-8e16-0b1be314d0e3",
   "metadata": {},
   "source": [
    "Q1. What is data encoding? How is it useful in data science?"
   ]
  },
  {
   "cell_type": "markdown",
   "id": "6a295577-fa8c-456b-aef7-1f8a10f96055",
   "metadata": {},
   "source": [
    "Ans:-Data encoding is the process of converting data from one form to another, typically from a human-readable format to a machine-readable format. In data science, encoding is useful for representing categorical data in a format that can be easily understood and processed by machine learning algorithms."
   ]
  },
  {
   "cell_type": "markdown",
   "id": "a016b038-35de-48e1-b8fc-e29e554b223e",
   "metadata": {},
   "source": [
    "Q2. What is nominal encoding? Provide an example of how you would use it in a real-world scenario."
   ]
  },
  {
   "cell_type": "markdown",
   "id": "0d1a48c1-9567-43a0-9ab5-a85983a881a2",
   "metadata": {},
   "source": [
    "Ans:-Nominal encoding, also known as label encoding, assigns a unique integer value to each category in a categorical variable. For example, in a scenario where you have a \"color\" variable with categories like \"red,\" \"green,\" and \"blue,\" you would assign integer values like 0, 1, and 2 respectively."
   ]
  },
  {
   "cell_type": "markdown",
   "id": "a29a1f9c-640e-43fe-bc8b-d365029288d5",
   "metadata": {},
   "source": [
    "Q3. In what situations is nominal encoding preferred over one-hot encoding? Provide a practical example."
   ]
  },
  {
   "cell_type": "markdown",
   "id": "b7bbd35c-347b-4af8-874e-6adffacdd461",
   "metadata": {},
   "source": [
    "Ans:-Nominal encoding is preferred over one-hot encoding when dealing with categorical variables with a large number of unique categories or when the categories have an inherent order or ranking.\n",
    "\n",
    "Practical example: Suppose you have a dataset with a \"weather\" variable that includes categories like \"sunny,\" \"cloudy,\" and \"rainy.\" Nominal encoding would assign integer values to each category without implying any order, which might be more appropriate if there's no inherent ranking among the weather conditions."
   ]
  },
  {
   "cell_type": "markdown",
   "id": "c3c1f560-d479-45e3-bbc7-fd416005f265",
   "metadata": {},
   "source": [
    "Q4. Suppose you have a dataset containing categorical data with 5 unique values. Which encoding\n",
    "technique would you use to transform this data into a format suitable for machine learning algorithms?\n",
    "Explain why you made this choice."
   ]
  },
  {
   "cell_type": "markdown",
   "id": "c22810cd-8417-4353-904c-1c557560dd31",
   "metadata": {},
   "source": [
    "Ans:-For a dataset with 5 unique values in a categorical variable, I would typically use nominal encoding. This is because nominal encoding assigns a unique integer to each category, which helps in representing the categorical data in a compact form suitable for machine learning algorithms"
   ]
  },
  {
   "cell_type": "markdown",
   "id": "a7bf04a4-aaf6-4975-8d7c-da48fe9c1a04",
   "metadata": {},
   "source": [
    "Q5. In a machine learning project, you have a dataset with 1000 rows and 5 columns. Two of the columns\n",
    "are categorical, and the remaining three columns are numerical. If you were to use nominal encoding to\n",
    "transform the categorical data, how many new columns would be created? Show your calculations."
   ]
  },
  {
   "cell_type": "markdown",
   "id": "d48627ef-9231-456f-9c23-a23e0ffdf3ba",
   "metadata": {},
   "source": [
    "Ans:- If you have 2 categorical columns and you're using nominal encoding, each column will be transformed into a single new column containing the integer codes. So, for 2 categorical columns, you would create 2 new columns in total."
   ]
  },
  {
   "cell_type": "markdown",
   "id": "eb3be35d-0c05-423f-8ea1-2b9c9339bac7",
   "metadata": {},
   "source": []
  },
  {
   "cell_type": "markdown",
   "id": "470b5b8c-344b-467c-bfea-c72e748553d7",
   "metadata": {},
   "source": [
    "Ans:-"
   ]
  },
  {
   "cell_type": "markdown",
   "id": "fedfd701-593b-4d90-b8df-6ff57def39d6",
   "metadata": {},
   "source": []
  },
  {
   "cell_type": "markdown",
   "id": "5767eb7b-76d7-4c05-ac09-50586dad282f",
   "metadata": {},
   "source": [
    "Ans:-"
   ]
  },
  {
   "cell_type": "markdown",
   "id": "f89b540e-2418-465f-a2db-e2eecd168721",
   "metadata": {},
   "source": []
  },
  {
   "cell_type": "markdown",
   "id": "77c8cb69-24a6-4e3a-9aa9-0cc5f27aab2f",
   "metadata": {},
   "source": [
    "Ans:-"
   ]
  }
 ],
 "metadata": {
  "kernelspec": {
   "display_name": "Python 3 (ipykernel)",
   "language": "python",
   "name": "python3"
  },
  "language_info": {
   "codemirror_mode": {
    "name": "ipython",
    "version": 3
   },
   "file_extension": ".py",
   "mimetype": "text/x-python",
   "name": "python",
   "nbconvert_exporter": "python",
   "pygments_lexer": "ipython3",
   "version": "3.10.8"
  }
 },
 "nbformat": 4,
 "nbformat_minor": 5
}
