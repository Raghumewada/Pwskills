{
 "cells": [
  {
   "cell_type": "markdown",
   "id": "2c38e8f6-9736-4142-b7e0-13c9301b1eb3",
   "metadata": {},
   "source": [
    "Q1: What are the Probability Mass Function (PMF) and Probability Density Function (PDF)? Explain with\n",
    "an example."
   ]
  },
  {
   "cell_type": "markdown",
   "id": "aa31f556-8aec-47b7-b55d-4424d60efded",
   "metadata": {},
   "source": [
    "- PMF: Used for discrete random variables. It gives the probability that a random variable is exactly equal to some value.\n",
    "\n",
    "    - Example: Rolling a die. The PMF of rolling a 3 is P(X=3)= 1/6\n",
    "    \n",
    "    \n",
    "- PDF: Used for continuous random variables. It gives the density of the probability at a specific value.\n",
    "\n",
    "    - Example: Heights of people. The PDF of height at 170 cm in a given population can be computed using a normal distribution function."
   ]
  },
  {
   "cell_type": "code",
   "execution_count": null,
   "id": "2530a813-7f15-4cfc-8bc6-b6d3f9fc8e1a",
   "metadata": {},
   "outputs": [],
   "source": []
  },
  {
   "cell_type": "markdown",
   "id": "b7c3b550-a375-47e9-b489-291fa99334d9",
   "metadata": {},
   "source": [
    "Q2: What is Cumulative Density Function (CDF)? Explain with an example. Why CDF is used?"
   ]
  },
  {
   "cell_type": "markdown",
   "id": "9e48200f-f667-4e76-8cae-1c33dab5b997",
   "metadata": {},
   "source": [
    "- Definition: CDF of a random variable X is the probability that X will take a value less than or equal to x.\n",
    "- Example: For a normal distribution with mean 0 and standard deviation 1, F(1) is the probability that X≤1.\n",
    "- Importance: Used to determine probabilities for intervals and to understand the distribution of a random variable."
   ]
  },
  {
   "cell_type": "code",
   "execution_count": null,
   "id": "0bb1ae17-39b6-46a8-a19a-4866f5f063d3",
   "metadata": {},
   "outputs": [],
   "source": []
  },
  {
   "cell_type": "markdown",
   "id": "78d728ae-74b6-4230-b1fe-468adfee32c5",
   "metadata": {},
   "source": [
    "Q3: What are some examples of situations where the normal distribution might be used as a model?\n",
    "Explain how the parameters of the normal distribution relate to the shape of the distribution."
   ]
  },
  {
   "cell_type": "markdown",
   "id": "10e39e70-068a-4953-a3a4-1c01f0b252b5",
   "metadata": {},
   "source": [
    "- Examples:\n",
    "    - Heights of individuals\n",
    "    - Test scores\n",
    "    - Measurement errors\n",
    "- Parameters:\n",
    "    - Mean (𝜇): Location of the center of the distribution.\n",
    "    - Standard Deviation (σ): Spread or width of the distribution."
   ]
  },
  {
   "cell_type": "code",
   "execution_count": null,
   "id": "3bcd19f7-ec14-47b2-b230-c2e0c80c801f",
   "metadata": {},
   "outputs": [],
   "source": []
  },
  {
   "cell_type": "markdown",
   "id": "04a1aa0c-36f1-430f-979d-837592945e75",
   "metadata": {},
   "source": [
    "Q4: Explain the importance of Normal Distribution. Give a few real-life examples of Normal\n",
    "Distribution."
   ]
  },
  {
   "cell_type": "markdown",
   "id": "6b402cb5-ce32-43b7-a8ac-00bb1e4b6a91",
   "metadata": {},
   "source": [
    "- Importance: Many real-life phenomena naturally follow a normal distribution. It simplifies analysis due to its well-known properties.\n",
    "- Examples:\n",
    "    - IQ scores\n",
    "    - Blood pressure measurements\n",
    "    - Stock returns"
   ]
  },
  {
   "cell_type": "code",
   "execution_count": null,
   "id": "0f8e47c3-5283-4ce4-b590-471bf17f0bf4",
   "metadata": {},
   "outputs": [],
   "source": []
  },
  {
   "cell_type": "markdown",
   "id": "b750b2d5-5b44-4768-950f-b376f0da91a7",
   "metadata": {},
   "source": [
    "Q5: What is Bernaulli Distribution? Give an Example. What is the difference between Bernoulli\n",
    "Distribution and Binomial Distribution?"
   ]
  },
  {
   "cell_type": "markdown",
   "id": "b4fa221f-850c-4ba1-9850-fac7ef56fa2a",
   "metadata": {},
   "source": [
    "- Definition: Represents the outcome of a single trial with two possible outcomes (success/failure).\n",
    "- Example: Flipping a coin (success = heads).\n",
    "- Difference:\n",
    "    - Bernoulli Distribution: Single trial.\n",
    "    - Binomial Distribution: Sum of multiple independent Bernoulli trials."
   ]
  },
  {
   "cell_type": "code",
   "execution_count": null,
   "id": "78bbedc1-edac-4291-9066-c40a965c0c33",
   "metadata": {},
   "outputs": [],
   "source": []
  },
  {
   "cell_type": "markdown",
   "id": "cbf94678-4377-4774-a667-1d8f9c3251ee",
   "metadata": {},
   "source": [
    "Q6. Consider a dataset with a mean of 50 and a standard deviation of 10. If we assume that the dataset\n",
    "is normally distributed, what is the probability that a randomly selected observation will be greater\n",
    "than 60? Use the appropriate formula and show your calculations."
   ]
  },
  {
   "cell_type": "markdown",
   "id": "06515bb0-976b-4619-8a3c-0dc82fffd999",
   "metadata": {},
   "source": [
    "- Given: Mean (μ) = 50, Standard Deviation (σ) = 10.\n",
    "- Z-score: Z= 60−50/10 =1.\n",
    "- Probability: P(X>60)=1−P(Z≤1)≈1−0.8413=0.1587."
   ]
  },
  {
   "cell_type": "code",
   "execution_count": null,
   "id": "ea32f629-8bc5-471e-9623-8e83cf4224c0",
   "metadata": {},
   "outputs": [],
   "source": []
  },
  {
   "cell_type": "markdown",
   "id": "a8209e21-c1b4-4109-9b76-8dd103f9e6e5",
   "metadata": {},
   "source": [
    "Q7: Explain uniform Distribution with an example."
   ]
  },
  {
   "cell_type": "markdown",
   "id": "4c5ed3eb-ccf4-4bef-9de5-cc496ac98e14",
   "metadata": {},
   "source": [
    "Definition: All outcomes are equally likely within a given range.\n",
    "Example: Rolling a fair die, where each face (1 through 6) has an equal probability of 1 /6."
   ]
  },
  {
   "cell_type": "code",
   "execution_count": null,
   "id": "a69384f1-7369-4ec6-b9ab-7be93b01599a",
   "metadata": {},
   "outputs": [],
   "source": []
  },
  {
   "cell_type": "markdown",
   "id": "0dd77bd8-8b2a-4239-a48c-27cc344a13c0",
   "metadata": {},
   "source": [
    "Q8: What is the z score? State the importance of the z score."
   ]
  },
  {
   "cell_type": "markdown",
   "id": "78586a0f-dce2-4f69-a128-e00b7e608891",
   "metadata": {},
   "source": [
    "- Definition: Measures how many standard deviations an element is from the mean.\n",
    "- Importance:\n",
    "    - Standardizes scores from different distributions.\n",
    "    - Facilitates comparison.\n",
    "    - Identifies outliers."
   ]
  },
  {
   "cell_type": "code",
   "execution_count": null,
   "id": "cb290950-350c-471d-924c-7a1ff69d51e4",
   "metadata": {},
   "outputs": [],
   "source": []
  },
  {
   "cell_type": "markdown",
   "id": "6a0717bd-084d-4e08-88de-73f71e88c19d",
   "metadata": {},
   "source": [
    "Q9: What is Central Limit Theorem? State the significance of the Central Limit Theorem."
   ]
  },
  {
   "cell_type": "markdown",
   "id": "8be75f22-576d-48fb-ba0b-2bc2179c86f1",
   "metadata": {},
   "source": [
    "- Definition: For a sufficiently large sample size, the sampling distribution of the sample mean will be approximately normally distributed, regardless of the population distribution.\n",
    "- Significance:\n",
    "    - Allows the use of normal distribution techniques for inference on the sample mean.\n",
    "Justifies the normal approximation in many statistical methods."
   ]
  },
  {
   "cell_type": "code",
   "execution_count": null,
   "id": "d07d3c18-ebdb-4924-a2f2-97d24b9ac181",
   "metadata": {},
   "outputs": [],
   "source": []
  },
  {
   "cell_type": "markdown",
   "id": "8c1a00ca-4beb-48b3-93cc-1de05ca46b61",
   "metadata": {},
   "source": [
    "Q10: State the assumptions of the Central Limit Theorem."
   ]
  },
  {
   "cell_type": "markdown",
   "id": "818cf637-9f5c-4c6a-bae1-903caa56079d",
   "metadata": {},
   "source": []
  }
 ],
 "metadata": {
  "kernelspec": {
   "display_name": "Python 3 (ipykernel)",
   "language": "python",
   "name": "python3"
  },
  "language_info": {
   "codemirror_mode": {
    "name": "ipython",
    "version": 3
   },
   "file_extension": ".py",
   "mimetype": "text/x-python",
   "name": "python",
   "nbconvert_exporter": "python",
   "pygments_lexer": "ipython3",
   "version": "3.10.8"
  }
 },
 "nbformat": 4,
 "nbformat_minor": 5
}
