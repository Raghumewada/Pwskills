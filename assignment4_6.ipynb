{
 "cells": [
  {
   "cell_type": "markdown",
   "id": "a517add5-fcdb-4133-95d2-9b8447d582c4",
   "metadata": {},
   "source": [
    "Q1. Explain Class and Object with respect to Object-Oriented Programming. Give a suitable example."
   ]
  },
  {
   "cell_type": "markdown",
   "id": "b885a312-1f7d-4c6c-ab4a-f2d7a29fcf3c",
   "metadata": {},
   "source": [
    "Class:-A class is a blueprint or a template for creating objects. It defines the attributes (properties) and behaviors (methods) that objects of that class will have.\n",
    "\n",
    "Object:- An object is an instance of a class. It is a concrete entity created based on the blueprint provided by the class."
   ]
  },
  {
   "cell_type": "code",
   "execution_count": 5,
   "id": "a259b235-0296-402d-8379-0333642474d1",
   "metadata": {},
   "outputs": [],
   "source": [
    "class person:\n",
    "    def __init__(self,name,age):\n",
    "        self.name=name\n",
    "        self.age=age\n",
    "        \n",
    "    def msg(self):\n",
    "        print(f\"Hello my name is (elf.name) and my age is (self.age)\")"
   ]
  },
  {
   "cell_type": "code",
   "execution_count": 6,
   "id": "ef1d7d5c-10c7-408f-a6b0-b8f9150c5aa5",
   "metadata": {},
   "outputs": [],
   "source": [
    "p1=person(\"raghu\",20)"
   ]
  },
  {
   "cell_type": "code",
   "execution_count": 7,
   "id": "60dc5057-dd13-4f94-b368-20a5a52104ed",
   "metadata": {},
   "outputs": [
    {
     "data": {
      "text/plain": [
       "'raghu'"
      ]
     },
     "execution_count": 7,
     "metadata": {},
     "output_type": "execute_result"
    }
   ],
   "source": [
    "p1.name"
   ]
  },
  {
   "cell_type": "code",
   "execution_count": 8,
   "id": "492d60a1-d8d7-48bd-b30a-998d4a914b10",
   "metadata": {},
   "outputs": [
    {
     "data": {
      "text/plain": [
       "20"
      ]
     },
     "execution_count": 8,
     "metadata": {},
     "output_type": "execute_result"
    }
   ],
   "source": [
    "p1.age"
   ]
  },
  {
   "cell_type": "markdown",
   "id": "06035b66-aa79-4662-af4b-9c9f49a2e97e",
   "metadata": {},
   "source": [
    "Q2. Name the four pillars of OOPs."
   ]
  },
  {
   "cell_type": "markdown",
   "id": "69b1e768-2342-403c-a35e-37ed5ef9a509",
   "metadata": {},
   "source": [
    "The four pillars of Object-Oriented Programming (OOP) are:\n",
    "   \n",
    "Encapsulation:- It restricts direct access to some of an object's components and prevents the accidental modification of data\n",
    "\n",
    "Inheritance:- Inheritance is a mechanism that allows one class to inherit the properties and methods of another class\n",
    "\n",
    "Polymorphism:- Polymorphism is the ability of different objects to respond to the same method or message in a way that is specific to their individual classes.\n",
    "\n",
    "Abstraction: Abstraction is the process of simplifying complex reality by modeling classes based on the essential properties and behaviors they possess."
   ]
  },
  {
   "cell_type": "markdown",
   "id": "2c38d12a-dea6-4dc2-8b31-b8941e00ca44",
   "metadata": {},
   "source": [
    "Q3. Explain why the __init__() function is used. Give a suitable example."
   ]
  },
  {
   "cell_type": "markdown",
   "id": "e851aa36-e341-4574-a1e1-da2c2a333e2f",
   "metadata": {},
   "source": [
    "It is a special method that gets automatically called when you create a new object from a class. The primary purpose of __init__() is to set the initial state of the object by assigning values to its attributes."
   ]
  },
  {
   "cell_type": "code",
   "execution_count": 9,
   "id": "9748a449-6430-4d2b-8c42-6737119c336a",
   "metadata": {},
   "outputs": [],
   "source": [
    "class pwskill:\n",
    "    \n",
    "    def __init__(self,course_name,course_price):\n",
    "        self.course_name=course_name\n",
    "        self.course_price=course_price\n",
    "        \n",
    "    def course_details(self):\n",
    "        return self.course_name,self.course_price"
   ]
  },
  {
   "cell_type": "code",
   "execution_count": 10,
   "id": "0682ba90-bc1e-44d5-aa73-cc5d941169d6",
   "metadata": {},
   "outputs": [],
   "source": [
    "pw=pwskill(\"data science\",3500)"
   ]
  },
  {
   "cell_type": "code",
   "execution_count": 12,
   "id": "7c5b1ee1-628d-4037-8796-c02fc001122f",
   "metadata": {},
   "outputs": [
    {
     "data": {
      "text/plain": [
       "('data science', 3500)"
      ]
     },
     "execution_count": 12,
     "metadata": {},
     "output_type": "execute_result"
    }
   ],
   "source": [
    "pw.course_details()"
   ]
  },
  {
   "cell_type": "markdown",
   "id": "8549178f-45fe-4d01-a39f-57d3fd9e661c",
   "metadata": {},
   "source": [
    "Q4. Why self is used in OOPs?"
   ]
  },
  {
   "cell_type": "markdown",
   "id": "b9d4712d-a880-4a1f-a9bc-b0a75469aac0",
   "metadata": {},
   "source": [
    "In object-oriented programming (OOP), self is a reference to the current instance of a class. It is used within class methods to access and modify the attributes and methods of that instance"
   ]
  },
  {
   "cell_type": "markdown",
   "id": "27972887-5b3c-41f1-8344-bd21331ee5b1",
   "metadata": {},
   "source": [
    "Q5. What is inheritance? Give an example for each type of inheritance."
   ]
  },
  {
   "cell_type": "markdown",
   "id": "44ef7bb9-7892-47e0-86d1-723d0ea3e488",
   "metadata": {},
   "source": [
    "Inheritance is one of the fundamental concepts in object-oriented programming (OOP). It allows you to create a new class that inherits properties (attributes) and behaviors (methods) from an existing class"
   ]
  },
  {
   "cell_type": "markdown",
   "id": "4d3ce614-15c4-406e-bbe7-0d4b9a0fbcb6",
   "metadata": {},
   "source": [
    "Single Inheritance:"
   ]
  },
  {
   "cell_type": "code",
   "execution_count": 13,
   "id": "7f998ef0-1ad6-4664-8bfe-48e01cec6eff",
   "metadata": {},
   "outputs": [],
   "source": [
    "class Animal:\n",
    "    def speak(self):\n",
    "        pass\n",
    "\n",
    "class Dog(Animal):\n",
    "    def speak(self):\n",
    "        return \"Woof!\"\n"
   ]
  },
  {
   "cell_type": "markdown",
   "id": "492be3a8-b8af-4d84-95e2-e1258253cd00",
   "metadata": {},
   "source": [
    "Multiple Inheritance"
   ]
  },
  {
   "cell_type": "code",
   "execution_count": 14,
   "id": "306a6e32-667c-4352-8327-a1f3bff3f6bb",
   "metadata": {},
   "outputs": [],
   "source": [
    "class Bird:\n",
    "    def fly(self):\n",
    "        pass\n",
    "\n",
    "class Fish:\n",
    "    def swim(self):\n",
    "        pass\n",
    "\n",
    "class FlyingFish(Bird, Fish):\n",
    "    pass\n",
    "\n"
   ]
  },
  {
   "cell_type": "markdown",
   "id": "5f871b94-b3f4-440d-a909-bc8b5b4e2592",
   "metadata": {},
   "source": [
    "Multilevel Inheritance"
   ]
  },
  {
   "cell_type": "code",
   "execution_count": 15,
   "id": "e83c26e1-a718-48bc-be5c-8a65ea76cf27",
   "metadata": {},
   "outputs": [],
   "source": [
    "class Grandparent:\n",
    "    pass\n",
    "\n",
    "class Parent(Grandparent):\n",
    "    pass\n",
    "\n",
    "class Child(Parent):\n",
    "    pass\n"
   ]
  },
  {
   "cell_type": "markdown",
   "id": "96749d3d-d119-4ba1-ae9a-6fbdd200798d",
   "metadata": {},
   "source": [
    "Hierarchical Inheritance"
   ]
  },
  {
   "cell_type": "code",
   "execution_count": 16,
   "id": "bb3b83a2-0785-438d-90ca-ef0904c81599",
   "metadata": {},
   "outputs": [],
   "source": [
    "class Vehicle:\n",
    "    pass\n",
    "\n",
    "class Car(Vehicle):\n",
    "    pass\n",
    "\n",
    "class Bike(Vehicle):\n",
    "    pass\n"
   ]
  },
  {
   "cell_type": "code",
   "execution_count": null,
   "id": "851c41a3-f5da-4ca4-a2ed-9d0c07a68828",
   "metadata": {},
   "outputs": [],
   "source": []
  }
 ],
 "metadata": {
  "kernelspec": {
   "display_name": "Python 3 (ipykernel)",
   "language": "python",
   "name": "python3"
  },
  "language_info": {
   "codemirror_mode": {
    "name": "ipython",
    "version": 3
   },
   "file_extension": ".py",
   "mimetype": "text/x-python",
   "name": "python",
   "nbconvert_exporter": "python",
   "pygments_lexer": "ipython3",
   "version": "3.10.8"
  }
 },
 "nbformat": 4,
 "nbformat_minor": 5
}
